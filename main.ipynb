{
  "nbformat": 4,
  "nbformat_minor": 0,
  "metadata": {
    "colab": {
      "provenance": [],
      "collapsed_sections": [
        "OrpTnip-TY_w",
        "EaCQWfgMUtCc",
        "bQiko3ixUJQn",
        "CU3ofGv1b628",
        "NWpFqR_Kl4s5",
        "kpE4epzHhMCf",
        "1849yqqrSRRK",
        "FXNsK61bmDGt",
        "RYEI9rMtp_nt",
        "t32yGmDt94xz",
        "ifCzOZI7-P-t",
        "oSNSnce_BHew",
        "YWwqqbgvFva5",
        "0ZnChyBeThAd",
        "khsJE4vEudoN",
        "lDVouREYZWFO",
        "Iwl01nV8ZWFQ",
        "-U2TyW4aZWFR",
        "lReulq7UZWFU",
        "kvfeNplMZWFW",
        "A5t9mICZZWFZ",
        "-oY6-NNAZWFb",
        "Ymvj96ugZWFd",
        "zW8MnpWiZWFf",
        "TgU1cYy2ZWFh",
        "A05xIoksZWFi",
        "9FVorHVwlsj7",
        "mG2Tuv4dl13Y",
        "8Z12pahol13Z",
        "HwBtVDo5l13Z",
        "EcE_bpZnl13Z",
        "qLTVSqNpl13a",
        "F3sShiccl13c",
        "hwH_KqPAl13d",
        "QABYzjJ8l13d",
        "rZ4d-_odl13f",
        "JezlrNUGl13f",
        "RfhgMCkLl13g",
        "cpcqJamll13h",
        "padvO9LAl13h",
        "qPDZk2dKl13h",
        "d_QKZTJCl13i",
        "pZgrhPV6l13i",
        "OSx-dI9sl13j",
        "TlkQIDuEl13j",
        "_P0RMzijl13j",
        "ycSnKp2Al13k",
        "7km811OCl13l",
        "7XC0Jb7Xl13m"
      ],
      "mount_file_id": "1pGEbDNaO33ziDDhM13HNkBiF0e9oOsq0",
      "authorship_tag": "ABX9TyPnZPpAu+DuglpTg4byAuwt",
      "include_colab_link": true
    },
    "kernelspec": {
      "name": "python3",
      "display_name": "Python 3"
    },
    "language_info": {
      "name": "python"
    }
  },
  "cells": [
    {
      "cell_type": "markdown",
      "metadata": {
        "id": "view-in-github",
        "colab_type": "text"
      },
      "source": [
        "<a href=\"https://colab.research.google.com/github/abinioluwa/Discretised-vs-Continuous-Models-For-Predicting-Alzheimer-s-Disease-/blob/main/main.ipynb\" target=\"_parent\"><img src=\"https://colab.research.google.com/assets/colab-badge.svg\" alt=\"Open In Colab\"/></a>"
      ]
    },
    {
      "cell_type": "code",
      "execution_count": null,
      "metadata": {
        "id": "9PJaAKxtwI1Y"
      },
      "outputs": [],
      "source": [
        "# @title\n",
        "# import pandas for data manipulation and analysis\n",
        "import pandas as pd\n",
        "import numpy as np\n",
        "\n",
        "# import matplotlib and seaborn for data visualisation\n",
        "import matplotlib.pyplot as plt\n",
        "import seaborn as sns\n",
        "\n",
        "# import libraries for data processsing\n",
        "from sklearn.model_selection import train_test_split\n",
        "from sklearn.feature_selection import mutual_info_classif\n",
        "\n",
        "# import machine learning (ML) algorithms\n",
        "from sklearn.ensemble import RandomForestClassifier\n",
        "from sklearn.svm import SVC\n",
        "from sklearn.naive_bayes import GaussianNB\n",
        "from sklearn.neighbors import KNeighborsClassifier\n",
        "\n",
        "# import evaluation metrics\n",
        "from sklearn.metrics import accuracy_score, classification_report\n",
        "from sklearn.metrics import confusion_matrix\n",
        "from sklearn.metrics import RocCurveDisplay"
      ]
    },
    {
      "cell_type": "markdown",
      "source": [
        "\n",
        "\n",
        "# Loading the Dataset"
      ],
      "metadata": {
        "id": "OrpTnip-TY_w"
      }
    },
    {
      "cell_type": "code",
      "source": [
        "# @title\n",
        "# mount google drive\n",
        "# from google.colab import drive\n",
        "# drive.mount('/content/drive')\n",
        "\n",
        "# import the dataset\n",
        "df = pd.read_csv(\"/content/drive/MyDrive/Colab Notebooks/investigator_nacc66.csv\") # replace with file path on your machine\n",
        "\n",
        "# Define list of infomartive features\n",
        "features = ['NACCID','NACCVNUM', 'NACCBMI', 'BPSYS','BPDIAS', 'HRATE', 'VISION', 'VISCORR', 'VISWCORR','HEARING', 'HEARAID', 'HEARWAID', 'MEMORY',\n",
        "            'ORIENT','JUDGMENT','COMMUN','HOMEHOBB','PERSCARE','COMPORT','CDRLANG',\n",
        "\n",
        "            'TOBAC30', 'TOBAC100', 'SMOKYRS','PACKSPER','ALCOCCAS','QUITSMOK','ALCFREQ','CVHATT','HATTMULT','HATTYEAR','CVAFIB', 'CVANGIO', 'CVBYPASS',\n",
        "            'CVPACDEF','CVPACE','CVCHF','CVANGINA','CVHVALVE','CVOTHR','CVOTHRX','CBSTROKE','STROKMUL','NACCSTYR','CBTIA','TIAMULT','NACCTIYR','PD',\n",
        "            'PDYR','PDOTHR','PDOTHRYR','SEIZURES','NACCTBI', 'TBI','TBIBRIEF','TRAUMBRF','TBIEXTEN','TRAUMEXT','TBIWOLOS','TRAUMCHR','TBIYEAR','NCOTHR',\n",
        "            'NCOTHRX', 'DIABETES','DIABTYPE','HYPERTEN','HYPERCHO','B12DEF','THYROID','ARTHRIT','ARTHTYPE','ARTHTYPX','ARTHUPEX','ARTHLOEX','ARTHSPIN',\n",
        "            'ARTHUNK','INCONTU','INCONTF','APNEA','RBD','INSOMN','OTHSLEEP','OTHSLEEX','ALCOHOL','ABUSOTHR','ABUSX','PTSD','BIPOLAR','SCHIZ','DEP2YRS',\n",
        "            'DEPOTHR','ANXIETY','OCD','NPSYDEV','PSYCDIS', 'PSYCDISX',\n",
        "\n",
        "            'NOGDS','SATIS','DROPACT','EMPTY','BORED','SPIRITS','AFRAID','HAPPY','HELPLESS','STAYHOME','MEMPROB','WONDRFUL','WRTHLESS','ENERGY',\n",
        "            'HOPELESS', 'BETTER','NACCGDS','NPIQINF','NPIQINFX','DEL','DELSEV','HALL','HALLSEV','AGIT','AGITSEV','DEPD','DEPDSEV','ANX','ANXSEV','ELAT',\n",
        "            'ELATSEV', 'APA','APASEV','DISN','DISNSEV','IRR','IRRSEV','MOT','MOTSEV','NITE','NITESEV','APP','APPSEV','BILLS','TAXES','SHOPPING','GAMES',\n",
        "            'STOVE','MEALPREP','EVENTS','PAYATTN','TRAVEL',\n",
        "\n",
        "            'SEX','HISPANIC','HISPOR','HISPORX','RACE','RACEX','RACESEC','RACESECX','RACETER','RACETERX','PRIMLANG','PRIMLANX','EDUC','MARISTAT',\n",
        "            'NACCLIVS','INDEPEND', 'RESIDENC','HANDED','NACCAGE','NACCNIHR','NACCUDSD']\n",
        "df = df[features]\n",
        "df.head()"
      ],
      "metadata": {
        "id": "sUhABAj_70nv",
        "colab": {
          "base_uri": "https://localhost:8080/"
        },
        "outputId": "57c86e5b-67a2-4573-e196-81a58e0cfaee"
      },
      "execution_count": null,
      "outputs": [
        {
          "output_type": "stream",
          "name": "stderr",
          "text": [
            "<ipython-input-2-909008f31064>:6: DtypeWarning: Columns (20,22,24,26,28,41,44,46,48,51,61,63,65,67,69,71,88,89,90,91,92,93,94,95,96,97,98,99,100,101,102,103,104,105,106,107,108,109,110,111,112,113,114,134,156,165,176,179,189,217,220,222,224,226,228,230,232,234,236,238,240,242,244,246,248,250,252,254,256,258,260,262,264,266,268,270,272,382,397,399,401,419,421,423,432,445,454,494,574,605,613,638,674,690,704,707,710,715,727,738,744,746,803,804,809,810,811,812,820,831,833,835,837,843,904,959,960,961,969,970,971,972,982,1004,1007,1010) have mixed types. Specify dtype option on import or set low_memory=False.\n",
            "  df = pd.read_csv(\"/content/drive/MyDrive/Colab Notebooks/investigator_nacc66.csv\") # replace with file path on your machine\n"
          ]
        },
        {
          "output_type": "execute_result",
          "data": {
            "text/plain": [
              "       NACCID  NACCVNUM  NACCBMI  BPSYS  BPDIAS  HRATE  VISION  VISCORR  \\\n",
              "0  NACC002909         1     32.4  160.0    85.0   59.0       0        1   \n",
              "1  NACC002909         2     30.7  175.0    84.0   54.0       0        1   \n",
              "2  NACC003487         1     23.7  149.0    86.0   83.0       9        9   \n",
              "3  NACC004352         1    888.8  888.0   888.0  888.0       1        0   \n",
              "4  NACC004687         1     19.0  148.0    75.0   70.0       0        1   \n",
              "\n",
              "   VISWCORR  HEARING  ...  PRIMLANX  EDUC  MARISTAT  NACCLIVS  INDEPEND  \\\n",
              "0         1        1  ...       NaN    16         1         4         1   \n",
              "1         1        1  ...       NaN    16         1         2         1   \n",
              "2        -4        1  ...       NaN    16         1         2         1   \n",
              "3         8        1  ...       NaN    16         1         2         2   \n",
              "4         1        0  ...       NaN    12         3         1         1   \n",
              "\n",
              "   RESIDENC  HANDED  NACCAGE  NACCNIHR  NACCUDSD  \n",
              "0         1       2       70         1         3  \n",
              "1         1       2       71         1         3  \n",
              "2         1       2       66         1         1  \n",
              "3         1       2       63         1         4  \n",
              "4         1       2       77         1         1  \n",
              "\n",
              "[5 rows x 168 columns]"
            ],
            "text/html": [
              "\n",
              "  <div id=\"df-bad332f0-86d2-4e17-b8d0-b186fd7df001\" class=\"colab-df-container\">\n",
              "    <div>\n",
              "<style scoped>\n",
              "    .dataframe tbody tr th:only-of-type {\n",
              "        vertical-align: middle;\n",
              "    }\n",
              "\n",
              "    .dataframe tbody tr th {\n",
              "        vertical-align: top;\n",
              "    }\n",
              "\n",
              "    .dataframe thead th {\n",
              "        text-align: right;\n",
              "    }\n",
              "</style>\n",
              "<table border=\"1\" class=\"dataframe\">\n",
              "  <thead>\n",
              "    <tr style=\"text-align: right;\">\n",
              "      <th></th>\n",
              "      <th>NACCID</th>\n",
              "      <th>NACCVNUM</th>\n",
              "      <th>NACCBMI</th>\n",
              "      <th>BPSYS</th>\n",
              "      <th>BPDIAS</th>\n",
              "      <th>HRATE</th>\n",
              "      <th>VISION</th>\n",
              "      <th>VISCORR</th>\n",
              "      <th>VISWCORR</th>\n",
              "      <th>HEARING</th>\n",
              "      <th>...</th>\n",
              "      <th>PRIMLANX</th>\n",
              "      <th>EDUC</th>\n",
              "      <th>MARISTAT</th>\n",
              "      <th>NACCLIVS</th>\n",
              "      <th>INDEPEND</th>\n",
              "      <th>RESIDENC</th>\n",
              "      <th>HANDED</th>\n",
              "      <th>NACCAGE</th>\n",
              "      <th>NACCNIHR</th>\n",
              "      <th>NACCUDSD</th>\n",
              "    </tr>\n",
              "  </thead>\n",
              "  <tbody>\n",
              "    <tr>\n",
              "      <th>0</th>\n",
              "      <td>NACC002909</td>\n",
              "      <td>1</td>\n",
              "      <td>32.4</td>\n",
              "      <td>160.0</td>\n",
              "      <td>85.0</td>\n",
              "      <td>59.0</td>\n",
              "      <td>0</td>\n",
              "      <td>1</td>\n",
              "      <td>1</td>\n",
              "      <td>1</td>\n",
              "      <td>...</td>\n",
              "      <td>NaN</td>\n",
              "      <td>16</td>\n",
              "      <td>1</td>\n",
              "      <td>4</td>\n",
              "      <td>1</td>\n",
              "      <td>1</td>\n",
              "      <td>2</td>\n",
              "      <td>70</td>\n",
              "      <td>1</td>\n",
              "      <td>3</td>\n",
              "    </tr>\n",
              "    <tr>\n",
              "      <th>1</th>\n",
              "      <td>NACC002909</td>\n",
              "      <td>2</td>\n",
              "      <td>30.7</td>\n",
              "      <td>175.0</td>\n",
              "      <td>84.0</td>\n",
              "      <td>54.0</td>\n",
              "      <td>0</td>\n",
              "      <td>1</td>\n",
              "      <td>1</td>\n",
              "      <td>1</td>\n",
              "      <td>...</td>\n",
              "      <td>NaN</td>\n",
              "      <td>16</td>\n",
              "      <td>1</td>\n",
              "      <td>2</td>\n",
              "      <td>1</td>\n",
              "      <td>1</td>\n",
              "      <td>2</td>\n",
              "      <td>71</td>\n",
              "      <td>1</td>\n",
              "      <td>3</td>\n",
              "    </tr>\n",
              "    <tr>\n",
              "      <th>2</th>\n",
              "      <td>NACC003487</td>\n",
              "      <td>1</td>\n",
              "      <td>23.7</td>\n",
              "      <td>149.0</td>\n",
              "      <td>86.0</td>\n",
              "      <td>83.0</td>\n",
              "      <td>9</td>\n",
              "      <td>9</td>\n",
              "      <td>-4</td>\n",
              "      <td>1</td>\n",
              "      <td>...</td>\n",
              "      <td>NaN</td>\n",
              "      <td>16</td>\n",
              "      <td>1</td>\n",
              "      <td>2</td>\n",
              "      <td>1</td>\n",
              "      <td>1</td>\n",
              "      <td>2</td>\n",
              "      <td>66</td>\n",
              "      <td>1</td>\n",
              "      <td>1</td>\n",
              "    </tr>\n",
              "    <tr>\n",
              "      <th>3</th>\n",
              "      <td>NACC004352</td>\n",
              "      <td>1</td>\n",
              "      <td>888.8</td>\n",
              "      <td>888.0</td>\n",
              "      <td>888.0</td>\n",
              "      <td>888.0</td>\n",
              "      <td>1</td>\n",
              "      <td>0</td>\n",
              "      <td>8</td>\n",
              "      <td>1</td>\n",
              "      <td>...</td>\n",
              "      <td>NaN</td>\n",
              "      <td>16</td>\n",
              "      <td>1</td>\n",
              "      <td>2</td>\n",
              "      <td>2</td>\n",
              "      <td>1</td>\n",
              "      <td>2</td>\n",
              "      <td>63</td>\n",
              "      <td>1</td>\n",
              "      <td>4</td>\n",
              "    </tr>\n",
              "    <tr>\n",
              "      <th>4</th>\n",
              "      <td>NACC004687</td>\n",
              "      <td>1</td>\n",
              "      <td>19.0</td>\n",
              "      <td>148.0</td>\n",
              "      <td>75.0</td>\n",
              "      <td>70.0</td>\n",
              "      <td>0</td>\n",
              "      <td>1</td>\n",
              "      <td>1</td>\n",
              "      <td>0</td>\n",
              "      <td>...</td>\n",
              "      <td>NaN</td>\n",
              "      <td>12</td>\n",
              "      <td>3</td>\n",
              "      <td>1</td>\n",
              "      <td>1</td>\n",
              "      <td>1</td>\n",
              "      <td>2</td>\n",
              "      <td>77</td>\n",
              "      <td>1</td>\n",
              "      <td>1</td>\n",
              "    </tr>\n",
              "  </tbody>\n",
              "</table>\n",
              "<p>5 rows × 168 columns</p>\n",
              "</div>\n",
              "    <div class=\"colab-df-buttons\">\n",
              "\n",
              "  <div class=\"colab-df-container\">\n",
              "    <button class=\"colab-df-convert\" onclick=\"convertToInteractive('df-bad332f0-86d2-4e17-b8d0-b186fd7df001')\"\n",
              "            title=\"Convert this dataframe to an interactive table.\"\n",
              "            style=\"display:none;\">\n",
              "\n",
              "  <svg xmlns=\"http://www.w3.org/2000/svg\" height=\"24px\" viewBox=\"0 -960 960 960\">\n",
              "    <path d=\"M120-120v-720h720v720H120Zm60-500h600v-160H180v160Zm220 220h160v-160H400v160Zm0 220h160v-160H400v160ZM180-400h160v-160H180v160Zm440 0h160v-160H620v160ZM180-180h160v-160H180v160Zm440 0h160v-160H620v160Z\"/>\n",
              "  </svg>\n",
              "    </button>\n",
              "\n",
              "  <style>\n",
              "    .colab-df-container {\n",
              "      display:flex;\n",
              "      gap: 12px;\n",
              "    }\n",
              "\n",
              "    .colab-df-convert {\n",
              "      background-color: #E8F0FE;\n",
              "      border: none;\n",
              "      border-radius: 50%;\n",
              "      cursor: pointer;\n",
              "      display: none;\n",
              "      fill: #1967D2;\n",
              "      height: 32px;\n",
              "      padding: 0 0 0 0;\n",
              "      width: 32px;\n",
              "    }\n",
              "\n",
              "    .colab-df-convert:hover {\n",
              "      background-color: #E2EBFA;\n",
              "      box-shadow: 0px 1px 2px rgba(60, 64, 67, 0.3), 0px 1px 3px 1px rgba(60, 64, 67, 0.15);\n",
              "      fill: #174EA6;\n",
              "    }\n",
              "\n",
              "    .colab-df-buttons div {\n",
              "      margin-bottom: 4px;\n",
              "    }\n",
              "\n",
              "    [theme=dark] .colab-df-convert {\n",
              "      background-color: #3B4455;\n",
              "      fill: #D2E3FC;\n",
              "    }\n",
              "\n",
              "    [theme=dark] .colab-df-convert:hover {\n",
              "      background-color: #434B5C;\n",
              "      box-shadow: 0px 1px 3px 1px rgba(0, 0, 0, 0.15);\n",
              "      filter: drop-shadow(0px 1px 2px rgba(0, 0, 0, 0.3));\n",
              "      fill: #FFFFFF;\n",
              "    }\n",
              "  </style>\n",
              "\n",
              "    <script>\n",
              "      const buttonEl =\n",
              "        document.querySelector('#df-bad332f0-86d2-4e17-b8d0-b186fd7df001 button.colab-df-convert');\n",
              "      buttonEl.style.display =\n",
              "        google.colab.kernel.accessAllowed ? 'block' : 'none';\n",
              "\n",
              "      async function convertToInteractive(key) {\n",
              "        const element = document.querySelector('#df-bad332f0-86d2-4e17-b8d0-b186fd7df001');\n",
              "        const dataTable =\n",
              "          await google.colab.kernel.invokeFunction('convertToInteractive',\n",
              "                                                    [key], {});\n",
              "        if (!dataTable) return;\n",
              "\n",
              "        const docLinkHtml = 'Like what you see? Visit the ' +\n",
              "          '<a target=\"_blank\" href=https://colab.research.google.com/notebooks/data_table.ipynb>data table notebook</a>'\n",
              "          + ' to learn more about interactive tables.';\n",
              "        element.innerHTML = '';\n",
              "        dataTable['output_type'] = 'display_data';\n",
              "        await google.colab.output.renderOutput(dataTable, element);\n",
              "        const docLink = document.createElement('div');\n",
              "        docLink.innerHTML = docLinkHtml;\n",
              "        element.appendChild(docLink);\n",
              "      }\n",
              "    </script>\n",
              "  </div>\n",
              "\n",
              "\n",
              "<div id=\"df-ef6c591c-4eb6-4474-96e1-7aaff2e094db\">\n",
              "  <button class=\"colab-df-quickchart\" onclick=\"quickchart('df-ef6c591c-4eb6-4474-96e1-7aaff2e094db')\"\n",
              "            title=\"Suggest charts\"\n",
              "            style=\"display:none;\">\n",
              "\n",
              "<svg xmlns=\"http://www.w3.org/2000/svg\" height=\"24px\"viewBox=\"0 0 24 24\"\n",
              "     width=\"24px\">\n",
              "    <g>\n",
              "        <path d=\"M19 3H5c-1.1 0-2 .9-2 2v14c0 1.1.9 2 2 2h14c1.1 0 2-.9 2-2V5c0-1.1-.9-2-2-2zM9 17H7v-7h2v7zm4 0h-2V7h2v10zm4 0h-2v-4h2v4z\"/>\n",
              "    </g>\n",
              "</svg>\n",
              "  </button>\n",
              "\n",
              "<style>\n",
              "  .colab-df-quickchart {\n",
              "      --bg-color: #E8F0FE;\n",
              "      --fill-color: #1967D2;\n",
              "      --hover-bg-color: #E2EBFA;\n",
              "      --hover-fill-color: #174EA6;\n",
              "      --disabled-fill-color: #AAA;\n",
              "      --disabled-bg-color: #DDD;\n",
              "  }\n",
              "\n",
              "  [theme=dark] .colab-df-quickchart {\n",
              "      --bg-color: #3B4455;\n",
              "      --fill-color: #D2E3FC;\n",
              "      --hover-bg-color: #434B5C;\n",
              "      --hover-fill-color: #FFFFFF;\n",
              "      --disabled-bg-color: #3B4455;\n",
              "      --disabled-fill-color: #666;\n",
              "  }\n",
              "\n",
              "  .colab-df-quickchart {\n",
              "    background-color: var(--bg-color);\n",
              "    border: none;\n",
              "    border-radius: 50%;\n",
              "    cursor: pointer;\n",
              "    display: none;\n",
              "    fill: var(--fill-color);\n",
              "    height: 32px;\n",
              "    padding: 0;\n",
              "    width: 32px;\n",
              "  }\n",
              "\n",
              "  .colab-df-quickchart:hover {\n",
              "    background-color: var(--hover-bg-color);\n",
              "    box-shadow: 0 1px 2px rgba(60, 64, 67, 0.3), 0 1px 3px 1px rgba(60, 64, 67, 0.15);\n",
              "    fill: var(--button-hover-fill-color);\n",
              "  }\n",
              "\n",
              "  .colab-df-quickchart-complete:disabled,\n",
              "  .colab-df-quickchart-complete:disabled:hover {\n",
              "    background-color: var(--disabled-bg-color);\n",
              "    fill: var(--disabled-fill-color);\n",
              "    box-shadow: none;\n",
              "  }\n",
              "\n",
              "  .colab-df-spinner {\n",
              "    border: 2px solid var(--fill-color);\n",
              "    border-color: transparent;\n",
              "    border-bottom-color: var(--fill-color);\n",
              "    animation:\n",
              "      spin 1s steps(1) infinite;\n",
              "  }\n",
              "\n",
              "  @keyframes spin {\n",
              "    0% {\n",
              "      border-color: transparent;\n",
              "      border-bottom-color: var(--fill-color);\n",
              "      border-left-color: var(--fill-color);\n",
              "    }\n",
              "    20% {\n",
              "      border-color: transparent;\n",
              "      border-left-color: var(--fill-color);\n",
              "      border-top-color: var(--fill-color);\n",
              "    }\n",
              "    30% {\n",
              "      border-color: transparent;\n",
              "      border-left-color: var(--fill-color);\n",
              "      border-top-color: var(--fill-color);\n",
              "      border-right-color: var(--fill-color);\n",
              "    }\n",
              "    40% {\n",
              "      border-color: transparent;\n",
              "      border-right-color: var(--fill-color);\n",
              "      border-top-color: var(--fill-color);\n",
              "    }\n",
              "    60% {\n",
              "      border-color: transparent;\n",
              "      border-right-color: var(--fill-color);\n",
              "    }\n",
              "    80% {\n",
              "      border-color: transparent;\n",
              "      border-right-color: var(--fill-color);\n",
              "      border-bottom-color: var(--fill-color);\n",
              "    }\n",
              "    90% {\n",
              "      border-color: transparent;\n",
              "      border-bottom-color: var(--fill-color);\n",
              "    }\n",
              "  }\n",
              "</style>\n",
              "\n",
              "  <script>\n",
              "    async function quickchart(key) {\n",
              "      const quickchartButtonEl =\n",
              "        document.querySelector('#' + key + ' button');\n",
              "      quickchartButtonEl.disabled = true;  // To prevent multiple clicks.\n",
              "      quickchartButtonEl.classList.add('colab-df-spinner');\n",
              "      try {\n",
              "        const charts = await google.colab.kernel.invokeFunction(\n",
              "            'suggestCharts', [key], {});\n",
              "      } catch (error) {\n",
              "        console.error('Error during call to suggestCharts:', error);\n",
              "      }\n",
              "      quickchartButtonEl.classList.remove('colab-df-spinner');\n",
              "      quickchartButtonEl.classList.add('colab-df-quickchart-complete');\n",
              "    }\n",
              "    (() => {\n",
              "      let quickchartButtonEl =\n",
              "        document.querySelector('#df-ef6c591c-4eb6-4474-96e1-7aaff2e094db button');\n",
              "      quickchartButtonEl.style.display =\n",
              "        google.colab.kernel.accessAllowed ? 'block' : 'none';\n",
              "    })();\n",
              "  </script>\n",
              "</div>\n",
              "\n",
              "    </div>\n",
              "  </div>\n"
            ],
            "application/vnd.google.colaboratory.intrinsic+json": {
              "type": "dataframe",
              "variable_name": "df"
            }
          },
          "metadata": {},
          "execution_count": 2
        }
      ]
    },
    {
      "cell_type": "markdown",
      "source": [
        "# Understanding the Dataset"
      ],
      "metadata": {
        "id": "EaCQWfgMUtCc"
      }
    },
    {
      "cell_type": "code",
      "source": [
        "# @title\n",
        "df.info()\n",
        "df.describe()"
      ],
      "metadata": {
        "colab": {
          "base_uri": "https://localhost:8080/"
        },
        "id": "3jqAImLwXsm4",
        "outputId": "7c588933-8b1a-49fb-8ea5-fb5cdf20eb47"
      },
      "execution_count": null,
      "outputs": [
        {
          "output_type": "stream",
          "name": "stdout",
          "text": [
            "<class 'pandas.core.frame.DataFrame'>\n",
            "RangeIndex: 192088 entries, 0 to 192087\n",
            "Columns: 168 entries, NACCID to NACCUDSD\n",
            "dtypes: float64(12), int64(143), object(13)\n",
            "memory usage: 246.2+ MB\n"
          ]
        },
        {
          "output_type": "execute_result",
          "data": {
            "text/plain": [
              "            NACCVNUM        NACCBMI          BPSYS         BPDIAS  \\\n",
              "count  192088.000000  192088.000000  191605.000000  191605.000000   \n",
              "mean        3.804173      83.692539     168.575011     121.846335   \n",
              "std         3.074937     222.034640     203.609393     212.468475   \n",
              "min         1.000000      -4.000000      -4.000000      -4.000000   \n",
              "25%         1.000000      22.100000     115.000000      64.000000   \n",
              "50%         3.000000      25.800000     130.000000      73.000000   \n",
              "75%         5.000000      30.300000     146.000000      82.000000   \n",
              "max        19.000000     888.800000     888.000000     888.000000   \n",
              "\n",
              "               HRATE         VISION        VISCORR       VISWCORR  \\\n",
              "count  191605.000000  192088.000000  192088.000000  192088.000000   \n",
              "mean      114.266110      -0.151701       0.242165       1.583071   \n",
              "std       210.673684       1.890663       1.914084       3.567958   \n",
              "min        -4.000000      -4.000000      -4.000000      -4.000000   \n",
              "25%        57.000000       0.000000       0.000000       1.000000   \n",
              "50%        66.000000       0.000000       1.000000       1.000000   \n",
              "75%        76.000000       1.000000       1.000000       1.000000   \n",
              "max       888.000000       9.000000       9.000000       9.000000   \n",
              "\n",
              "             HEARING        HEARAID  ...       PRIMLANG           EDUC  \\\n",
              "count  192088.000000  192088.000000  ...  192088.000000  192088.000000   \n",
              "mean        0.235736      -0.287545  ...       1.177382      15.969904   \n",
              "std         1.969774       1.754880  ...       0.930529       6.726524   \n",
              "min        -4.000000      -4.000000  ...       1.000000       0.000000   \n",
              "25%         0.000000       0.000000  ...       1.000000      13.000000   \n",
              "50%         1.000000       0.000000  ...       1.000000      16.000000   \n",
              "75%         1.000000       0.000000  ...       1.000000      18.000000   \n",
              "max         9.000000       9.000000  ...       9.000000      99.000000   \n",
              "\n",
              "            MARISTAT       NACCLIVS       INDEPEND       RESIDENC  \\\n",
              "count  192088.000000  192088.000000  192088.000000  192088.000000   \n",
              "mean        1.776988       2.004774       1.539310       1.295760   \n",
              "std         1.289254       0.900989       0.968471       1.105787   \n",
              "min         1.000000       1.000000       1.000000       1.000000   \n",
              "25%         1.000000       1.000000       1.000000       1.000000   \n",
              "50%         1.000000       2.000000       1.000000       1.000000   \n",
              "75%         2.000000       2.000000       2.000000       1.000000   \n",
              "max         9.000000       9.000000       9.000000       9.000000   \n",
              "\n",
              "              HANDED        NACCAGE       NACCNIHR       NACCUDSD  \n",
              "count  192088.000000  192088.000000  192088.000000  192088.000000  \n",
              "mean        1.977755      74.403529       2.647245       2.283948  \n",
              "std         0.602375      10.300006      11.125252       1.328937  \n",
              "min         1.000000      18.000000       1.000000       1.000000  \n",
              "25%         2.000000      68.000000       1.000000       1.000000  \n",
              "50%         2.000000      75.000000       1.000000       2.000000  \n",
              "75%         2.000000      81.000000       1.000000       4.000000  \n",
              "max         9.000000     110.000000      99.000000       4.000000  \n",
              "\n",
              "[8 rows x 155 columns]"
            ],
            "text/html": [
              "\n",
              "  <div id=\"df-69f1c000-d33a-4912-a83d-2b31c24319b5\" class=\"colab-df-container\">\n",
              "    <div>\n",
              "<style scoped>\n",
              "    .dataframe tbody tr th:only-of-type {\n",
              "        vertical-align: middle;\n",
              "    }\n",
              "\n",
              "    .dataframe tbody tr th {\n",
              "        vertical-align: top;\n",
              "    }\n",
              "\n",
              "    .dataframe thead th {\n",
              "        text-align: right;\n",
              "    }\n",
              "</style>\n",
              "<table border=\"1\" class=\"dataframe\">\n",
              "  <thead>\n",
              "    <tr style=\"text-align: right;\">\n",
              "      <th></th>\n",
              "      <th>NACCVNUM</th>\n",
              "      <th>NACCBMI</th>\n",
              "      <th>BPSYS</th>\n",
              "      <th>BPDIAS</th>\n",
              "      <th>HRATE</th>\n",
              "      <th>VISION</th>\n",
              "      <th>VISCORR</th>\n",
              "      <th>VISWCORR</th>\n",
              "      <th>HEARING</th>\n",
              "      <th>HEARAID</th>\n",
              "      <th>...</th>\n",
              "      <th>PRIMLANG</th>\n",
              "      <th>EDUC</th>\n",
              "      <th>MARISTAT</th>\n",
              "      <th>NACCLIVS</th>\n",
              "      <th>INDEPEND</th>\n",
              "      <th>RESIDENC</th>\n",
              "      <th>HANDED</th>\n",
              "      <th>NACCAGE</th>\n",
              "      <th>NACCNIHR</th>\n",
              "      <th>NACCUDSD</th>\n",
              "    </tr>\n",
              "  </thead>\n",
              "  <tbody>\n",
              "    <tr>\n",
              "      <th>count</th>\n",
              "      <td>192088.000000</td>\n",
              "      <td>192088.000000</td>\n",
              "      <td>191605.000000</td>\n",
              "      <td>191605.000000</td>\n",
              "      <td>191605.000000</td>\n",
              "      <td>192088.000000</td>\n",
              "      <td>192088.000000</td>\n",
              "      <td>192088.000000</td>\n",
              "      <td>192088.000000</td>\n",
              "      <td>192088.000000</td>\n",
              "      <td>...</td>\n",
              "      <td>192088.000000</td>\n",
              "      <td>192088.000000</td>\n",
              "      <td>192088.000000</td>\n",
              "      <td>192088.000000</td>\n",
              "      <td>192088.000000</td>\n",
              "      <td>192088.000000</td>\n",
              "      <td>192088.000000</td>\n",
              "      <td>192088.000000</td>\n",
              "      <td>192088.000000</td>\n",
              "      <td>192088.000000</td>\n",
              "    </tr>\n",
              "    <tr>\n",
              "      <th>mean</th>\n",
              "      <td>3.804173</td>\n",
              "      <td>83.692539</td>\n",
              "      <td>168.575011</td>\n",
              "      <td>121.846335</td>\n",
              "      <td>114.266110</td>\n",
              "      <td>-0.151701</td>\n",
              "      <td>0.242165</td>\n",
              "      <td>1.583071</td>\n",
              "      <td>0.235736</td>\n",
              "      <td>-0.287545</td>\n",
              "      <td>...</td>\n",
              "      <td>1.177382</td>\n",
              "      <td>15.969904</td>\n",
              "      <td>1.776988</td>\n",
              "      <td>2.004774</td>\n",
              "      <td>1.539310</td>\n",
              "      <td>1.295760</td>\n",
              "      <td>1.977755</td>\n",
              "      <td>74.403529</td>\n",
              "      <td>2.647245</td>\n",
              "      <td>2.283948</td>\n",
              "    </tr>\n",
              "    <tr>\n",
              "      <th>std</th>\n",
              "      <td>3.074937</td>\n",
              "      <td>222.034640</td>\n",
              "      <td>203.609393</td>\n",
              "      <td>212.468475</td>\n",
              "      <td>210.673684</td>\n",
              "      <td>1.890663</td>\n",
              "      <td>1.914084</td>\n",
              "      <td>3.567958</td>\n",
              "      <td>1.969774</td>\n",
              "      <td>1.754880</td>\n",
              "      <td>...</td>\n",
              "      <td>0.930529</td>\n",
              "      <td>6.726524</td>\n",
              "      <td>1.289254</td>\n",
              "      <td>0.900989</td>\n",
              "      <td>0.968471</td>\n",
              "      <td>1.105787</td>\n",
              "      <td>0.602375</td>\n",
              "      <td>10.300006</td>\n",
              "      <td>11.125252</td>\n",
              "      <td>1.328937</td>\n",
              "    </tr>\n",
              "    <tr>\n",
              "      <th>min</th>\n",
              "      <td>1.000000</td>\n",
              "      <td>-4.000000</td>\n",
              "      <td>-4.000000</td>\n",
              "      <td>-4.000000</td>\n",
              "      <td>-4.000000</td>\n",
              "      <td>-4.000000</td>\n",
              "      <td>-4.000000</td>\n",
              "      <td>-4.000000</td>\n",
              "      <td>-4.000000</td>\n",
              "      <td>-4.000000</td>\n",
              "      <td>...</td>\n",
              "      <td>1.000000</td>\n",
              "      <td>0.000000</td>\n",
              "      <td>1.000000</td>\n",
              "      <td>1.000000</td>\n",
              "      <td>1.000000</td>\n",
              "      <td>1.000000</td>\n",
              "      <td>1.000000</td>\n",
              "      <td>18.000000</td>\n",
              "      <td>1.000000</td>\n",
              "      <td>1.000000</td>\n",
              "    </tr>\n",
              "    <tr>\n",
              "      <th>25%</th>\n",
              "      <td>1.000000</td>\n",
              "      <td>22.100000</td>\n",
              "      <td>115.000000</td>\n",
              "      <td>64.000000</td>\n",
              "      <td>57.000000</td>\n",
              "      <td>0.000000</td>\n",
              "      <td>0.000000</td>\n",
              "      <td>1.000000</td>\n",
              "      <td>0.000000</td>\n",
              "      <td>0.000000</td>\n",
              "      <td>...</td>\n",
              "      <td>1.000000</td>\n",
              "      <td>13.000000</td>\n",
              "      <td>1.000000</td>\n",
              "      <td>1.000000</td>\n",
              "      <td>1.000000</td>\n",
              "      <td>1.000000</td>\n",
              "      <td>2.000000</td>\n",
              "      <td>68.000000</td>\n",
              "      <td>1.000000</td>\n",
              "      <td>1.000000</td>\n",
              "    </tr>\n",
              "    <tr>\n",
              "      <th>50%</th>\n",
              "      <td>3.000000</td>\n",
              "      <td>25.800000</td>\n",
              "      <td>130.000000</td>\n",
              "      <td>73.000000</td>\n",
              "      <td>66.000000</td>\n",
              "      <td>0.000000</td>\n",
              "      <td>1.000000</td>\n",
              "      <td>1.000000</td>\n",
              "      <td>1.000000</td>\n",
              "      <td>0.000000</td>\n",
              "      <td>...</td>\n",
              "      <td>1.000000</td>\n",
              "      <td>16.000000</td>\n",
              "      <td>1.000000</td>\n",
              "      <td>2.000000</td>\n",
              "      <td>1.000000</td>\n",
              "      <td>1.000000</td>\n",
              "      <td>2.000000</td>\n",
              "      <td>75.000000</td>\n",
              "      <td>1.000000</td>\n",
              "      <td>2.000000</td>\n",
              "    </tr>\n",
              "    <tr>\n",
              "      <th>75%</th>\n",
              "      <td>5.000000</td>\n",
              "      <td>30.300000</td>\n",
              "      <td>146.000000</td>\n",
              "      <td>82.000000</td>\n",
              "      <td>76.000000</td>\n",
              "      <td>1.000000</td>\n",
              "      <td>1.000000</td>\n",
              "      <td>1.000000</td>\n",
              "      <td>1.000000</td>\n",
              "      <td>0.000000</td>\n",
              "      <td>...</td>\n",
              "      <td>1.000000</td>\n",
              "      <td>18.000000</td>\n",
              "      <td>2.000000</td>\n",
              "      <td>2.000000</td>\n",
              "      <td>2.000000</td>\n",
              "      <td>1.000000</td>\n",
              "      <td>2.000000</td>\n",
              "      <td>81.000000</td>\n",
              "      <td>1.000000</td>\n",
              "      <td>4.000000</td>\n",
              "    </tr>\n",
              "    <tr>\n",
              "      <th>max</th>\n",
              "      <td>19.000000</td>\n",
              "      <td>888.800000</td>\n",
              "      <td>888.000000</td>\n",
              "      <td>888.000000</td>\n",
              "      <td>888.000000</td>\n",
              "      <td>9.000000</td>\n",
              "      <td>9.000000</td>\n",
              "      <td>9.000000</td>\n",
              "      <td>9.000000</td>\n",
              "      <td>9.000000</td>\n",
              "      <td>...</td>\n",
              "      <td>9.000000</td>\n",
              "      <td>99.000000</td>\n",
              "      <td>9.000000</td>\n",
              "      <td>9.000000</td>\n",
              "      <td>9.000000</td>\n",
              "      <td>9.000000</td>\n",
              "      <td>9.000000</td>\n",
              "      <td>110.000000</td>\n",
              "      <td>99.000000</td>\n",
              "      <td>4.000000</td>\n",
              "    </tr>\n",
              "  </tbody>\n",
              "</table>\n",
              "<p>8 rows × 155 columns</p>\n",
              "</div>\n",
              "    <div class=\"colab-df-buttons\">\n",
              "\n",
              "  <div class=\"colab-df-container\">\n",
              "    <button class=\"colab-df-convert\" onclick=\"convertToInteractive('df-69f1c000-d33a-4912-a83d-2b31c24319b5')\"\n",
              "            title=\"Convert this dataframe to an interactive table.\"\n",
              "            style=\"display:none;\">\n",
              "\n",
              "  <svg xmlns=\"http://www.w3.org/2000/svg\" height=\"24px\" viewBox=\"0 -960 960 960\">\n",
              "    <path d=\"M120-120v-720h720v720H120Zm60-500h600v-160H180v160Zm220 220h160v-160H400v160Zm0 220h160v-160H400v160ZM180-400h160v-160H180v160Zm440 0h160v-160H620v160ZM180-180h160v-160H180v160Zm440 0h160v-160H620v160Z\"/>\n",
              "  </svg>\n",
              "    </button>\n",
              "\n",
              "  <style>\n",
              "    .colab-df-container {\n",
              "      display:flex;\n",
              "      gap: 12px;\n",
              "    }\n",
              "\n",
              "    .colab-df-convert {\n",
              "      background-color: #E8F0FE;\n",
              "      border: none;\n",
              "      border-radius: 50%;\n",
              "      cursor: pointer;\n",
              "      display: none;\n",
              "      fill: #1967D2;\n",
              "      height: 32px;\n",
              "      padding: 0 0 0 0;\n",
              "      width: 32px;\n",
              "    }\n",
              "\n",
              "    .colab-df-convert:hover {\n",
              "      background-color: #E2EBFA;\n",
              "      box-shadow: 0px 1px 2px rgba(60, 64, 67, 0.3), 0px 1px 3px 1px rgba(60, 64, 67, 0.15);\n",
              "      fill: #174EA6;\n",
              "    }\n",
              "\n",
              "    .colab-df-buttons div {\n",
              "      margin-bottom: 4px;\n",
              "    }\n",
              "\n",
              "    [theme=dark] .colab-df-convert {\n",
              "      background-color: #3B4455;\n",
              "      fill: #D2E3FC;\n",
              "    }\n",
              "\n",
              "    [theme=dark] .colab-df-convert:hover {\n",
              "      background-color: #434B5C;\n",
              "      box-shadow: 0px 1px 3px 1px rgba(0, 0, 0, 0.15);\n",
              "      filter: drop-shadow(0px 1px 2px rgba(0, 0, 0, 0.3));\n",
              "      fill: #FFFFFF;\n",
              "    }\n",
              "  </style>\n",
              "\n",
              "    <script>\n",
              "      const buttonEl =\n",
              "        document.querySelector('#df-69f1c000-d33a-4912-a83d-2b31c24319b5 button.colab-df-convert');\n",
              "      buttonEl.style.display =\n",
              "        google.colab.kernel.accessAllowed ? 'block' : 'none';\n",
              "\n",
              "      async function convertToInteractive(key) {\n",
              "        const element = document.querySelector('#df-69f1c000-d33a-4912-a83d-2b31c24319b5');\n",
              "        const dataTable =\n",
              "          await google.colab.kernel.invokeFunction('convertToInteractive',\n",
              "                                                    [key], {});\n",
              "        if (!dataTable) return;\n",
              "\n",
              "        const docLinkHtml = 'Like what you see? Visit the ' +\n",
              "          '<a target=\"_blank\" href=https://colab.research.google.com/notebooks/data_table.ipynb>data table notebook</a>'\n",
              "          + ' to learn more about interactive tables.';\n",
              "        element.innerHTML = '';\n",
              "        dataTable['output_type'] = 'display_data';\n",
              "        await google.colab.output.renderOutput(dataTable, element);\n",
              "        const docLink = document.createElement('div');\n",
              "        docLink.innerHTML = docLinkHtml;\n",
              "        element.appendChild(docLink);\n",
              "      }\n",
              "    </script>\n",
              "  </div>\n",
              "\n",
              "\n",
              "<div id=\"df-5b92aaee-2ed5-49f6-9bee-32a9af2a7a7e\">\n",
              "  <button class=\"colab-df-quickchart\" onclick=\"quickchart('df-5b92aaee-2ed5-49f6-9bee-32a9af2a7a7e')\"\n",
              "            title=\"Suggest charts\"\n",
              "            style=\"display:none;\">\n",
              "\n",
              "<svg xmlns=\"http://www.w3.org/2000/svg\" height=\"24px\"viewBox=\"0 0 24 24\"\n",
              "     width=\"24px\">\n",
              "    <g>\n",
              "        <path d=\"M19 3H5c-1.1 0-2 .9-2 2v14c0 1.1.9 2 2 2h14c1.1 0 2-.9 2-2V5c0-1.1-.9-2-2-2zM9 17H7v-7h2v7zm4 0h-2V7h2v10zm4 0h-2v-4h2v4z\"/>\n",
              "    </g>\n",
              "</svg>\n",
              "  </button>\n",
              "\n",
              "<style>\n",
              "  .colab-df-quickchart {\n",
              "      --bg-color: #E8F0FE;\n",
              "      --fill-color: #1967D2;\n",
              "      --hover-bg-color: #E2EBFA;\n",
              "      --hover-fill-color: #174EA6;\n",
              "      --disabled-fill-color: #AAA;\n",
              "      --disabled-bg-color: #DDD;\n",
              "  }\n",
              "\n",
              "  [theme=dark] .colab-df-quickchart {\n",
              "      --bg-color: #3B4455;\n",
              "      --fill-color: #D2E3FC;\n",
              "      --hover-bg-color: #434B5C;\n",
              "      --hover-fill-color: #FFFFFF;\n",
              "      --disabled-bg-color: #3B4455;\n",
              "      --disabled-fill-color: #666;\n",
              "  }\n",
              "\n",
              "  .colab-df-quickchart {\n",
              "    background-color: var(--bg-color);\n",
              "    border: none;\n",
              "    border-radius: 50%;\n",
              "    cursor: pointer;\n",
              "    display: none;\n",
              "    fill: var(--fill-color);\n",
              "    height: 32px;\n",
              "    padding: 0;\n",
              "    width: 32px;\n",
              "  }\n",
              "\n",
              "  .colab-df-quickchart:hover {\n",
              "    background-color: var(--hover-bg-color);\n",
              "    box-shadow: 0 1px 2px rgba(60, 64, 67, 0.3), 0 1px 3px 1px rgba(60, 64, 67, 0.15);\n",
              "    fill: var(--button-hover-fill-color);\n",
              "  }\n",
              "\n",
              "  .colab-df-quickchart-complete:disabled,\n",
              "  .colab-df-quickchart-complete:disabled:hover {\n",
              "    background-color: var(--disabled-bg-color);\n",
              "    fill: var(--disabled-fill-color);\n",
              "    box-shadow: none;\n",
              "  }\n",
              "\n",
              "  .colab-df-spinner {\n",
              "    border: 2px solid var(--fill-color);\n",
              "    border-color: transparent;\n",
              "    border-bottom-color: var(--fill-color);\n",
              "    animation:\n",
              "      spin 1s steps(1) infinite;\n",
              "  }\n",
              "\n",
              "  @keyframes spin {\n",
              "    0% {\n",
              "      border-color: transparent;\n",
              "      border-bottom-color: var(--fill-color);\n",
              "      border-left-color: var(--fill-color);\n",
              "    }\n",
              "    20% {\n",
              "      border-color: transparent;\n",
              "      border-left-color: var(--fill-color);\n",
              "      border-top-color: var(--fill-color);\n",
              "    }\n",
              "    30% {\n",
              "      border-color: transparent;\n",
              "      border-left-color: var(--fill-color);\n",
              "      border-top-color: var(--fill-color);\n",
              "      border-right-color: var(--fill-color);\n",
              "    }\n",
              "    40% {\n",
              "      border-color: transparent;\n",
              "      border-right-color: var(--fill-color);\n",
              "      border-top-color: var(--fill-color);\n",
              "    }\n",
              "    60% {\n",
              "      border-color: transparent;\n",
              "      border-right-color: var(--fill-color);\n",
              "    }\n",
              "    80% {\n",
              "      border-color: transparent;\n",
              "      border-right-color: var(--fill-color);\n",
              "      border-bottom-color: var(--fill-color);\n",
              "    }\n",
              "    90% {\n",
              "      border-color: transparent;\n",
              "      border-bottom-color: var(--fill-color);\n",
              "    }\n",
              "  }\n",
              "</style>\n",
              "\n",
              "  <script>\n",
              "    async function quickchart(key) {\n",
              "      const quickchartButtonEl =\n",
              "        document.querySelector('#' + key + ' button');\n",
              "      quickchartButtonEl.disabled = true;  // To prevent multiple clicks.\n",
              "      quickchartButtonEl.classList.add('colab-df-spinner');\n",
              "      try {\n",
              "        const charts = await google.colab.kernel.invokeFunction(\n",
              "            'suggestCharts', [key], {});\n",
              "      } catch (error) {\n",
              "        console.error('Error during call to suggestCharts:', error);\n",
              "      }\n",
              "      quickchartButtonEl.classList.remove('colab-df-spinner');\n",
              "      quickchartButtonEl.classList.add('colab-df-quickchart-complete');\n",
              "    }\n",
              "    (() => {\n",
              "      let quickchartButtonEl =\n",
              "        document.querySelector('#df-5b92aaee-2ed5-49f6-9bee-32a9af2a7a7e button');\n",
              "      quickchartButtonEl.style.display =\n",
              "        google.colab.kernel.accessAllowed ? 'block' : 'none';\n",
              "    })();\n",
              "  </script>\n",
              "</div>\n",
              "\n",
              "    </div>\n",
              "  </div>\n"
            ],
            "application/vnd.google.colaboratory.intrinsic+json": {
              "type": "dataframe"
            }
          },
          "metadata": {},
          "execution_count": 3
        }
      ]
    },
    {
      "cell_type": "code",
      "source": [
        "# @title\n",
        "# define a function to identify missing and unique values\n",
        "def MissingUniqueStat(df):\n",
        "\n",
        "  variable_name = []\n",
        "  total_entry_list = []\n",
        "  dtype_list = []\n",
        "  unique_values_list = []\n",
        "  number_of_unique_values = []\n",
        "  number_of_missing_values = []\n",
        "  ratio_of_missing_values = []\n",
        "\n",
        "  for col in df.columns:\n",
        "    variable_name.append(col)\n",
        "    total_entry_list.append(len(df[col]))\n",
        "    dtype_list.append(df[col].dtype)\n",
        "    unique_values_list.append(df[col].unique())\n",
        "    number_of_unique_values.append(df[col].nunique())\n",
        "    number_of_missing_values.append(df[col].isna().sum())\n",
        "    ratio_of_missing_values.append(df[col].isna().sum() / df.shape[0])\n",
        "\n",
        "  data_info_df = pd.DataFrame({'Variable': variable_name,\n",
        "                               '#_Total_Entry':total_entry_list,\n",
        "                               '#_Missing_Value': number_of_missing_values,\n",
        "                               '%_Missing_Value':ratio_of_missing_values,\n",
        "                               'Data_Type': dtype_list,\n",
        "                               'Unique_Values': unique_values_list,\n",
        "                               '#_Unique_Values': number_of_unique_values\n",
        "                               })\n",
        "\n",
        "  data_info_df = data_info_df.set_index(\"Variable\", inplace=False)\n",
        "\n",
        "  return data_info_df.sort_values(by='#_Unique_Values', ascending=False)"
      ],
      "metadata": {
        "id": "SxXUQke56xB0"
      },
      "execution_count": null,
      "outputs": []
    },
    {
      "cell_type": "code",
      "source": [
        "# @title\n",
        "# apply the \"MissingUniqueStat\" function\n",
        "data_info = MissingUniqueStat(df)\n",
        "data_info"
      ],
      "metadata": {
        "colab": {
          "base_uri": "https://localhost:8080/"
        },
        "id": "BkOR1OFCGkRx",
        "outputId": "0adb2da8-faa1-4c42-9a35-7b2c4f0bcf1a"
      },
      "execution_count": null,
      "outputs": [
        {
          "output_type": "execute_result",
          "data": {
            "text/plain": [
              "          #_Total_Entry  #_Missing_Value  %_Missing_Value Data_Type  \\\n",
              "Variable                                                              \n",
              "NACCID           192088                0         0.000000    object   \n",
              "CVOTHRX          192088           176834         0.920588    object   \n",
              "NCOTHRX          192088           186228         0.969493    object   \n",
              "NPIQINFX         192088           152327         0.793006    object   \n",
              "PSYCDISX         192088           183763         0.956660    object   \n",
              "...                 ...              ...              ...       ...   \n",
              "SPIRITS          192088                0         0.000000     int64   \n",
              "BORED            192088                0         0.000000     int64   \n",
              "HISPANIC         192088                0         0.000000     int64   \n",
              "NOGDS            192088                0         0.000000     int64   \n",
              "SEX              192088                0         0.000000     int64   \n",
              "\n",
              "                                              Unique_Values  #_Unique_Values  \n",
              "Variable                                                                      \n",
              "NACCID    [NACC002909, NACC003487, NACC004352, NACC00468...            51836  \n",
              "CVOTHRX   [nan, Quadruple Ablation, Coronary atheroscler...             6301  \n",
              "NCOTHRX   [nan, confusion but no LOC in high school, pol...             3246  \n",
              "NPIQINFX  [nan, Half-brother, cousin, Friend, Not Copart...             2374  \n",
              "PSYCDISX  [nan, Wernicke Korsakoff, mood disorder nos, p...             2140  \n",
              "...                                                     ...              ...  \n",
              "SPIRITS                                       [0, -4, 1, 9]                4  \n",
              "BORED                                         [0, -4, 1, 9]                4  \n",
              "HISPANIC                                          [0, 1, 9]                3  \n",
              "NOGDS                                            [0, -4, 1]                3  \n",
              "SEX                                                  [1, 2]                2  \n",
              "\n",
              "[168 rows x 6 columns]"
            ],
            "text/html": [
              "\n",
              "  <div id=\"df-c00626ac-9a1a-4f96-ac25-0c55ccfbb270\" class=\"colab-df-container\">\n",
              "    <div>\n",
              "<style scoped>\n",
              "    .dataframe tbody tr th:only-of-type {\n",
              "        vertical-align: middle;\n",
              "    }\n",
              "\n",
              "    .dataframe tbody tr th {\n",
              "        vertical-align: top;\n",
              "    }\n",
              "\n",
              "    .dataframe thead th {\n",
              "        text-align: right;\n",
              "    }\n",
              "</style>\n",
              "<table border=\"1\" class=\"dataframe\">\n",
              "  <thead>\n",
              "    <tr style=\"text-align: right;\">\n",
              "      <th></th>\n",
              "      <th>#_Total_Entry</th>\n",
              "      <th>#_Missing_Value</th>\n",
              "      <th>%_Missing_Value</th>\n",
              "      <th>Data_Type</th>\n",
              "      <th>Unique_Values</th>\n",
              "      <th>#_Unique_Values</th>\n",
              "    </tr>\n",
              "    <tr>\n",
              "      <th>Variable</th>\n",
              "      <th></th>\n",
              "      <th></th>\n",
              "      <th></th>\n",
              "      <th></th>\n",
              "      <th></th>\n",
              "      <th></th>\n",
              "    </tr>\n",
              "  </thead>\n",
              "  <tbody>\n",
              "    <tr>\n",
              "      <th>NACCID</th>\n",
              "      <td>192088</td>\n",
              "      <td>0</td>\n",
              "      <td>0.000000</td>\n",
              "      <td>object</td>\n",
              "      <td>[NACC002909, NACC003487, NACC004352, NACC00468...</td>\n",
              "      <td>51836</td>\n",
              "    </tr>\n",
              "    <tr>\n",
              "      <th>CVOTHRX</th>\n",
              "      <td>192088</td>\n",
              "      <td>176834</td>\n",
              "      <td>0.920588</td>\n",
              "      <td>object</td>\n",
              "      <td>[nan, Quadruple Ablation, Coronary atheroscler...</td>\n",
              "      <td>6301</td>\n",
              "    </tr>\n",
              "    <tr>\n",
              "      <th>NCOTHRX</th>\n",
              "      <td>192088</td>\n",
              "      <td>186228</td>\n",
              "      <td>0.969493</td>\n",
              "      <td>object</td>\n",
              "      <td>[nan, confusion but no LOC in high school, pol...</td>\n",
              "      <td>3246</td>\n",
              "    </tr>\n",
              "    <tr>\n",
              "      <th>NPIQINFX</th>\n",
              "      <td>192088</td>\n",
              "      <td>152327</td>\n",
              "      <td>0.793006</td>\n",
              "      <td>object</td>\n",
              "      <td>[nan, Half-brother, cousin, Friend, Not Copart...</td>\n",
              "      <td>2374</td>\n",
              "    </tr>\n",
              "    <tr>\n",
              "      <th>PSYCDISX</th>\n",
              "      <td>192088</td>\n",
              "      <td>183763</td>\n",
              "      <td>0.956660</td>\n",
              "      <td>object</td>\n",
              "      <td>[nan, Wernicke Korsakoff, mood disorder nos, p...</td>\n",
              "      <td>2140</td>\n",
              "    </tr>\n",
              "    <tr>\n",
              "      <th>...</th>\n",
              "      <td>...</td>\n",
              "      <td>...</td>\n",
              "      <td>...</td>\n",
              "      <td>...</td>\n",
              "      <td>...</td>\n",
              "      <td>...</td>\n",
              "    </tr>\n",
              "    <tr>\n",
              "      <th>SPIRITS</th>\n",
              "      <td>192088</td>\n",
              "      <td>0</td>\n",
              "      <td>0.000000</td>\n",
              "      <td>int64</td>\n",
              "      <td>[0, -4, 1, 9]</td>\n",
              "      <td>4</td>\n",
              "    </tr>\n",
              "    <tr>\n",
              "      <th>BORED</th>\n",
              "      <td>192088</td>\n",
              "      <td>0</td>\n",
              "      <td>0.000000</td>\n",
              "      <td>int64</td>\n",
              "      <td>[0, -4, 1, 9]</td>\n",
              "      <td>4</td>\n",
              "    </tr>\n",
              "    <tr>\n",
              "      <th>HISPANIC</th>\n",
              "      <td>192088</td>\n",
              "      <td>0</td>\n",
              "      <td>0.000000</td>\n",
              "      <td>int64</td>\n",
              "      <td>[0, 1, 9]</td>\n",
              "      <td>3</td>\n",
              "    </tr>\n",
              "    <tr>\n",
              "      <th>NOGDS</th>\n",
              "      <td>192088</td>\n",
              "      <td>0</td>\n",
              "      <td>0.000000</td>\n",
              "      <td>int64</td>\n",
              "      <td>[0, -4, 1]</td>\n",
              "      <td>3</td>\n",
              "    </tr>\n",
              "    <tr>\n",
              "      <th>SEX</th>\n",
              "      <td>192088</td>\n",
              "      <td>0</td>\n",
              "      <td>0.000000</td>\n",
              "      <td>int64</td>\n",
              "      <td>[1, 2]</td>\n",
              "      <td>2</td>\n",
              "    </tr>\n",
              "  </tbody>\n",
              "</table>\n",
              "<p>168 rows × 6 columns</p>\n",
              "</div>\n",
              "    <div class=\"colab-df-buttons\">\n",
              "\n",
              "  <div class=\"colab-df-container\">\n",
              "    <button class=\"colab-df-convert\" onclick=\"convertToInteractive('df-c00626ac-9a1a-4f96-ac25-0c55ccfbb270')\"\n",
              "            title=\"Convert this dataframe to an interactive table.\"\n",
              "            style=\"display:none;\">\n",
              "\n",
              "  <svg xmlns=\"http://www.w3.org/2000/svg\" height=\"24px\" viewBox=\"0 -960 960 960\">\n",
              "    <path d=\"M120-120v-720h720v720H120Zm60-500h600v-160H180v160Zm220 220h160v-160H400v160Zm0 220h160v-160H400v160ZM180-400h160v-160H180v160Zm440 0h160v-160H620v160ZM180-180h160v-160H180v160Zm440 0h160v-160H620v160Z\"/>\n",
              "  </svg>\n",
              "    </button>\n",
              "\n",
              "  <style>\n",
              "    .colab-df-container {\n",
              "      display:flex;\n",
              "      gap: 12px;\n",
              "    }\n",
              "\n",
              "    .colab-df-convert {\n",
              "      background-color: #E8F0FE;\n",
              "      border: none;\n",
              "      border-radius: 50%;\n",
              "      cursor: pointer;\n",
              "      display: none;\n",
              "      fill: #1967D2;\n",
              "      height: 32px;\n",
              "      padding: 0 0 0 0;\n",
              "      width: 32px;\n",
              "    }\n",
              "\n",
              "    .colab-df-convert:hover {\n",
              "      background-color: #E2EBFA;\n",
              "      box-shadow: 0px 1px 2px rgba(60, 64, 67, 0.3), 0px 1px 3px 1px rgba(60, 64, 67, 0.15);\n",
              "      fill: #174EA6;\n",
              "    }\n",
              "\n",
              "    .colab-df-buttons div {\n",
              "      margin-bottom: 4px;\n",
              "    }\n",
              "\n",
              "    [theme=dark] .colab-df-convert {\n",
              "      background-color: #3B4455;\n",
              "      fill: #D2E3FC;\n",
              "    }\n",
              "\n",
              "    [theme=dark] .colab-df-convert:hover {\n",
              "      background-color: #434B5C;\n",
              "      box-shadow: 0px 1px 3px 1px rgba(0, 0, 0, 0.15);\n",
              "      filter: drop-shadow(0px 1px 2px rgba(0, 0, 0, 0.3));\n",
              "      fill: #FFFFFF;\n",
              "    }\n",
              "  </style>\n",
              "\n",
              "    <script>\n",
              "      const buttonEl =\n",
              "        document.querySelector('#df-c00626ac-9a1a-4f96-ac25-0c55ccfbb270 button.colab-df-convert');\n",
              "      buttonEl.style.display =\n",
              "        google.colab.kernel.accessAllowed ? 'block' : 'none';\n",
              "\n",
              "      async function convertToInteractive(key) {\n",
              "        const element = document.querySelector('#df-c00626ac-9a1a-4f96-ac25-0c55ccfbb270');\n",
              "        const dataTable =\n",
              "          await google.colab.kernel.invokeFunction('convertToInteractive',\n",
              "                                                    [key], {});\n",
              "        if (!dataTable) return;\n",
              "\n",
              "        const docLinkHtml = 'Like what you see? Visit the ' +\n",
              "          '<a target=\"_blank\" href=https://colab.research.google.com/notebooks/data_table.ipynb>data table notebook</a>'\n",
              "          + ' to learn more about interactive tables.';\n",
              "        element.innerHTML = '';\n",
              "        dataTable['output_type'] = 'display_data';\n",
              "        await google.colab.output.renderOutput(dataTable, element);\n",
              "        const docLink = document.createElement('div');\n",
              "        docLink.innerHTML = docLinkHtml;\n",
              "        element.appendChild(docLink);\n",
              "      }\n",
              "    </script>\n",
              "  </div>\n",
              "\n",
              "\n",
              "<div id=\"df-1dfedcdb-7f67-41dd-b095-41202a1de774\">\n",
              "  <button class=\"colab-df-quickchart\" onclick=\"quickchart('df-1dfedcdb-7f67-41dd-b095-41202a1de774')\"\n",
              "            title=\"Suggest charts\"\n",
              "            style=\"display:none;\">\n",
              "\n",
              "<svg xmlns=\"http://www.w3.org/2000/svg\" height=\"24px\"viewBox=\"0 0 24 24\"\n",
              "     width=\"24px\">\n",
              "    <g>\n",
              "        <path d=\"M19 3H5c-1.1 0-2 .9-2 2v14c0 1.1.9 2 2 2h14c1.1 0 2-.9 2-2V5c0-1.1-.9-2-2-2zM9 17H7v-7h2v7zm4 0h-2V7h2v10zm4 0h-2v-4h2v4z\"/>\n",
              "    </g>\n",
              "</svg>\n",
              "  </button>\n",
              "\n",
              "<style>\n",
              "  .colab-df-quickchart {\n",
              "      --bg-color: #E8F0FE;\n",
              "      --fill-color: #1967D2;\n",
              "      --hover-bg-color: #E2EBFA;\n",
              "      --hover-fill-color: #174EA6;\n",
              "      --disabled-fill-color: #AAA;\n",
              "      --disabled-bg-color: #DDD;\n",
              "  }\n",
              "\n",
              "  [theme=dark] .colab-df-quickchart {\n",
              "      --bg-color: #3B4455;\n",
              "      --fill-color: #D2E3FC;\n",
              "      --hover-bg-color: #434B5C;\n",
              "      --hover-fill-color: #FFFFFF;\n",
              "      --disabled-bg-color: #3B4455;\n",
              "      --disabled-fill-color: #666;\n",
              "  }\n",
              "\n",
              "  .colab-df-quickchart {\n",
              "    background-color: var(--bg-color);\n",
              "    border: none;\n",
              "    border-radius: 50%;\n",
              "    cursor: pointer;\n",
              "    display: none;\n",
              "    fill: var(--fill-color);\n",
              "    height: 32px;\n",
              "    padding: 0;\n",
              "    width: 32px;\n",
              "  }\n",
              "\n",
              "  .colab-df-quickchart:hover {\n",
              "    background-color: var(--hover-bg-color);\n",
              "    box-shadow: 0 1px 2px rgba(60, 64, 67, 0.3), 0 1px 3px 1px rgba(60, 64, 67, 0.15);\n",
              "    fill: var(--button-hover-fill-color);\n",
              "  }\n",
              "\n",
              "  .colab-df-quickchart-complete:disabled,\n",
              "  .colab-df-quickchart-complete:disabled:hover {\n",
              "    background-color: var(--disabled-bg-color);\n",
              "    fill: var(--disabled-fill-color);\n",
              "    box-shadow: none;\n",
              "  }\n",
              "\n",
              "  .colab-df-spinner {\n",
              "    border: 2px solid var(--fill-color);\n",
              "    border-color: transparent;\n",
              "    border-bottom-color: var(--fill-color);\n",
              "    animation:\n",
              "      spin 1s steps(1) infinite;\n",
              "  }\n",
              "\n",
              "  @keyframes spin {\n",
              "    0% {\n",
              "      border-color: transparent;\n",
              "      border-bottom-color: var(--fill-color);\n",
              "      border-left-color: var(--fill-color);\n",
              "    }\n",
              "    20% {\n",
              "      border-color: transparent;\n",
              "      border-left-color: var(--fill-color);\n",
              "      border-top-color: var(--fill-color);\n",
              "    }\n",
              "    30% {\n",
              "      border-color: transparent;\n",
              "      border-left-color: var(--fill-color);\n",
              "      border-top-color: var(--fill-color);\n",
              "      border-right-color: var(--fill-color);\n",
              "    }\n",
              "    40% {\n",
              "      border-color: transparent;\n",
              "      border-right-color: var(--fill-color);\n",
              "      border-top-color: var(--fill-color);\n",
              "    }\n",
              "    60% {\n",
              "      border-color: transparent;\n",
              "      border-right-color: var(--fill-color);\n",
              "    }\n",
              "    80% {\n",
              "      border-color: transparent;\n",
              "      border-right-color: var(--fill-color);\n",
              "      border-bottom-color: var(--fill-color);\n",
              "    }\n",
              "    90% {\n",
              "      border-color: transparent;\n",
              "      border-bottom-color: var(--fill-color);\n",
              "    }\n",
              "  }\n",
              "</style>\n",
              "\n",
              "  <script>\n",
              "    async function quickchart(key) {\n",
              "      const quickchartButtonEl =\n",
              "        document.querySelector('#' + key + ' button');\n",
              "      quickchartButtonEl.disabled = true;  // To prevent multiple clicks.\n",
              "      quickchartButtonEl.classList.add('colab-df-spinner');\n",
              "      try {\n",
              "        const charts = await google.colab.kernel.invokeFunction(\n",
              "            'suggestCharts', [key], {});\n",
              "      } catch (error) {\n",
              "        console.error('Error during call to suggestCharts:', error);\n",
              "      }\n",
              "      quickchartButtonEl.classList.remove('colab-df-spinner');\n",
              "      quickchartButtonEl.classList.add('colab-df-quickchart-complete');\n",
              "    }\n",
              "    (() => {\n",
              "      let quickchartButtonEl =\n",
              "        document.querySelector('#df-1dfedcdb-7f67-41dd-b095-41202a1de774 button');\n",
              "      quickchartButtonEl.style.display =\n",
              "        google.colab.kernel.accessAllowed ? 'block' : 'none';\n",
              "    })();\n",
              "  </script>\n",
              "</div>\n",
              "\n",
              "  <div id=\"id_d53c3ab8-4bc3-4f12-b948-79a6821dbdce\">\n",
              "    <style>\n",
              "      .colab-df-generate {\n",
              "        background-color: #E8F0FE;\n",
              "        border: none;\n",
              "        border-radius: 50%;\n",
              "        cursor: pointer;\n",
              "        display: none;\n",
              "        fill: #1967D2;\n",
              "        height: 32px;\n",
              "        padding: 0 0 0 0;\n",
              "        width: 32px;\n",
              "      }\n",
              "\n",
              "      .colab-df-generate:hover {\n",
              "        background-color: #E2EBFA;\n",
              "        box-shadow: 0px 1px 2px rgba(60, 64, 67, 0.3), 0px 1px 3px 1px rgba(60, 64, 67, 0.15);\n",
              "        fill: #174EA6;\n",
              "      }\n",
              "\n",
              "      [theme=dark] .colab-df-generate {\n",
              "        background-color: #3B4455;\n",
              "        fill: #D2E3FC;\n",
              "      }\n",
              "\n",
              "      [theme=dark] .colab-df-generate:hover {\n",
              "        background-color: #434B5C;\n",
              "        box-shadow: 0px 1px 3px 1px rgba(0, 0, 0, 0.15);\n",
              "        filter: drop-shadow(0px 1px 2px rgba(0, 0, 0, 0.3));\n",
              "        fill: #FFFFFF;\n",
              "      }\n",
              "    </style>\n",
              "    <button class=\"colab-df-generate\" onclick=\"generateWithVariable('data_info')\"\n",
              "            title=\"Generate code using this dataframe.\"\n",
              "            style=\"display:none;\">\n",
              "\n",
              "  <svg xmlns=\"http://www.w3.org/2000/svg\" height=\"24px\"viewBox=\"0 0 24 24\"\n",
              "       width=\"24px\">\n",
              "    <path d=\"M7,19H8.4L18.45,9,17,7.55,7,17.6ZM5,21V16.75L18.45,3.32a2,2,0,0,1,2.83,0l1.4,1.43a1.91,1.91,0,0,1,.58,1.4,1.91,1.91,0,0,1-.58,1.4L9.25,21ZM18.45,9,17,7.55Zm-12,3A5.31,5.31,0,0,0,4.9,8.1,5.31,5.31,0,0,0,1,6.5,5.31,5.31,0,0,0,4.9,4.9,5.31,5.31,0,0,0,6.5,1,5.31,5.31,0,0,0,8.1,4.9,5.31,5.31,0,0,0,12,6.5,5.46,5.46,0,0,0,6.5,12Z\"/>\n",
              "  </svg>\n",
              "    </button>\n",
              "    <script>\n",
              "      (() => {\n",
              "      const buttonEl =\n",
              "        document.querySelector('#id_d53c3ab8-4bc3-4f12-b948-79a6821dbdce button.colab-df-generate');\n",
              "      buttonEl.style.display =\n",
              "        google.colab.kernel.accessAllowed ? 'block' : 'none';\n",
              "\n",
              "      buttonEl.onclick = () => {\n",
              "        google.colab.notebook.generateWithVariable('data_info');\n",
              "      }\n",
              "      })();\n",
              "    </script>\n",
              "  </div>\n",
              "\n",
              "    </div>\n",
              "  </div>\n"
            ],
            "application/vnd.google.colaboratory.intrinsic+json": {
              "type": "dataframe",
              "variable_name": "data_info",
              "summary": "{\n  \"name\": \"data_info\",\n  \"rows\": 168,\n  \"fields\": [\n    {\n      \"column\": \"Variable\",\n      \"properties\": {\n        \"dtype\": \"string\",\n        \"num_unique_values\": 168,\n        \"samples\": [\n          \"ANX\",\n          \"HISPOR\",\n          \"NITE\"\n        ],\n        \"semantic_type\": \"\",\n        \"description\": \"\"\n      }\n    },\n    {\n      \"column\": \"#_Total_Entry\",\n      \"properties\": {\n        \"dtype\": \"number\",\n        \"std\": 0,\n        \"min\": 192088,\n        \"max\": 192088,\n        \"num_unique_values\": 1,\n        \"samples\": [\n          192088\n        ],\n        \"semantic_type\": \"\",\n        \"description\": \"\"\n      }\n    },\n    {\n      \"column\": \"#_Missing_Value\",\n      \"properties\": {\n        \"dtype\": \"number\",\n        \"std\": 48036,\n        \"min\": 0,\n        \"max\": 192056,\n        \"num_unique_values\": 14,\n        \"samples\": [\n          483\n        ],\n        \"semantic_type\": \"\",\n        \"description\": \"\"\n      }\n    },\n    {\n      \"column\": \"%_Missing_Value\",\n      \"properties\": {\n        \"dtype\": \"number\",\n        \"std\": 0.25007742727462684,\n        \"min\": 0.0,\n        \"max\": 0.9998334096872267,\n        \"num_unique_values\": 14,\n        \"samples\": [\n          0.0025144725334221817\n        ],\n        \"semantic_type\": \"\",\n        \"description\": \"\"\n      }\n    },\n    {\n      \"column\": \"Data_Type\",\n      \"properties\": {\n        \"dtype\": \"category\",\n        \"num_unique_values\": 3,\n        \"samples\": [\n          \"object\"\n        ],\n        \"semantic_type\": \"\",\n        \"description\": \"\"\n      }\n    },\n    {\n      \"column\": \"Unique_Values\",\n      \"properties\": {\n        \"dtype\": \"object\",\n        \"semantic_type\": \"\",\n        \"description\": \"\"\n      }\n    },\n    {\n      \"column\": \"#_Unique_Values\",\n      \"properties\": {\n        \"dtype\": \"number\",\n        \"std\": 4035,\n        \"min\": 2,\n        \"max\": 51836,\n        \"num_unique_values\": 35,\n        \"samples\": [\n          18\n        ],\n        \"semantic_type\": \"\",\n        \"description\": \"\"\n      }\n    }\n  ]\n}"
            }
          },
          "metadata": {},
          "execution_count": 5
        }
      ]
    },
    {
      "cell_type": "markdown",
      "source": [
        "# Split Dataset by Class Label"
      ],
      "metadata": {
        "id": "bQiko3ixUJQn"
      }
    },
    {
      "cell_type": "markdown",
      "source": [
        "The target variable has 4 unique classes namely;\n",
        "*   1 == Normal Cognition (NC)\n",
        "*   2 == Impaired not MCI (nMCI)\n",
        "*   3 == Mild Cognitive Impairment (MCI)\n",
        "*   4 == Alzheimer's Disease (AD) or other Dementias"
      ],
      "metadata": {
        "id": "OLrgr2TKuZxt"
      }
    },
    {
      "cell_type": "code",
      "source": [
        "# @title\n",
        "# Splitting df into subsets based on target class in first visit\n",
        "# NCvsAD = df_new.loc[df_new['NACCUDSD'].isin([1,4])] # Select only rows with target class enteries NC and AD\n",
        "# NCvsMCI = df_new.loc[df_new['NACCUDSD'].isin([1,3])] # Select only rows with target class enteries NC and MCI\n",
        "# MCIvsAD = df_new.loc[df_new['NACCUDSD'].isin([3,4])] # Select only rows with target class enteries MCI and AD\n",
        "# NCvsMCIvsAD = df_new.loc[df_new['NACCUDSD'].isin([1,3,4])] # Select only rows with target class enteries NC, MCI and AD\n",
        "\n",
        "NCvsAD = df.loc[df['NACCUDSD'].isin([1,4])] # Select only rows with target class enteries NC and AD\n",
        "NCvsMCI = df.loc[df['NACCUDSD'].isin([1,3])] # Select only rows with target class enteries NC and MCI\n",
        "MCIvsAD = df.loc[df['NACCUDSD'].isin([3,4])] # Select only rows with target class enteries MCI and AD\n",
        "NCvsMCIvsAD = df.loc[df['NACCUDSD'].isin([1,3,4])] # Select only rows with target class enteries NC, MCI and AD\n",
        "\n",
        "print(NCvsAD.shape)\n",
        "print(NCvsMCI.shape)\n",
        "print(MCIvsAD.shape)\n",
        "print(NCvsMCIvsAD.shape)"
      ],
      "metadata": {
        "colab": {
          "base_uri": "https://localhost:8080/"
        },
        "id": "dLqnklr_o_tu",
        "outputId": "ee70e8e9-9c3c-4293-8a36-4674bd237a5c"
      },
      "execution_count": null,
      "outputs": [
        {
          "output_type": "stream",
          "name": "stdout",
          "text": [
            "(150092, 168)\n",
            "(126611, 168)\n",
            "(90577, 168)\n",
            "(183640, 168)\n"
          ]
        }
      ]
    },
    {
      "cell_type": "markdown",
      "source": [
        "# NC vs AD Discretised"
      ],
      "metadata": {
        "id": "CU3ofGv1b628"
      }
    },
    {
      "cell_type": "code",
      "source": [
        "data_info = MissingUniqueStat(NCvsAD)\n",
        "data_info"
      ],
      "metadata": {
        "colab": {
          "base_uri": "https://localhost:8080/",
          "height": 735
        },
        "id": "iBOi4h2ScAJB",
        "outputId": "035bdb97-d50d-49f4-f86f-ea55f60caebe"
      },
      "execution_count": null,
      "outputs": [
        {
          "output_type": "execute_result",
          "data": {
            "text/plain": [
              "          #_Total_Entry  #_Missing_Value  %_Missing_Value Data_Type  \\\n",
              "Variable                                                              \n",
              "NACCID           150092                0         0.000000    object   \n",
              "CVOTHRX          150092           138524         0.922927    object   \n",
              "NCOTHRX          150092           145848         0.971724    object   \n",
              "NPIQINFX         150092           119576         0.796685    object   \n",
              "PSYCDISX         150092           144058         0.959798    object   \n",
              "...                 ...              ...              ...       ...   \n",
              "HEARAID          150092                0         0.000000     int64   \n",
              "NOGDS            150092                0         0.000000     int64   \n",
              "HISPANIC         150092                0         0.000000     int64   \n",
              "SEX              150092                0         0.000000     int64   \n",
              "NACCUDSD         150092                0         0.000000     int64   \n",
              "\n",
              "                                              Unique_Values  #_Unique_Values  \n",
              "Variable                                                                      \n",
              "NACCID    [NACC003487, NACC004352, NACC004687, NACC00851...            43607  \n",
              "CVOTHRX   [nan, Quadruple Ablation, Coronary atheroscler...             4991  \n",
              "NCOTHRX   [nan, confusion but no LOC in high school, pol...             2468  \n",
              "NPIQINFX  [nan, Half-brother, cousin, Friend, Not Copart...             1947  \n",
              "PSYCDISX  [nan, Wernicke Korsakoff, mood disorder nos, p...             1637  \n",
              "...                                                     ...              ...  \n",
              "HEARAID                                       [0, 1, 9, -4]                4  \n",
              "NOGDS                                            [0, -4, 1]                3  \n",
              "HISPANIC                                          [0, 1, 9]                3  \n",
              "SEX                                                  [1, 2]                2  \n",
              "NACCUDSD                                             [1, 4]                2  \n",
              "\n",
              "[168 rows x 6 columns]"
            ],
            "text/html": [
              "\n",
              "  <div id=\"df-95fe9f56-dbea-4d12-b07a-57dcf90b2e2d\" class=\"colab-df-container\">\n",
              "    <div>\n",
              "<style scoped>\n",
              "    .dataframe tbody tr th:only-of-type {\n",
              "        vertical-align: middle;\n",
              "    }\n",
              "\n",
              "    .dataframe tbody tr th {\n",
              "        vertical-align: top;\n",
              "    }\n",
              "\n",
              "    .dataframe thead th {\n",
              "        text-align: right;\n",
              "    }\n",
              "</style>\n",
              "<table border=\"1\" class=\"dataframe\">\n",
              "  <thead>\n",
              "    <tr style=\"text-align: right;\">\n",
              "      <th></th>\n",
              "      <th>#_Total_Entry</th>\n",
              "      <th>#_Missing_Value</th>\n",
              "      <th>%_Missing_Value</th>\n",
              "      <th>Data_Type</th>\n",
              "      <th>Unique_Values</th>\n",
              "      <th>#_Unique_Values</th>\n",
              "    </tr>\n",
              "    <tr>\n",
              "      <th>Variable</th>\n",
              "      <th></th>\n",
              "      <th></th>\n",
              "      <th></th>\n",
              "      <th></th>\n",
              "      <th></th>\n",
              "      <th></th>\n",
              "    </tr>\n",
              "  </thead>\n",
              "  <tbody>\n",
              "    <tr>\n",
              "      <th>NACCID</th>\n",
              "      <td>150092</td>\n",
              "      <td>0</td>\n",
              "      <td>0.000000</td>\n",
              "      <td>object</td>\n",
              "      <td>[NACC003487, NACC004352, NACC004687, NACC00851...</td>\n",
              "      <td>43607</td>\n",
              "    </tr>\n",
              "    <tr>\n",
              "      <th>CVOTHRX</th>\n",
              "      <td>150092</td>\n",
              "      <td>138524</td>\n",
              "      <td>0.922927</td>\n",
              "      <td>object</td>\n",
              "      <td>[nan, Quadruple Ablation, Coronary atheroscler...</td>\n",
              "      <td>4991</td>\n",
              "    </tr>\n",
              "    <tr>\n",
              "      <th>NCOTHRX</th>\n",
              "      <td>150092</td>\n",
              "      <td>145848</td>\n",
              "      <td>0.971724</td>\n",
              "      <td>object</td>\n",
              "      <td>[nan, confusion but no LOC in high school, pol...</td>\n",
              "      <td>2468</td>\n",
              "    </tr>\n",
              "    <tr>\n",
              "      <th>NPIQINFX</th>\n",
              "      <td>150092</td>\n",
              "      <td>119576</td>\n",
              "      <td>0.796685</td>\n",
              "      <td>object</td>\n",
              "      <td>[nan, Half-brother, cousin, Friend, Not Copart...</td>\n",
              "      <td>1947</td>\n",
              "    </tr>\n",
              "    <tr>\n",
              "      <th>PSYCDISX</th>\n",
              "      <td>150092</td>\n",
              "      <td>144058</td>\n",
              "      <td>0.959798</td>\n",
              "      <td>object</td>\n",
              "      <td>[nan, Wernicke Korsakoff, mood disorder nos, p...</td>\n",
              "      <td>1637</td>\n",
              "    </tr>\n",
              "    <tr>\n",
              "      <th>...</th>\n",
              "      <td>...</td>\n",
              "      <td>...</td>\n",
              "      <td>...</td>\n",
              "      <td>...</td>\n",
              "      <td>...</td>\n",
              "      <td>...</td>\n",
              "    </tr>\n",
              "    <tr>\n",
              "      <th>HEARAID</th>\n",
              "      <td>150092</td>\n",
              "      <td>0</td>\n",
              "      <td>0.000000</td>\n",
              "      <td>int64</td>\n",
              "      <td>[0, 1, 9, -4]</td>\n",
              "      <td>4</td>\n",
              "    </tr>\n",
              "    <tr>\n",
              "      <th>NOGDS</th>\n",
              "      <td>150092</td>\n",
              "      <td>0</td>\n",
              "      <td>0.000000</td>\n",
              "      <td>int64</td>\n",
              "      <td>[0, -4, 1]</td>\n",
              "      <td>3</td>\n",
              "    </tr>\n",
              "    <tr>\n",
              "      <th>HISPANIC</th>\n",
              "      <td>150092</td>\n",
              "      <td>0</td>\n",
              "      <td>0.000000</td>\n",
              "      <td>int64</td>\n",
              "      <td>[0, 1, 9]</td>\n",
              "      <td>3</td>\n",
              "    </tr>\n",
              "    <tr>\n",
              "      <th>SEX</th>\n",
              "      <td>150092</td>\n",
              "      <td>0</td>\n",
              "      <td>0.000000</td>\n",
              "      <td>int64</td>\n",
              "      <td>[1, 2]</td>\n",
              "      <td>2</td>\n",
              "    </tr>\n",
              "    <tr>\n",
              "      <th>NACCUDSD</th>\n",
              "      <td>150092</td>\n",
              "      <td>0</td>\n",
              "      <td>0.000000</td>\n",
              "      <td>int64</td>\n",
              "      <td>[1, 4]</td>\n",
              "      <td>2</td>\n",
              "    </tr>\n",
              "  </tbody>\n",
              "</table>\n",
              "<p>168 rows × 6 columns</p>\n",
              "</div>\n",
              "    <div class=\"colab-df-buttons\">\n",
              "\n",
              "  <div class=\"colab-df-container\">\n",
              "    <button class=\"colab-df-convert\" onclick=\"convertToInteractive('df-95fe9f56-dbea-4d12-b07a-57dcf90b2e2d')\"\n",
              "            title=\"Convert this dataframe to an interactive table.\"\n",
              "            style=\"display:none;\">\n",
              "\n",
              "  <svg xmlns=\"http://www.w3.org/2000/svg\" height=\"24px\" viewBox=\"0 -960 960 960\">\n",
              "    <path d=\"M120-120v-720h720v720H120Zm60-500h600v-160H180v160Zm220 220h160v-160H400v160Zm0 220h160v-160H400v160ZM180-400h160v-160H180v160Zm440 0h160v-160H620v160ZM180-180h160v-160H180v160Zm440 0h160v-160H620v160Z\"/>\n",
              "  </svg>\n",
              "    </button>\n",
              "\n",
              "  <style>\n",
              "    .colab-df-container {\n",
              "      display:flex;\n",
              "      gap: 12px;\n",
              "    }\n",
              "\n",
              "    .colab-df-convert {\n",
              "      background-color: #E8F0FE;\n",
              "      border: none;\n",
              "      border-radius: 50%;\n",
              "      cursor: pointer;\n",
              "      display: none;\n",
              "      fill: #1967D2;\n",
              "      height: 32px;\n",
              "      padding: 0 0 0 0;\n",
              "      width: 32px;\n",
              "    }\n",
              "\n",
              "    .colab-df-convert:hover {\n",
              "      background-color: #E2EBFA;\n",
              "      box-shadow: 0px 1px 2px rgba(60, 64, 67, 0.3), 0px 1px 3px 1px rgba(60, 64, 67, 0.15);\n",
              "      fill: #174EA6;\n",
              "    }\n",
              "\n",
              "    .colab-df-buttons div {\n",
              "      margin-bottom: 4px;\n",
              "    }\n",
              "\n",
              "    [theme=dark] .colab-df-convert {\n",
              "      background-color: #3B4455;\n",
              "      fill: #D2E3FC;\n",
              "    }\n",
              "\n",
              "    [theme=dark] .colab-df-convert:hover {\n",
              "      background-color: #434B5C;\n",
              "      box-shadow: 0px 1px 3px 1px rgba(0, 0, 0, 0.15);\n",
              "      filter: drop-shadow(0px 1px 2px rgba(0, 0, 0, 0.3));\n",
              "      fill: #FFFFFF;\n",
              "    }\n",
              "  </style>\n",
              "\n",
              "    <script>\n",
              "      const buttonEl =\n",
              "        document.querySelector('#df-95fe9f56-dbea-4d12-b07a-57dcf90b2e2d button.colab-df-convert');\n",
              "      buttonEl.style.display =\n",
              "        google.colab.kernel.accessAllowed ? 'block' : 'none';\n",
              "\n",
              "      async function convertToInteractive(key) {\n",
              "        const element = document.querySelector('#df-95fe9f56-dbea-4d12-b07a-57dcf90b2e2d');\n",
              "        const dataTable =\n",
              "          await google.colab.kernel.invokeFunction('convertToInteractive',\n",
              "                                                    [key], {});\n",
              "        if (!dataTable) return;\n",
              "\n",
              "        const docLinkHtml = 'Like what you see? Visit the ' +\n",
              "          '<a target=\"_blank\" href=https://colab.research.google.com/notebooks/data_table.ipynb>data table notebook</a>'\n",
              "          + ' to learn more about interactive tables.';\n",
              "        element.innerHTML = '';\n",
              "        dataTable['output_type'] = 'display_data';\n",
              "        await google.colab.output.renderOutput(dataTable, element);\n",
              "        const docLink = document.createElement('div');\n",
              "        docLink.innerHTML = docLinkHtml;\n",
              "        element.appendChild(docLink);\n",
              "      }\n",
              "    </script>\n",
              "  </div>\n",
              "\n",
              "\n",
              "<div id=\"df-456e9b75-784d-4ec3-bc60-8a39ceebb054\">\n",
              "  <button class=\"colab-df-quickchart\" onclick=\"quickchart('df-456e9b75-784d-4ec3-bc60-8a39ceebb054')\"\n",
              "            title=\"Suggest charts\"\n",
              "            style=\"display:none;\">\n",
              "\n",
              "<svg xmlns=\"http://www.w3.org/2000/svg\" height=\"24px\"viewBox=\"0 0 24 24\"\n",
              "     width=\"24px\">\n",
              "    <g>\n",
              "        <path d=\"M19 3H5c-1.1 0-2 .9-2 2v14c0 1.1.9 2 2 2h14c1.1 0 2-.9 2-2V5c0-1.1-.9-2-2-2zM9 17H7v-7h2v7zm4 0h-2V7h2v10zm4 0h-2v-4h2v4z\"/>\n",
              "    </g>\n",
              "</svg>\n",
              "  </button>\n",
              "\n",
              "<style>\n",
              "  .colab-df-quickchart {\n",
              "      --bg-color: #E8F0FE;\n",
              "      --fill-color: #1967D2;\n",
              "      --hover-bg-color: #E2EBFA;\n",
              "      --hover-fill-color: #174EA6;\n",
              "      --disabled-fill-color: #AAA;\n",
              "      --disabled-bg-color: #DDD;\n",
              "  }\n",
              "\n",
              "  [theme=dark] .colab-df-quickchart {\n",
              "      --bg-color: #3B4455;\n",
              "      --fill-color: #D2E3FC;\n",
              "      --hover-bg-color: #434B5C;\n",
              "      --hover-fill-color: #FFFFFF;\n",
              "      --disabled-bg-color: #3B4455;\n",
              "      --disabled-fill-color: #666;\n",
              "  }\n",
              "\n",
              "  .colab-df-quickchart {\n",
              "    background-color: var(--bg-color);\n",
              "    border: none;\n",
              "    border-radius: 50%;\n",
              "    cursor: pointer;\n",
              "    display: none;\n",
              "    fill: var(--fill-color);\n",
              "    height: 32px;\n",
              "    padding: 0;\n",
              "    width: 32px;\n",
              "  }\n",
              "\n",
              "  .colab-df-quickchart:hover {\n",
              "    background-color: var(--hover-bg-color);\n",
              "    box-shadow: 0 1px 2px rgba(60, 64, 67, 0.3), 0 1px 3px 1px rgba(60, 64, 67, 0.15);\n",
              "    fill: var(--button-hover-fill-color);\n",
              "  }\n",
              "\n",
              "  .colab-df-quickchart-complete:disabled,\n",
              "  .colab-df-quickchart-complete:disabled:hover {\n",
              "    background-color: var(--disabled-bg-color);\n",
              "    fill: var(--disabled-fill-color);\n",
              "    box-shadow: none;\n",
              "  }\n",
              "\n",
              "  .colab-df-spinner {\n",
              "    border: 2px solid var(--fill-color);\n",
              "    border-color: transparent;\n",
              "    border-bottom-color: var(--fill-color);\n",
              "    animation:\n",
              "      spin 1s steps(1) infinite;\n",
              "  }\n",
              "\n",
              "  @keyframes spin {\n",
              "    0% {\n",
              "      border-color: transparent;\n",
              "      border-bottom-color: var(--fill-color);\n",
              "      border-left-color: var(--fill-color);\n",
              "    }\n",
              "    20% {\n",
              "      border-color: transparent;\n",
              "      border-left-color: var(--fill-color);\n",
              "      border-top-color: var(--fill-color);\n",
              "    }\n",
              "    30% {\n",
              "      border-color: transparent;\n",
              "      border-left-color: var(--fill-color);\n",
              "      border-top-color: var(--fill-color);\n",
              "      border-right-color: var(--fill-color);\n",
              "    }\n",
              "    40% {\n",
              "      border-color: transparent;\n",
              "      border-right-color: var(--fill-color);\n",
              "      border-top-color: var(--fill-color);\n",
              "    }\n",
              "    60% {\n",
              "      border-color: transparent;\n",
              "      border-right-color: var(--fill-color);\n",
              "    }\n",
              "    80% {\n",
              "      border-color: transparent;\n",
              "      border-right-color: var(--fill-color);\n",
              "      border-bottom-color: var(--fill-color);\n",
              "    }\n",
              "    90% {\n",
              "      border-color: transparent;\n",
              "      border-bottom-color: var(--fill-color);\n",
              "    }\n",
              "  }\n",
              "</style>\n",
              "\n",
              "  <script>\n",
              "    async function quickchart(key) {\n",
              "      const quickchartButtonEl =\n",
              "        document.querySelector('#' + key + ' button');\n",
              "      quickchartButtonEl.disabled = true;  // To prevent multiple clicks.\n",
              "      quickchartButtonEl.classList.add('colab-df-spinner');\n",
              "      try {\n",
              "        const charts = await google.colab.kernel.invokeFunction(\n",
              "            'suggestCharts', [key], {});\n",
              "      } catch (error) {\n",
              "        console.error('Error during call to suggestCharts:', error);\n",
              "      }\n",
              "      quickchartButtonEl.classList.remove('colab-df-spinner');\n",
              "      quickchartButtonEl.classList.add('colab-df-quickchart-complete');\n",
              "    }\n",
              "    (() => {\n",
              "      let quickchartButtonEl =\n",
              "        document.querySelector('#df-456e9b75-784d-4ec3-bc60-8a39ceebb054 button');\n",
              "      quickchartButtonEl.style.display =\n",
              "        google.colab.kernel.accessAllowed ? 'block' : 'none';\n",
              "    })();\n",
              "  </script>\n",
              "</div>\n",
              "\n",
              "  <div id=\"id_69b40cc3-ff3d-4f2d-a650-f18740ec6832\">\n",
              "    <style>\n",
              "      .colab-df-generate {\n",
              "        background-color: #E8F0FE;\n",
              "        border: none;\n",
              "        border-radius: 50%;\n",
              "        cursor: pointer;\n",
              "        display: none;\n",
              "        fill: #1967D2;\n",
              "        height: 32px;\n",
              "        padding: 0 0 0 0;\n",
              "        width: 32px;\n",
              "      }\n",
              "\n",
              "      .colab-df-generate:hover {\n",
              "        background-color: #E2EBFA;\n",
              "        box-shadow: 0px 1px 2px rgba(60, 64, 67, 0.3), 0px 1px 3px 1px rgba(60, 64, 67, 0.15);\n",
              "        fill: #174EA6;\n",
              "      }\n",
              "\n",
              "      [theme=dark] .colab-df-generate {\n",
              "        background-color: #3B4455;\n",
              "        fill: #D2E3FC;\n",
              "      }\n",
              "\n",
              "      [theme=dark] .colab-df-generate:hover {\n",
              "        background-color: #434B5C;\n",
              "        box-shadow: 0px 1px 3px 1px rgba(0, 0, 0, 0.15);\n",
              "        filter: drop-shadow(0px 1px 2px rgba(0, 0, 0, 0.3));\n",
              "        fill: #FFFFFF;\n",
              "      }\n",
              "    </style>\n",
              "    <button class=\"colab-df-generate\" onclick=\"generateWithVariable('data_info')\"\n",
              "            title=\"Generate code using this dataframe.\"\n",
              "            style=\"display:none;\">\n",
              "\n",
              "  <svg xmlns=\"http://www.w3.org/2000/svg\" height=\"24px\"viewBox=\"0 0 24 24\"\n",
              "       width=\"24px\">\n",
              "    <path d=\"M7,19H8.4L18.45,9,17,7.55,7,17.6ZM5,21V16.75L18.45,3.32a2,2,0,0,1,2.83,0l1.4,1.43a1.91,1.91,0,0,1,.58,1.4,1.91,1.91,0,0,1-.58,1.4L9.25,21ZM18.45,9,17,7.55Zm-12,3A5.31,5.31,0,0,0,4.9,8.1,5.31,5.31,0,0,0,1,6.5,5.31,5.31,0,0,0,4.9,4.9,5.31,5.31,0,0,0,6.5,1,5.31,5.31,0,0,0,8.1,4.9,5.31,5.31,0,0,0,12,6.5,5.46,5.46,0,0,0,6.5,12Z\"/>\n",
              "  </svg>\n",
              "    </button>\n",
              "    <script>\n",
              "      (() => {\n",
              "      const buttonEl =\n",
              "        document.querySelector('#id_69b40cc3-ff3d-4f2d-a650-f18740ec6832 button.colab-df-generate');\n",
              "      buttonEl.style.display =\n",
              "        google.colab.kernel.accessAllowed ? 'block' : 'none';\n",
              "\n",
              "      buttonEl.onclick = () => {\n",
              "        google.colab.notebook.generateWithVariable('data_info');\n",
              "      }\n",
              "      })();\n",
              "    </script>\n",
              "  </div>\n",
              "\n",
              "    </div>\n",
              "  </div>\n"
            ],
            "application/vnd.google.colaboratory.intrinsic+json": {
              "type": "dataframe",
              "variable_name": "data_info",
              "summary": "{\n  \"name\": \"data_info\",\n  \"rows\": 168,\n  \"fields\": [\n    {\n      \"column\": \"Variable\",\n      \"properties\": {\n        \"dtype\": \"string\",\n        \"num_unique_values\": 168,\n        \"samples\": [\n          \"ARTHUPEX\",\n          \"HISPOR\",\n          \"NITE\"\n        ],\n        \"semantic_type\": \"\",\n        \"description\": \"\"\n      }\n    },\n    {\n      \"column\": \"#_Total_Entry\",\n      \"properties\": {\n        \"dtype\": \"number\",\n        \"std\": 0,\n        \"min\": 150092,\n        \"max\": 150092,\n        \"num_unique_values\": 1,\n        \"samples\": [\n          150092\n        ],\n        \"semantic_type\": \"\",\n        \"description\": \"\"\n      }\n    },\n    {\n      \"column\": \"#_Missing_Value\",\n      \"properties\": {\n        \"dtype\": \"number\",\n        \"std\": 37580,\n        \"min\": 0,\n        \"max\": 150073,\n        \"num_unique_values\": 14,\n        \"samples\": [\n          148364\n        ],\n        \"semantic_type\": \"\",\n        \"description\": \"\"\n      }\n    },\n    {\n      \"column\": \"%_Missing_Value\",\n      \"properties\": {\n        \"dtype\": \"number\",\n        \"std\": 0.2503844069645427,\n        \"min\": 0.0,\n        \"max\": 0.9998734109746023,\n        \"num_unique_values\": 14,\n        \"samples\": [\n          0.9884870612690883\n        ],\n        \"semantic_type\": \"\",\n        \"description\": \"\"\n      }\n    },\n    {\n      \"column\": \"Data_Type\",\n      \"properties\": {\n        \"dtype\": \"category\",\n        \"num_unique_values\": 3,\n        \"samples\": [\n          \"object\"\n        ],\n        \"semantic_type\": \"\",\n        \"description\": \"\"\n      }\n    },\n    {\n      \"column\": \"Unique_Values\",\n      \"properties\": {\n        \"dtype\": \"object\",\n        \"semantic_type\": \"\",\n        \"description\": \"\"\n      }\n    },\n    {\n      \"column\": \"#_Unique_Values\",\n      \"properties\": {\n        \"dtype\": \"number\",\n        \"std\": 3390,\n        \"min\": 2,\n        \"max\": 43607,\n        \"num_unique_values\": 36,\n        \"samples\": [\n          2\n        ],\n        \"semantic_type\": \"\",\n        \"description\": \"\"\n      }\n    }\n  ]\n}"
            }
          },
          "metadata": {},
          "execution_count": 10
        }
      ]
    },
    {
      "cell_type": "markdown",
      "source": [
        "## NCvsAD - Prepocessing"
      ],
      "metadata": {
        "id": "NWpFqR_Kl4s5"
      }
    },
    {
      "cell_type": "markdown",
      "source": [
        "### Addressing Missing/Null Values"
      ],
      "metadata": {
        "id": "kpE4epzHhMCf"
      }
    },
    {
      "cell_type": "markdown",
      "source": [
        "#### Replacing categorical null values\n",
        "In this particular dataset, the missing/null value in the object columns conveys important information. Hence, we address their missing values by replacing them with a \"empty\" category."
      ],
      "metadata": {
        "id": "1849yqqrSRRK"
      }
    },
    {
      "cell_type": "code",
      "source": [
        "# check for null values\n",
        "nan_counts = NCvsAD.isna().sum()\n",
        "nan_columns = nan_counts[nan_counts > 0]\n",
        "print(nan_columns)"
      ],
      "metadata": {
        "colab": {
          "base_uri": "https://localhost:8080/"
        },
        "id": "hh9Amg4qgKUJ",
        "outputId": "f2c149ee-4191-4c7a-91dd-de4b2d91f46e"
      },
      "execution_count": null,
      "outputs": [
        {
          "output_type": "stream",
          "name": "stdout",
          "text": [
            "BPSYS          372\n",
            "BPDIAS         372\n",
            "HRATE          372\n",
            "CVOTHRX     138524\n",
            "NCOTHRX     145848\n",
            "ARTHTYPX    149872\n",
            "OTHSLEEX    149619\n",
            "ABUSX       149180\n",
            "PSYCDISX    144058\n",
            "NPIQINFX    119576\n",
            "HISPORX     149685\n",
            "RACEX       148364\n",
            "RACESECX    149860\n",
            "RACETERX    150073\n",
            "PRIMLANX    148144\n",
            "dtype: int64\n"
          ]
        }
      ]
    },
    {
      "cell_type": "code",
      "source": [
        "# define function to replace categorical Null values with \"empty\" category\n",
        "def impute_missing_categorical(df):\n",
        "  categorical_cols = df.select_dtypes(include='object').columns\n",
        "  for col in categorical_cols:\n",
        "    df.loc[df[col].isna(), col] = 'empty'\n",
        "\n",
        "  return df"
      ],
      "metadata": {
        "id": "l7W_rjF2lNXL"
      },
      "execution_count": null,
      "outputs": []
    },
    {
      "cell_type": "code",
      "source": [
        "# @title\n",
        "# replace Null values with \"empty\" category\n",
        "NCvsAD = impute_missing_categorical(NCvsAD)\n",
        "\n",
        "# check for null values\n",
        "nan_counts = NCvsAD.isna().sum()\n",
        "nan_columns = nan_counts[nan_counts > 0]\n",
        "print(nan_columns)"
      ],
      "metadata": {
        "colab": {
          "base_uri": "https://localhost:8080/"
        },
        "id": "aq1SUk-OTvvL",
        "outputId": "160a6e3c-75aa-41a1-db62-68c1aa616c22"
      },
      "execution_count": null,
      "outputs": [
        {
          "output_type": "stream",
          "name": "stdout",
          "text": [
            "BPSYS     372\n",
            "BPDIAS    372\n",
            "HRATE     372\n",
            "dtype: int64\n"
          ]
        }
      ]
    },
    {
      "cell_type": "markdown",
      "source": [
        "#### Replacing Numerical Missing/Null Values\n",
        "There are certain numerical values that represent missing/unkown values (i.e., 888.8, 88.8, 8.8, 9, 99, 999, 88, 888, -4 and 8888).\n",
        "Hence we replace these values with NaN values to preserve data integrity\n",
        "\n"
      ],
      "metadata": {
        "id": "FXNsK61bmDGt"
      }
    },
    {
      "cell_type": "code",
      "source": [
        "# define function to replace missing/unknown values with NaN for uniformity\n",
        "\n",
        "def replace_with_nan(df):\n",
        "  numerical_cols = df.select_dtypes(include=['float64', 'int64']).columns\n",
        "  for col in numerical_cols:\n",
        "    df.loc[df[col] == 888.8, col] = np.nan\n",
        "    df.loc[df[col] == 88.8, col] = np.nan\n",
        "    df.loc[df[col] == 8.8, col] = np.nan\n",
        "    df.loc[df[col] == 9, col] = np.nan\n",
        "    df.loc[df[col] == 99, col] = np.nan\n",
        "    df.loc[df[col] == 999, col] = np.nan\n",
        "    df.loc[df[col] == 88, col] = np.nan\n",
        "    df.loc[df[col] == 888, col] = np.nan\n",
        "    df.loc[df[col] == -4, col] = np.nan\n",
        "    df.loc[df[col] == 8888, col] = np.nan\n",
        "\n",
        "  return df"
      ],
      "metadata": {
        "id": "Np00SImll9IV"
      },
      "execution_count": null,
      "outputs": []
    },
    {
      "cell_type": "code",
      "source": [
        "# @title\n",
        "NCvsAD = replace_with_nan(NCvsAD)\n",
        "\n",
        "# check for null values\n",
        "nan_counts = NCvsAD.isna().sum()\n",
        "nan_columns = nan_counts[nan_counts > 0]\n",
        "print(nan_columns)"
      ],
      "metadata": {
        "colab": {
          "base_uri": "https://localhost:8080/"
        },
        "id": "lfwMsJOfn1rI",
        "outputId": "3dea90be-a3ba-4b59-e99a-fcc02b78361d"
      },
      "execution_count": null,
      "outputs": [
        {
          "output_type": "stream",
          "name": "stdout",
          "text": [
            "NACCVNUM     4083\n",
            "NACCBMI     32594\n",
            "BPSYS       32110\n",
            "BPDIAS      34225\n",
            "HRATE       33635\n",
            "            ...  \n",
            "INDEPEND      439\n",
            "RESIDENC     1806\n",
            "HANDED        830\n",
            "NACCAGE      2787\n",
            "NACCNIHR     1866\n",
            "Length: 153, dtype: int64\n"
          ]
        }
      ]
    },
    {
      "cell_type": "code",
      "source": [
        "# define function to identify continuous and discrete features\n",
        "def id_continuous(df, threshold=15):\n",
        "  discrete_cols = [col for col in df.columns\n",
        "                   if df[col].nunique() <= threshold and\n",
        "                   df[col].dtype in ['int64', 'float64']]\n",
        "  continuous_cols = [col for col in df.columns\n",
        "                     if col not in discrete_cols and\n",
        "                     df[col].dtype in ['int64', 'float64']]\n",
        "  return discrete_cols, continuous_cols\n",
        "\n",
        "# define function to process missing numerical values by replacing continuous features with the mean and discrete features with the mode\n",
        "def impute_missing_numerical(df):\n",
        "  # identify continuous and discrete columns\n",
        "  discrete_cols, continuous_cols = id_continuous(df)\n",
        "\n",
        "  # Fill remaining missing values using mean for continuous features and mode for categorical features\n",
        "  for col in continuous_cols:\n",
        "      df.loc[df[col].isna(), col] = df[col].mean()\n",
        "\n",
        "  for col in discrete_cols:\n",
        "    df.loc[df[col].isna(), col] = df[col].mode()[0]\n",
        "  return df"
      ],
      "metadata": {
        "id": "qlpP4ur4ixkj"
      },
      "execution_count": null,
      "outputs": []
    },
    {
      "cell_type": "code",
      "source": [
        "# @title\n",
        "# replace missing/null values\n",
        "NCvsAD = impute_missing_numerical(NCvsAD)\n",
        "\n",
        "# check for null values\n",
        "nan_counts = NCvsAD.isna().sum()\n",
        "nan_columns = nan_counts[nan_counts > 0]\n",
        "print(nan_columns)"
      ],
      "metadata": {
        "colab": {
          "base_uri": "https://localhost:8080/"
        },
        "id": "KuSdxJYRnHQz",
        "outputId": "44527d68-1527-4854-ea04-fe6d65936120"
      },
      "execution_count": null,
      "outputs": [
        {
          "output_type": "stream",
          "name": "stdout",
          "text": [
            "Series([], dtype: int64)\n"
          ]
        }
      ]
    },
    {
      "cell_type": "markdown",
      "source": [
        "### Removing Unmeaning Featues\n",
        "This process removes features that lack variability, i.e., 90% or more of the values in the column are the same, which might not contribute significantly to the predictive power of a model\n"
      ],
      "metadata": {
        "id": "RYEI9rMtp_nt"
      }
    },
    {
      "cell_type": "code",
      "source": [
        "# define function to rremove unmeaning features\n",
        "\n",
        "def remove_unmeaning(df):\n",
        "  # Calculate the percentage of the most frequent value for each column\n",
        "  value_freq_ratio = df.apply(lambda x: x.value_counts(normalize=True).max())\n",
        "\n",
        "  # Filter the columns with values with a 90% ratio frequency\n",
        "  columns_to_drop = value_freq_ratio[value_freq_ratio >= 0.9].index\n",
        "  df = df.drop(columns=columns_to_drop)\n",
        "\n",
        "  return df\n"
      ],
      "metadata": {
        "id": "Cw8zpoODp_n4"
      },
      "execution_count": null,
      "outputs": []
    },
    {
      "cell_type": "code",
      "source": [
        "# @title\n",
        "NCvsAD = remove_unmeaning(NCvsAD)\n",
        "\n",
        "# check\n",
        "NCvsAD.info()"
      ],
      "metadata": {
        "colab": {
          "base_uri": "https://localhost:8080/"
        },
        "outputId": "ca87999b-4ff7-4ac0-dd36-4c5fdf0cb34b",
        "id": "m1K8q4WGp_n4"
      },
      "execution_count": null,
      "outputs": [
        {
          "output_type": "stream",
          "name": "stdout",
          "text": [
            "<class 'pandas.core.frame.DataFrame'>\n",
            "Index: 150092 entries, 2 to 192087\n",
            "Data columns (total 74 columns):\n",
            " #   Column    Non-Null Count   Dtype  \n",
            "---  ------    --------------   -----  \n",
            " 0   NACCID    150092 non-null  object \n",
            " 1   NACCVNUM  150092 non-null  float64\n",
            " 2   NACCBMI   150092 non-null  float64\n",
            " 3   BPSYS     150092 non-null  float64\n",
            " 4   BPDIAS    150092 non-null  float64\n",
            " 5   HRATE     150092 non-null  float64\n",
            " 6   VISION    150092 non-null  float64\n",
            " 7   VISCORR   150092 non-null  float64\n",
            " 8   VISWCORR  150092 non-null  float64\n",
            " 9   HEARING   150092 non-null  float64\n",
            " 10  HEARAID   150092 non-null  float64\n",
            " 11  HEARWAID  150092 non-null  float64\n",
            " 12  MEMORY    150092 non-null  float64\n",
            " 13  ORIENT    150092 non-null  float64\n",
            " 14  JUDGMENT  150092 non-null  float64\n",
            " 15  COMMUN    150092 non-null  float64\n",
            " 16  HOMEHOBB  150092 non-null  float64\n",
            " 17  PERSCARE  150092 non-null  float64\n",
            " 18  COMPORT   150092 non-null  float64\n",
            " 19  CDRLANG   150092 non-null  float64\n",
            " 20  TOBAC100  150092 non-null  float64\n",
            " 21  SMOKYRS   150092 non-null  float64\n",
            " 22  PACKSPER  150092 non-null  float64\n",
            " 23  QUITSMOK  150092 non-null  float64\n",
            " 24  HYPERTEN  150092 non-null  float64\n",
            " 25  HYPERCHO  150092 non-null  float64\n",
            " 26  THYROID   150092 non-null  float64\n",
            " 27  INCONTU   150092 non-null  float64\n",
            " 28  DEP2YRS   150092 non-null  float64\n",
            " 29  DEPOTHR   150092 non-null  float64\n",
            " 30  DROPACT   150092 non-null  float64\n",
            " 31  STAYHOME  150092 non-null  float64\n",
            " 32  MEMPROB   150092 non-null  float64\n",
            " 33  ENERGY    150092 non-null  float64\n",
            " 34  NACCGDS   150092 non-null  float64\n",
            " 35  NPIQINF   150092 non-null  float64\n",
            " 36  NPIQINFX  150092 non-null  object \n",
            " 37  AGIT      150092 non-null  float64\n",
            " 38  AGITSEV   150092 non-null  float64\n",
            " 39  DEPD      150092 non-null  float64\n",
            " 40  DEPDSEV   150092 non-null  float64\n",
            " 41  ANX       150092 non-null  float64\n",
            " 42  ANXSEV    150092 non-null  float64\n",
            " 43  APA       150092 non-null  float64\n",
            " 44  APASEV    150092 non-null  float64\n",
            " 45  DISN      150092 non-null  float64\n",
            " 46  DISNSEV   150092 non-null  float64\n",
            " 47  IRR       150092 non-null  float64\n",
            " 48  IRRSEV    150092 non-null  float64\n",
            " 49  MOT       150092 non-null  float64\n",
            " 50  MOTSEV    150092 non-null  float64\n",
            " 51  NITE      150092 non-null  float64\n",
            " 52  NITESEV   150092 non-null  float64\n",
            " 53  APP       150092 non-null  float64\n",
            " 54  APPSEV    150092 non-null  float64\n",
            " 55  BILLS     150092 non-null  float64\n",
            " 56  TAXES     150092 non-null  float64\n",
            " 57  SHOPPING  150092 non-null  float64\n",
            " 58  GAMES     150092 non-null  float64\n",
            " 59  STOVE     150092 non-null  float64\n",
            " 60  MEALPREP  150092 non-null  float64\n",
            " 61  EVENTS    150092 non-null  float64\n",
            " 62  PAYATTN   150092 non-null  float64\n",
            " 63  TRAVEL    150092 non-null  float64\n",
            " 64  SEX       150092 non-null  float64\n",
            " 65  RACE      150092 non-null  float64\n",
            " 66  EDUC      150092 non-null  float64\n",
            " 67  MARISTAT  150092 non-null  float64\n",
            " 68  NACCLIVS  150092 non-null  float64\n",
            " 69  INDEPEND  150092 non-null  float64\n",
            " 70  RESIDENC  150092 non-null  float64\n",
            " 71  NACCAGE   150092 non-null  float64\n",
            " 72  NACCNIHR  150092 non-null  float64\n",
            " 73  NACCUDSD  150092 non-null  float64\n",
            "dtypes: float64(72), object(2)\n",
            "memory usage: 85.9+ MB\n"
          ]
        }
      ]
    },
    {
      "cell_type": "markdown",
      "source": [
        "### Removing Outliers"
      ],
      "metadata": {
        "id": "t32yGmDt94xz"
      }
    },
    {
      "cell_type": "code",
      "source": [
        "def remove_outliers(df, col_name):\n",
        "  # identify lower and upper limits\n",
        "  quartile1 = df[col_name].quantile(0.25)\n",
        "  quartile3 = df[col_name].quantile(0.75)\n",
        "  IQR = quartile3 - quartile1\n",
        "  up_limit = quartile3 + (1.5 * IQR)\n",
        "  low_limit = quartile1 - (1.5 * IQR)\n",
        "\n",
        "  # replace outliers with median values\n",
        "  df.loc[(df[col_name] < low_limit), col_name] = df[col_name].median()\n",
        "  df.loc[(df[col_name] > up_limit), col_name] = df[col_name].median()\n",
        "\n",
        "  return df"
      ],
      "metadata": {
        "id": "tsx-RnHftMkd"
      },
      "execution_count": null,
      "outputs": []
    },
    {
      "cell_type": "code",
      "source": [
        "# Apply remove_outliers function\n",
        "for col in NCvsAD.columns:\n",
        "  if NCvsAD[col].dtype in ['int64', 'float64']:\n",
        "    NCvsAD = remove_outliers(NCvsAD, col)"
      ],
      "metadata": {
        "id": "udOrSI_J7uxm"
      },
      "execution_count": null,
      "outputs": []
    },
    {
      "cell_type": "markdown",
      "source": [
        "### Addressing Object Variables"
      ],
      "metadata": {
        "id": "ifCzOZI7-P-t"
      }
    },
    {
      "cell_type": "code",
      "source": [
        "# @title\n",
        "for col in NCvsAD.columns:\n",
        "  if NCvsAD[col].dtype in ['object']:\n",
        "    print (col)"
      ],
      "metadata": {
        "colab": {
          "base_uri": "https://localhost:8080/"
        },
        "id": "eKp33YPfQ46L",
        "outputId": "3ca7f6f6-3a60-4ef0-cc16-39012a88a8b4"
      },
      "execution_count": null,
      "outputs": [
        {
          "output_type": "stream",
          "name": "stdout",
          "text": [
            "NACCID\n",
            "NPIQINFX\n"
          ]
        }
      ]
    },
    {
      "cell_type": "markdown",
      "source": [
        "The 'NPIQINFX' column metadata reads that it is information on the subject's co-participant. This does not necessarily affect diagnosis from a health perspective. Hence we drop it.\n",
        "\n",
        "We also drop the 'NACCID' object column as it is not relevant to diagnosis"
      ],
      "metadata": {
        "id": "2iCjCmax-YFL"
      }
    },
    {
      "cell_type": "code",
      "source": [
        "NCvsAD = NCvsAD.drop(['NACCID', 'NPIQINFX'], axis=1)\n",
        "\n",
        "NCvsAD.info()"
      ],
      "metadata": {
        "colab": {
          "base_uri": "https://localhost:8080/"
        },
        "id": "s-HMotGS7uxn",
        "outputId": "1d2ed92c-361f-4a02-f3a8-b80583c7be72"
      },
      "execution_count": null,
      "outputs": [
        {
          "output_type": "stream",
          "name": "stdout",
          "text": [
            "<class 'pandas.core.frame.DataFrame'>\n",
            "Index: 150092 entries, 2 to 192087\n",
            "Data columns (total 72 columns):\n",
            " #   Column    Non-Null Count   Dtype  \n",
            "---  ------    --------------   -----  \n",
            " 0   NACCVNUM  150092 non-null  float64\n",
            " 1   NACCBMI   150092 non-null  float64\n",
            " 2   BPSYS     150092 non-null  float64\n",
            " 3   BPDIAS    150092 non-null  float64\n",
            " 4   HRATE     150092 non-null  float64\n",
            " 5   VISION    150092 non-null  float64\n",
            " 6   VISCORR   150092 non-null  float64\n",
            " 7   VISWCORR  150092 non-null  float64\n",
            " 8   HEARING   150092 non-null  float64\n",
            " 9   HEARAID   150092 non-null  float64\n",
            " 10  HEARWAID  150092 non-null  float64\n",
            " 11  MEMORY    150092 non-null  float64\n",
            " 12  ORIENT    150092 non-null  float64\n",
            " 13  JUDGMENT  150092 non-null  float64\n",
            " 14  COMMUN    150092 non-null  float64\n",
            " 15  HOMEHOBB  150092 non-null  float64\n",
            " 16  PERSCARE  150092 non-null  float64\n",
            " 17  COMPORT   150092 non-null  float64\n",
            " 18  CDRLANG   150092 non-null  float64\n",
            " 19  TOBAC100  150092 non-null  float64\n",
            " 20  SMOKYRS   150092 non-null  float64\n",
            " 21  PACKSPER  150092 non-null  float64\n",
            " 22  QUITSMOK  150092 non-null  float64\n",
            " 23  HYPERTEN  150092 non-null  float64\n",
            " 24  HYPERCHO  150092 non-null  float64\n",
            " 25  THYROID   150092 non-null  float64\n",
            " 26  INCONTU   150092 non-null  float64\n",
            " 27  DEP2YRS   150092 non-null  float64\n",
            " 28  DEPOTHR   150092 non-null  float64\n",
            " 29  DROPACT   150092 non-null  float64\n",
            " 30  STAYHOME  150092 non-null  float64\n",
            " 31  MEMPROB   150092 non-null  float64\n",
            " 32  ENERGY    150092 non-null  float64\n",
            " 33  NACCGDS   150092 non-null  float64\n",
            " 34  NPIQINF   150092 non-null  float64\n",
            " 35  AGIT      150092 non-null  float64\n",
            " 36  AGITSEV   150092 non-null  float64\n",
            " 37  DEPD      150092 non-null  float64\n",
            " 38  DEPDSEV   150092 non-null  float64\n",
            " 39  ANX       150092 non-null  float64\n",
            " 40  ANXSEV    150092 non-null  float64\n",
            " 41  APA       150092 non-null  float64\n",
            " 42  APASEV    150092 non-null  float64\n",
            " 43  DISN      150092 non-null  float64\n",
            " 44  DISNSEV   150092 non-null  float64\n",
            " 45  IRR       150092 non-null  float64\n",
            " 46  IRRSEV    150092 non-null  float64\n",
            " 47  MOT       150092 non-null  float64\n",
            " 48  MOTSEV    150092 non-null  float64\n",
            " 49  NITE      150092 non-null  float64\n",
            " 50  NITESEV   150092 non-null  float64\n",
            " 51  APP       150092 non-null  float64\n",
            " 52  APPSEV    150092 non-null  float64\n",
            " 53  BILLS     150092 non-null  float64\n",
            " 54  TAXES     150092 non-null  float64\n",
            " 55  SHOPPING  150092 non-null  float64\n",
            " 56  GAMES     150092 non-null  float64\n",
            " 57  STOVE     150092 non-null  float64\n",
            " 58  MEALPREP  150092 non-null  float64\n",
            " 59  EVENTS    150092 non-null  float64\n",
            " 60  PAYATTN   150092 non-null  float64\n",
            " 61  TRAVEL    150092 non-null  float64\n",
            " 62  SEX       150092 non-null  float64\n",
            " 63  RACE      150092 non-null  float64\n",
            " 64  EDUC      150092 non-null  float64\n",
            " 65  MARISTAT  150092 non-null  float64\n",
            " 66  NACCLIVS  150092 non-null  float64\n",
            " 67  INDEPEND  150092 non-null  float64\n",
            " 68  RESIDENC  150092 non-null  float64\n",
            " 69  NACCAGE   150092 non-null  float64\n",
            " 70  NACCNIHR  150092 non-null  float64\n",
            " 71  NACCUDSD  150092 non-null  float64\n",
            "dtypes: float64(72)\n",
            "memory usage: 83.6 MB\n"
          ]
        }
      ]
    },
    {
      "cell_type": "markdown",
      "source": [
        "### Discretising Continuous Features"
      ],
      "metadata": {
        "id": "oSNSnce_BHew"
      }
    },
    {
      "cell_type": "code",
      "source": [
        "discrete_cols, continuous_cols = id_continuous(NCvsAD)\n",
        "print(continuous_cols)"
      ],
      "metadata": {
        "colab": {
          "base_uri": "https://localhost:8080/"
        },
        "id": "JV1PHmI80EYp",
        "outputId": "c713e1ba-7fc2-4d50-a6b7-fb35fee0b348"
      },
      "execution_count": null,
      "outputs": [
        {
          "output_type": "stream",
          "name": "stdout",
          "text": [
            "['NACCBMI', 'BPSYS', 'BPDIAS', 'HRATE', 'SMOKYRS', 'EDUC', 'NACCAGE']\n"
          ]
        }
      ]
    },
    {
      "cell_type": "code",
      "source": [
        "# @title\n",
        "# define function to discretise continuous features\n",
        "def discretise(df):\n",
        "  df['NACCBMI'] = pd.cut(df['NACCBMI'], bins = [0,18.5,25,30,100], labels=[0,1, 2,3])\n",
        "  df['BPSYS'] = pd.cut(df['BPSYS'], bins = [0,90,140,250], labels=[0,1, 2])\n",
        "  df['BPDIAS'] = pd.cut(df['BPDIAS'], bins = [0,60,90,250], labels=[0,1, 2])\n",
        "  df['HRATE'] = pd.cut(df['HRATE'], bins = [0,60,100,250], labels=[0,1,0], ordered=False)\n",
        "  df['SMOKYRS'] = pd.cut(df['SMOKYRS'], bins = [-1,15,30,100], labels=[0,1, 2])\n",
        "  df['QUITSMOK'] = pd.cut(df['QUITSMOK'], bins = [-1,15,30,100], labels=[0,1, 2])\n",
        "  df['EDUC'] = pd.cut(df['EDUC'], bins = [0,12,16,50], labels=[0,1, 2])\n",
        "  df['NACCAGE'] = pd.cut(df['NACCAGE'], bins = [0,60,75,150], labels=[0,1,2])\n",
        "\n",
        "  return df"
      ],
      "metadata": {
        "id": "QaakcHBHCIdN"
      },
      "execution_count": null,
      "outputs": []
    },
    {
      "cell_type": "code",
      "source": [
        "NCvsAD = discretise(NCvsAD)\n",
        "\n",
        "# check\n",
        "NCvsAD[continuous_cols].head()"
      ],
      "metadata": {
        "colab": {
          "base_uri": "https://localhost:8080/"
        },
        "id": "9LkjWaU_DumV",
        "outputId": "9ef1b2bf-d0bb-4361-f437-d046ea27b04b"
      },
      "execution_count": null,
      "outputs": [
        {
          "output_type": "execute_result",
          "data": {
            "text/plain": [
              "  NACCBMI BPSYS BPDIAS HRATE SMOKYRS EDUC NACCAGE\n",
              "2       1     2      1     1       0    1       1\n",
              "3       2     1      1     1       0    1       1\n",
              "4       1     2      1     1       0    0       2\n",
              "6       2     1      0     1       0    2       2\n",
              "7       2     2      1     0       0    2       2"
            ],
            "text/html": [
              "\n",
              "  <div id=\"df-cb6ceef4-b855-41d7-a84e-d177897f2cca\" class=\"colab-df-container\">\n",
              "    <div>\n",
              "<style scoped>\n",
              "    .dataframe tbody tr th:only-of-type {\n",
              "        vertical-align: middle;\n",
              "    }\n",
              "\n",
              "    .dataframe tbody tr th {\n",
              "        vertical-align: top;\n",
              "    }\n",
              "\n",
              "    .dataframe thead th {\n",
              "        text-align: right;\n",
              "    }\n",
              "</style>\n",
              "<table border=\"1\" class=\"dataframe\">\n",
              "  <thead>\n",
              "    <tr style=\"text-align: right;\">\n",
              "      <th></th>\n",
              "      <th>NACCBMI</th>\n",
              "      <th>BPSYS</th>\n",
              "      <th>BPDIAS</th>\n",
              "      <th>HRATE</th>\n",
              "      <th>SMOKYRS</th>\n",
              "      <th>EDUC</th>\n",
              "      <th>NACCAGE</th>\n",
              "    </tr>\n",
              "  </thead>\n",
              "  <tbody>\n",
              "    <tr>\n",
              "      <th>2</th>\n",
              "      <td>1</td>\n",
              "      <td>2</td>\n",
              "      <td>1</td>\n",
              "      <td>1</td>\n",
              "      <td>0</td>\n",
              "      <td>1</td>\n",
              "      <td>1</td>\n",
              "    </tr>\n",
              "    <tr>\n",
              "      <th>3</th>\n",
              "      <td>2</td>\n",
              "      <td>1</td>\n",
              "      <td>1</td>\n",
              "      <td>1</td>\n",
              "      <td>0</td>\n",
              "      <td>1</td>\n",
              "      <td>1</td>\n",
              "    </tr>\n",
              "    <tr>\n",
              "      <th>4</th>\n",
              "      <td>1</td>\n",
              "      <td>2</td>\n",
              "      <td>1</td>\n",
              "      <td>1</td>\n",
              "      <td>0</td>\n",
              "      <td>0</td>\n",
              "      <td>2</td>\n",
              "    </tr>\n",
              "    <tr>\n",
              "      <th>6</th>\n",
              "      <td>2</td>\n",
              "      <td>1</td>\n",
              "      <td>0</td>\n",
              "      <td>1</td>\n",
              "      <td>0</td>\n",
              "      <td>2</td>\n",
              "      <td>2</td>\n",
              "    </tr>\n",
              "    <tr>\n",
              "      <th>7</th>\n",
              "      <td>2</td>\n",
              "      <td>2</td>\n",
              "      <td>1</td>\n",
              "      <td>0</td>\n",
              "      <td>0</td>\n",
              "      <td>2</td>\n",
              "      <td>2</td>\n",
              "    </tr>\n",
              "  </tbody>\n",
              "</table>\n",
              "</div>\n",
              "    <div class=\"colab-df-buttons\">\n",
              "\n",
              "  <div class=\"colab-df-container\">\n",
              "    <button class=\"colab-df-convert\" onclick=\"convertToInteractive('df-cb6ceef4-b855-41d7-a84e-d177897f2cca')\"\n",
              "            title=\"Convert this dataframe to an interactive table.\"\n",
              "            style=\"display:none;\">\n",
              "\n",
              "  <svg xmlns=\"http://www.w3.org/2000/svg\" height=\"24px\" viewBox=\"0 -960 960 960\">\n",
              "    <path d=\"M120-120v-720h720v720H120Zm60-500h600v-160H180v160Zm220 220h160v-160H400v160Zm0 220h160v-160H400v160ZM180-400h160v-160H180v160Zm440 0h160v-160H620v160ZM180-180h160v-160H180v160Zm440 0h160v-160H620v160Z\"/>\n",
              "  </svg>\n",
              "    </button>\n",
              "\n",
              "  <style>\n",
              "    .colab-df-container {\n",
              "      display:flex;\n",
              "      gap: 12px;\n",
              "    }\n",
              "\n",
              "    .colab-df-convert {\n",
              "      background-color: #E8F0FE;\n",
              "      border: none;\n",
              "      border-radius: 50%;\n",
              "      cursor: pointer;\n",
              "      display: none;\n",
              "      fill: #1967D2;\n",
              "      height: 32px;\n",
              "      padding: 0 0 0 0;\n",
              "      width: 32px;\n",
              "    }\n",
              "\n",
              "    .colab-df-convert:hover {\n",
              "      background-color: #E2EBFA;\n",
              "      box-shadow: 0px 1px 2px rgba(60, 64, 67, 0.3), 0px 1px 3px 1px rgba(60, 64, 67, 0.15);\n",
              "      fill: #174EA6;\n",
              "    }\n",
              "\n",
              "    .colab-df-buttons div {\n",
              "      margin-bottom: 4px;\n",
              "    }\n",
              "\n",
              "    [theme=dark] .colab-df-convert {\n",
              "      background-color: #3B4455;\n",
              "      fill: #D2E3FC;\n",
              "    }\n",
              "\n",
              "    [theme=dark] .colab-df-convert:hover {\n",
              "      background-color: #434B5C;\n",
              "      box-shadow: 0px 1px 3px 1px rgba(0, 0, 0, 0.15);\n",
              "      filter: drop-shadow(0px 1px 2px rgba(0, 0, 0, 0.3));\n",
              "      fill: #FFFFFF;\n",
              "    }\n",
              "  </style>\n",
              "\n",
              "    <script>\n",
              "      const buttonEl =\n",
              "        document.querySelector('#df-cb6ceef4-b855-41d7-a84e-d177897f2cca button.colab-df-convert');\n",
              "      buttonEl.style.display =\n",
              "        google.colab.kernel.accessAllowed ? 'block' : 'none';\n",
              "\n",
              "      async function convertToInteractive(key) {\n",
              "        const element = document.querySelector('#df-cb6ceef4-b855-41d7-a84e-d177897f2cca');\n",
              "        const dataTable =\n",
              "          await google.colab.kernel.invokeFunction('convertToInteractive',\n",
              "                                                    [key], {});\n",
              "        if (!dataTable) return;\n",
              "\n",
              "        const docLinkHtml = 'Like what you see? Visit the ' +\n",
              "          '<a target=\"_blank\" href=https://colab.research.google.com/notebooks/data_table.ipynb>data table notebook</a>'\n",
              "          + ' to learn more about interactive tables.';\n",
              "        element.innerHTML = '';\n",
              "        dataTable['output_type'] = 'display_data';\n",
              "        await google.colab.output.renderOutput(dataTable, element);\n",
              "        const docLink = document.createElement('div');\n",
              "        docLink.innerHTML = docLinkHtml;\n",
              "        element.appendChild(docLink);\n",
              "      }\n",
              "    </script>\n",
              "  </div>\n",
              "\n",
              "\n",
              "<div id=\"df-864e4563-6213-4878-bd0c-4be6f0a86dd1\">\n",
              "  <button class=\"colab-df-quickchart\" onclick=\"quickchart('df-864e4563-6213-4878-bd0c-4be6f0a86dd1')\"\n",
              "            title=\"Suggest charts\"\n",
              "            style=\"display:none;\">\n",
              "\n",
              "<svg xmlns=\"http://www.w3.org/2000/svg\" height=\"24px\"viewBox=\"0 0 24 24\"\n",
              "     width=\"24px\">\n",
              "    <g>\n",
              "        <path d=\"M19 3H5c-1.1 0-2 .9-2 2v14c0 1.1.9 2 2 2h14c1.1 0 2-.9 2-2V5c0-1.1-.9-2-2-2zM9 17H7v-7h2v7zm4 0h-2V7h2v10zm4 0h-2v-4h2v4z\"/>\n",
              "    </g>\n",
              "</svg>\n",
              "  </button>\n",
              "\n",
              "<style>\n",
              "  .colab-df-quickchart {\n",
              "      --bg-color: #E8F0FE;\n",
              "      --fill-color: #1967D2;\n",
              "      --hover-bg-color: #E2EBFA;\n",
              "      --hover-fill-color: #174EA6;\n",
              "      --disabled-fill-color: #AAA;\n",
              "      --disabled-bg-color: #DDD;\n",
              "  }\n",
              "\n",
              "  [theme=dark] .colab-df-quickchart {\n",
              "      --bg-color: #3B4455;\n",
              "      --fill-color: #D2E3FC;\n",
              "      --hover-bg-color: #434B5C;\n",
              "      --hover-fill-color: #FFFFFF;\n",
              "      --disabled-bg-color: #3B4455;\n",
              "      --disabled-fill-color: #666;\n",
              "  }\n",
              "\n",
              "  .colab-df-quickchart {\n",
              "    background-color: var(--bg-color);\n",
              "    border: none;\n",
              "    border-radius: 50%;\n",
              "    cursor: pointer;\n",
              "    display: none;\n",
              "    fill: var(--fill-color);\n",
              "    height: 32px;\n",
              "    padding: 0;\n",
              "    width: 32px;\n",
              "  }\n",
              "\n",
              "  .colab-df-quickchart:hover {\n",
              "    background-color: var(--hover-bg-color);\n",
              "    box-shadow: 0 1px 2px rgba(60, 64, 67, 0.3), 0 1px 3px 1px rgba(60, 64, 67, 0.15);\n",
              "    fill: var(--button-hover-fill-color);\n",
              "  }\n",
              "\n",
              "  .colab-df-quickchart-complete:disabled,\n",
              "  .colab-df-quickchart-complete:disabled:hover {\n",
              "    background-color: var(--disabled-bg-color);\n",
              "    fill: var(--disabled-fill-color);\n",
              "    box-shadow: none;\n",
              "  }\n",
              "\n",
              "  .colab-df-spinner {\n",
              "    border: 2px solid var(--fill-color);\n",
              "    border-color: transparent;\n",
              "    border-bottom-color: var(--fill-color);\n",
              "    animation:\n",
              "      spin 1s steps(1) infinite;\n",
              "  }\n",
              "\n",
              "  @keyframes spin {\n",
              "    0% {\n",
              "      border-color: transparent;\n",
              "      border-bottom-color: var(--fill-color);\n",
              "      border-left-color: var(--fill-color);\n",
              "    }\n",
              "    20% {\n",
              "      border-color: transparent;\n",
              "      border-left-color: var(--fill-color);\n",
              "      border-top-color: var(--fill-color);\n",
              "    }\n",
              "    30% {\n",
              "      border-color: transparent;\n",
              "      border-left-color: var(--fill-color);\n",
              "      border-top-color: var(--fill-color);\n",
              "      border-right-color: var(--fill-color);\n",
              "    }\n",
              "    40% {\n",
              "      border-color: transparent;\n",
              "      border-right-color: var(--fill-color);\n",
              "      border-top-color: var(--fill-color);\n",
              "    }\n",
              "    60% {\n",
              "      border-color: transparent;\n",
              "      border-right-color: var(--fill-color);\n",
              "    }\n",
              "    80% {\n",
              "      border-color: transparent;\n",
              "      border-right-color: var(--fill-color);\n",
              "      border-bottom-color: var(--fill-color);\n",
              "    }\n",
              "    90% {\n",
              "      border-color: transparent;\n",
              "      border-bottom-color: var(--fill-color);\n",
              "    }\n",
              "  }\n",
              "</style>\n",
              "\n",
              "  <script>\n",
              "    async function quickchart(key) {\n",
              "      const quickchartButtonEl =\n",
              "        document.querySelector('#' + key + ' button');\n",
              "      quickchartButtonEl.disabled = true;  // To prevent multiple clicks.\n",
              "      quickchartButtonEl.classList.add('colab-df-spinner');\n",
              "      try {\n",
              "        const charts = await google.colab.kernel.invokeFunction(\n",
              "            'suggestCharts', [key], {});\n",
              "      } catch (error) {\n",
              "        console.error('Error during call to suggestCharts:', error);\n",
              "      }\n",
              "      quickchartButtonEl.classList.remove('colab-df-spinner');\n",
              "      quickchartButtonEl.classList.add('colab-df-quickchart-complete');\n",
              "    }\n",
              "    (() => {\n",
              "      let quickchartButtonEl =\n",
              "        document.querySelector('#df-864e4563-6213-4878-bd0c-4be6f0a86dd1 button');\n",
              "      quickchartButtonEl.style.display =\n",
              "        google.colab.kernel.accessAllowed ? 'block' : 'none';\n",
              "    })();\n",
              "  </script>\n",
              "</div>\n",
              "\n",
              "    </div>\n",
              "  </div>\n"
            ],
            "application/vnd.google.colaboratory.intrinsic+json": {
              "type": "dataframe",
              "summary": "{\n  \"name\": \"NCvsAD[continuous_cols]\",\n  \"rows\": 5,\n  \"fields\": [\n    {\n      \"column\": \"NACCBMI\",\n      \"properties\": {\n        \"dtype\": \"category\",\n        \"num_unique_values\": 2,\n        \"samples\": [\n          2,\n          1\n        ],\n        \"semantic_type\": \"\",\n        \"description\": \"\"\n      }\n    },\n    {\n      \"column\": \"BPSYS\",\n      \"properties\": {\n        \"dtype\": \"category\",\n        \"num_unique_values\": 2,\n        \"samples\": [\n          1,\n          2\n        ],\n        \"semantic_type\": \"\",\n        \"description\": \"\"\n      }\n    },\n    {\n      \"column\": \"BPDIAS\",\n      \"properties\": {\n        \"dtype\": \"category\",\n        \"num_unique_values\": 2,\n        \"samples\": [\n          0,\n          1\n        ],\n        \"semantic_type\": \"\",\n        \"description\": \"\"\n      }\n    },\n    {\n      \"column\": \"HRATE\",\n      \"properties\": {\n        \"dtype\": \"category\",\n        \"num_unique_values\": 2,\n        \"samples\": [\n          0,\n          1\n        ],\n        \"semantic_type\": \"\",\n        \"description\": \"\"\n      }\n    },\n    {\n      \"column\": \"SMOKYRS\",\n      \"properties\": {\n        \"dtype\": \"category\",\n        \"num_unique_values\": 1,\n        \"samples\": [\n          0\n        ],\n        \"semantic_type\": \"\",\n        \"description\": \"\"\n      }\n    },\n    {\n      \"column\": \"EDUC\",\n      \"properties\": {\n        \"dtype\": \"category\",\n        \"num_unique_values\": 3,\n        \"samples\": [\n          1\n        ],\n        \"semantic_type\": \"\",\n        \"description\": \"\"\n      }\n    },\n    {\n      \"column\": \"NACCAGE\",\n      \"properties\": {\n        \"dtype\": \"category\",\n        \"num_unique_values\": 2,\n        \"samples\": [\n          2\n        ],\n        \"semantic_type\": \"\",\n        \"description\": \"\"\n      }\n    }\n  ]\n}"
            }
          },
          "metadata": {},
          "execution_count": 26
        }
      ]
    },
    {
      "cell_type": "markdown",
      "source": [
        "## Feature Selection"
      ],
      "metadata": {
        "id": "YWwqqbgvFva5"
      }
    },
    {
      "cell_type": "code",
      "source": [
        "def select_features_by_mutual_info(df, target, threshold=0.1):\n",
        "    # Calculate mutual information between each feature and the target\n",
        "    mi = mutual_info_classif(df.drop(target, axis=1), df[target], discrete_features=True)\n",
        "\n",
        "    # Create a DataFrame with feature names and their MI values\n",
        "    mi_df = pd.DataFrame({'Feature': df.drop(target, axis=1).columns, 'MI': mi})\n",
        "\n",
        "    # Filter features with MI above the threshold\n",
        "    features_to_keep = mi_df[mi_df['MI'] >= threshold]['Feature'].tolist()\n",
        "\n",
        "    return features_to_keep"
      ],
      "metadata": {
        "id": "4onsnTNjFzwS"
      },
      "execution_count": null,
      "outputs": []
    },
    {
      "cell_type": "code",
      "source": [
        "features_to_keep = select_features_by_mutual_info(NCvsAD, 'NACCUDSD', threshold=0.1)\n",
        "print(features_to_keep)"
      ],
      "metadata": {
        "colab": {
          "base_uri": "https://localhost:8080/"
        },
        "id": "BkEJmrT9GPTz",
        "outputId": "cc8fbc19-cccc-4aa7-9bf8-f2d62ab6b1ba"
      },
      "execution_count": null,
      "outputs": [
        {
          "output_type": "stream",
          "name": "stderr",
          "text": [
            "/usr/local/lib/python3.10/dist-packages/sklearn/metrics/cluster/_supervised.py:66: UserWarning: Clustering metrics expects discrete values but received continuous values for label, and binary values for target\n",
            "  warnings.warn(msg, UserWarning)\n",
            "/usr/local/lib/python3.10/dist-packages/sklearn/metrics/cluster/_supervised.py:66: UserWarning: Clustering metrics expects discrete values but received continuous values for label, and binary values for target\n",
            "  warnings.warn(msg, UserWarning)\n",
            "/usr/local/lib/python3.10/dist-packages/sklearn/metrics/cluster/_supervised.py:66: UserWarning: Clustering metrics expects discrete values but received continuous values for label, and binary values for target\n",
            "  warnings.warn(msg, UserWarning)\n",
            "/usr/local/lib/python3.10/dist-packages/sklearn/metrics/cluster/_supervised.py:66: UserWarning: Clustering metrics expects discrete values but received continuous values for label, and binary values for target\n",
            "  warnings.warn(msg, UserWarning)\n",
            "/usr/local/lib/python3.10/dist-packages/sklearn/metrics/cluster/_supervised.py:66: UserWarning: Clustering metrics expects discrete values but received continuous values for label, and binary values for target\n",
            "  warnings.warn(msg, UserWarning)\n",
            "/usr/local/lib/python3.10/dist-packages/sklearn/metrics/cluster/_supervised.py:66: UserWarning: Clustering metrics expects discrete values but received continuous values for label, and binary values for target\n",
            "  warnings.warn(msg, UserWarning)\n"
          ]
        },
        {
          "output_type": "stream",
          "name": "stdout",
          "text": [
            "['MEMORY', 'ORIENT', 'JUDGMENT', 'COMMUN', 'HOMEHOBB', 'BILLS', 'TAXES', 'SHOPPING', 'GAMES', 'MEALPREP', 'EVENTS', 'PAYATTN', 'TRAVEL', 'INDEPEND']\n"
          ]
        }
      ]
    },
    {
      "cell_type": "markdown",
      "source": [
        "## Split into Training & Testing Sets"
      ],
      "metadata": {
        "id": "0ZnChyBeThAd"
      }
    },
    {
      "cell_type": "code",
      "source": [
        "# @title\n",
        "X = NCvsAD[features_to_keep]\n",
        "y = NCvsAD['NACCUDSD']\n",
        "# First split: Training (70%) and Temporary set (30%)\n",
        "X_train, X_temp, y_train, y_temp = train_test_split(X, y, test_size=0.30, stratify=y, random_state=42)\n",
        "\n",
        "# Second split: Temporary set into Testing (15%) and Validation (15%)\n",
        "X_test, X_valid, y_test, y_valid = train_test_split(X_temp, y_temp, test_size=0.50, stratify=y_temp, random_state=42)\n",
        "del (X_temp, y_temp)\n",
        "\n",
        "print(f\"Training set shape: {X_train.shape}, {y_train.shape}\")\n",
        "print(f\"Validation set shape: {X_valid.shape}, {y_valid.shape}\")\n",
        "print(f\"Test set shape: {X_test.shape}, {y_test.shape}\")"
      ],
      "metadata": {
        "colab": {
          "base_uri": "https://localhost:8080/"
        },
        "id": "jXJ20kRlTZR-",
        "outputId": "f1f0f285-d9ea-4526-eb12-56f9a167e3ee"
      },
      "execution_count": null,
      "outputs": [
        {
          "output_type": "stream",
          "name": "stdout",
          "text": [
            "Training set shape: (88627, 14), (88627,)\n",
            "Validation set shape: (18992, 14), (18992,)\n",
            "Test set shape: (18992, 14), (18992,)\n"
          ]
        }
      ]
    },
    {
      "cell_type": "markdown",
      "source": [
        "## Modeling & Testing"
      ],
      "metadata": {
        "id": "khsJE4vEudoN"
      }
    },
    {
      "cell_type": "code",
      "source": [
        "# @title\n",
        "# define function to train 4 supervised models\n",
        "def train_models(X_train, y_train):\n",
        "    # Initialize models\n",
        "    models = {\n",
        "        'Random Forest': RandomForestClassifier(random_state=42),\n",
        "        'KNN': KNeighborsClassifier(),\n",
        "        'Naive Bayes': GaussianNB(),\n",
        "        'SVM': SVC(kernel='linear', random_state=42)\n",
        "    }\n",
        "\n",
        "    # Dictionary to store trained models\n",
        "    trained_models = {}\n",
        "\n",
        "    # Train each model\n",
        "    for name, model in models.items():\n",
        "        model.fit(X_train, y_train)\n",
        "        trained_models[name] = model\n",
        "        print(f\"{name} model trained.\")\n",
        "\n",
        "    return trained_models"
      ],
      "metadata": {
        "id": "7Ruts4ofsz_j"
      },
      "execution_count": null,
      "outputs": []
    },
    {
      "cell_type": "code",
      "source": [
        "# @title\n",
        "# define function to validate 4 supervised models\n",
        "def validate_models(models, X_valid, y_valid):\n",
        "    validation_results = {}\n",
        "\n",
        "    # Validate each model\n",
        "    for name, model in models.items():\n",
        "        y_pred = model.predict(X_valid)\n",
        "        accuracy = accuracy_score(y_valid, y_pred)\n",
        "        validation_results[name] = accuracy\n",
        "        print(f\"{name} validation accuracy: {accuracy:.4f}\")\n",
        "\n",
        "    return validation_results"
      ],
      "metadata": {
        "id": "JX9ZEmDdVcqM"
      },
      "execution_count": null,
      "outputs": []
    },
    {
      "cell_type": "code",
      "source": [
        "# @title\n",
        "# define function to test model performance\n",
        "def test_models(models, X_test, y_test):\n",
        "    test_results = {}\n",
        "\n",
        "    # Test each model\n",
        "    for name, model in models.items():\n",
        "        y_pred = model.predict(X_test)\n",
        "        accuracy = accuracy_score(y_test, y_pred)\n",
        "        test_results[name] = accuracy\n",
        "        print(f\"{name} test accuracy: {accuracy:.4f}\")\n",
        "        print(f\"{name} classification report:\\n\")\n",
        "        print(classification_report(y_test, y_pred))\n",
        "\n",
        "    return test_results"
      ],
      "metadata": {
        "id": "3Ot8ou2OVrzy"
      },
      "execution_count": null,
      "outputs": []
    },
    {
      "cell_type": "code",
      "source": [
        "# @title\n",
        "trained_models = train_models(X_train, y_train)"
      ],
      "metadata": {
        "colab": {
          "base_uri": "https://localhost:8080/"
        },
        "id": "k9wcAPKBtqS2",
        "outputId": "9dcde674-a6c2-41d0-f8e8-cfa4825c7b26"
      },
      "execution_count": null,
      "outputs": [
        {
          "output_type": "stream",
          "name": "stdout",
          "text": [
            "Random Forest model trained.\n",
            "KNN model trained.\n",
            "Naive Bayes model trained.\n",
            "SVM model trained.\n"
          ]
        }
      ]
    },
    {
      "cell_type": "code",
      "source": [
        "# @title\n",
        "validation_results = validate_models(trained_models, X_valid, y_valid)"
      ],
      "metadata": {
        "colab": {
          "base_uri": "https://localhost:8080/"
        },
        "id": "hnk8tiicXYSi",
        "outputId": "ad8b56b4-f09a-4aa3-db50-6b3f3a686432"
      },
      "execution_count": null,
      "outputs": [
        {
          "output_type": "stream",
          "name": "stdout",
          "text": [
            "Random Forest validation accuracy: 0.9073\n",
            "KNN validation accuracy: 0.8934\n",
            "Naive Bayes validation accuracy: 0.7732\n",
            "SVM validation accuracy: 0.9063\n"
          ]
        }
      ]
    },
    {
      "cell_type": "code",
      "source": [
        "# @title\n",
        "test_results = test_models(trained_models, X_test, y_test)"
      ],
      "metadata": {
        "colab": {
          "base_uri": "https://localhost:8080/"
        },
        "id": "VPGNg6teXvzo",
        "outputId": "00e97cc0-40f2-46de-fb5c-30e77d02cfdc"
      },
      "execution_count": null,
      "outputs": [
        {
          "output_type": "stream",
          "name": "stdout",
          "text": [
            "Random Forest test accuracy: 0.9094\n",
            "Random Forest classification report:\n",
            "\n",
            "              precision    recall  f1-score   support\n",
            "\n",
            "           1       0.95      0.92      0.94     13960\n",
            "           3       0.80      0.87      0.84      5032\n",
            "\n",
            "    accuracy                           0.91     18992\n",
            "   macro avg       0.88      0.90      0.89     18992\n",
            "weighted avg       0.91      0.91      0.91     18992\n",
            "\n",
            "KNN test accuracy: 0.8947\n",
            "KNN classification report:\n",
            "\n",
            "              precision    recall  f1-score   support\n",
            "\n",
            "           1       0.94      0.92      0.93     13960\n",
            "           3       0.78      0.83      0.81      5032\n",
            "\n",
            "    accuracy                           0.89     18992\n",
            "   macro avg       0.86      0.87      0.87     18992\n",
            "weighted avg       0.90      0.89      0.90     18992\n",
            "\n",
            "Naive Bayes test accuracy: 0.7742\n",
            "Naive Bayes classification report:\n",
            "\n",
            "              precision    recall  f1-score   support\n",
            "\n",
            "           1       0.93      0.75      0.83     13960\n",
            "           3       0.55      0.85      0.67      5032\n",
            "\n",
            "    accuracy                           0.77     18992\n",
            "   macro avg       0.74      0.80      0.75     18992\n",
            "weighted avg       0.83      0.77      0.79     18992\n",
            "\n",
            "SVM test accuracy: 0.9084\n",
            "SVM classification report:\n",
            "\n",
            "              precision    recall  f1-score   support\n",
            "\n",
            "           1       0.95      0.92      0.94     13960\n",
            "           3       0.80      0.88      0.84      5032\n",
            "\n",
            "    accuracy                           0.91     18992\n",
            "   macro avg       0.88      0.90      0.89     18992\n",
            "weighted avg       0.91      0.91      0.91     18992\n",
            "\n"
          ]
        }
      ]
    },
    {
      "cell_type": "markdown",
      "source": [
        "# NC vs MCI Discretised"
      ],
      "metadata": {
        "id": "lDVouREYZWFO"
      }
    },
    {
      "cell_type": "code",
      "source": [
        "# @title\n",
        "data_info = MissingUniqueStat(NCvsMCI)\n",
        "data_info"
      ],
      "metadata": {
        "colab": {
          "base_uri": "https://localhost:8080/",
          "height": 735
        },
        "outputId": "caaa9c88-0537-48a9-f952-d31427e50bfe",
        "id": "Qzc2g29HZWFP"
      },
      "execution_count": null,
      "outputs": [
        {
          "output_type": "execute_result",
          "data": {
            "text/plain": [
              "          #_Total_Entry  #_Missing_Value  %_Missing_Value Data_Type  \\\n",
              "Variable                                                              \n",
              "NACCID           126611                0         0.000000    object   \n",
              "CVOTHRX          126611           116931         0.923545    object   \n",
              "NCOTHRX          126611           123138         0.972570    object   \n",
              "NPIQINFX         126611            95064         0.750835    object   \n",
              "PSYCDISX         126611           122028         0.963803    object   \n",
              "...                 ...              ...              ...       ...   \n",
              "HEARAID          126611                0         0.000000     int64   \n",
              "NOGDS            126611                0         0.000000     int64   \n",
              "HISPANIC         126611                0         0.000000     int64   \n",
              "SEX              126611                0         0.000000     int64   \n",
              "NACCUDSD         126611                0         0.000000     int64   \n",
              "\n",
              "                                              Unique_Values  #_Unique_Values  \n",
              "Variable                                                                      \n",
              "NACCID    [NACC002909, NACC003487, NACC004687, NACC00721...            34187  \n",
              "CVOTHRX   [nan, Quadruple Ablation, MVP, Mitral Valve Pr...             4325  \n",
              "NCOTHRX   [nan, confusion but no LOC in high school, pol...             1950  \n",
              "NPIQINFX  [nan, Half-brother, cousin, Friend, Not Copart...             1781  \n",
              "PSYCDISX  [nan, panic attacks, Dissociate identity disor...             1281  \n",
              "...                                                     ...              ...  \n",
              "HEARAID                                       [0, 1, 9, -4]                4  \n",
              "NOGDS                                            [0, -4, 1]                3  \n",
              "HISPANIC                                          [0, 1, 9]                3  \n",
              "SEX                                                  [1, 2]                2  \n",
              "NACCUDSD                                             [3, 1]                2  \n",
              "\n",
              "[168 rows x 6 columns]"
            ],
            "text/html": [
              "\n",
              "  <div id=\"df-e0c6e167-8f61-4490-a591-d73555c7931c\" class=\"colab-df-container\">\n",
              "    <div>\n",
              "<style scoped>\n",
              "    .dataframe tbody tr th:only-of-type {\n",
              "        vertical-align: middle;\n",
              "    }\n",
              "\n",
              "    .dataframe tbody tr th {\n",
              "        vertical-align: top;\n",
              "    }\n",
              "\n",
              "    .dataframe thead th {\n",
              "        text-align: right;\n",
              "    }\n",
              "</style>\n",
              "<table border=\"1\" class=\"dataframe\">\n",
              "  <thead>\n",
              "    <tr style=\"text-align: right;\">\n",
              "      <th></th>\n",
              "      <th>#_Total_Entry</th>\n",
              "      <th>#_Missing_Value</th>\n",
              "      <th>%_Missing_Value</th>\n",
              "      <th>Data_Type</th>\n",
              "      <th>Unique_Values</th>\n",
              "      <th>#_Unique_Values</th>\n",
              "    </tr>\n",
              "    <tr>\n",
              "      <th>Variable</th>\n",
              "      <th></th>\n",
              "      <th></th>\n",
              "      <th></th>\n",
              "      <th></th>\n",
              "      <th></th>\n",
              "      <th></th>\n",
              "    </tr>\n",
              "  </thead>\n",
              "  <tbody>\n",
              "    <tr>\n",
              "      <th>NACCID</th>\n",
              "      <td>126611</td>\n",
              "      <td>0</td>\n",
              "      <td>0.000000</td>\n",
              "      <td>object</td>\n",
              "      <td>[NACC002909, NACC003487, NACC004687, NACC00721...</td>\n",
              "      <td>34187</td>\n",
              "    </tr>\n",
              "    <tr>\n",
              "      <th>CVOTHRX</th>\n",
              "      <td>126611</td>\n",
              "      <td>116931</td>\n",
              "      <td>0.923545</td>\n",
              "      <td>object</td>\n",
              "      <td>[nan, Quadruple Ablation, MVP, Mitral Valve Pr...</td>\n",
              "      <td>4325</td>\n",
              "    </tr>\n",
              "    <tr>\n",
              "      <th>NCOTHRX</th>\n",
              "      <td>126611</td>\n",
              "      <td>123138</td>\n",
              "      <td>0.972570</td>\n",
              "      <td>object</td>\n",
              "      <td>[nan, confusion but no LOC in high school, pol...</td>\n",
              "      <td>1950</td>\n",
              "    </tr>\n",
              "    <tr>\n",
              "      <th>NPIQINFX</th>\n",
              "      <td>126611</td>\n",
              "      <td>95064</td>\n",
              "      <td>0.750835</td>\n",
              "      <td>object</td>\n",
              "      <td>[nan, Half-brother, cousin, Friend, Not Copart...</td>\n",
              "      <td>1781</td>\n",
              "    </tr>\n",
              "    <tr>\n",
              "      <th>PSYCDISX</th>\n",
              "      <td>126611</td>\n",
              "      <td>122028</td>\n",
              "      <td>0.963803</td>\n",
              "      <td>object</td>\n",
              "      <td>[nan, panic attacks, Dissociate identity disor...</td>\n",
              "      <td>1281</td>\n",
              "    </tr>\n",
              "    <tr>\n",
              "      <th>...</th>\n",
              "      <td>...</td>\n",
              "      <td>...</td>\n",
              "      <td>...</td>\n",
              "      <td>...</td>\n",
              "      <td>...</td>\n",
              "      <td>...</td>\n",
              "    </tr>\n",
              "    <tr>\n",
              "      <th>HEARAID</th>\n",
              "      <td>126611</td>\n",
              "      <td>0</td>\n",
              "      <td>0.000000</td>\n",
              "      <td>int64</td>\n",
              "      <td>[0, 1, 9, -4]</td>\n",
              "      <td>4</td>\n",
              "    </tr>\n",
              "    <tr>\n",
              "      <th>NOGDS</th>\n",
              "      <td>126611</td>\n",
              "      <td>0</td>\n",
              "      <td>0.000000</td>\n",
              "      <td>int64</td>\n",
              "      <td>[0, -4, 1]</td>\n",
              "      <td>3</td>\n",
              "    </tr>\n",
              "    <tr>\n",
              "      <th>HISPANIC</th>\n",
              "      <td>126611</td>\n",
              "      <td>0</td>\n",
              "      <td>0.000000</td>\n",
              "      <td>int64</td>\n",
              "      <td>[0, 1, 9]</td>\n",
              "      <td>3</td>\n",
              "    </tr>\n",
              "    <tr>\n",
              "      <th>SEX</th>\n",
              "      <td>126611</td>\n",
              "      <td>0</td>\n",
              "      <td>0.000000</td>\n",
              "      <td>int64</td>\n",
              "      <td>[1, 2]</td>\n",
              "      <td>2</td>\n",
              "    </tr>\n",
              "    <tr>\n",
              "      <th>NACCUDSD</th>\n",
              "      <td>126611</td>\n",
              "      <td>0</td>\n",
              "      <td>0.000000</td>\n",
              "      <td>int64</td>\n",
              "      <td>[3, 1]</td>\n",
              "      <td>2</td>\n",
              "    </tr>\n",
              "  </tbody>\n",
              "</table>\n",
              "<p>168 rows × 6 columns</p>\n",
              "</div>\n",
              "    <div class=\"colab-df-buttons\">\n",
              "\n",
              "  <div class=\"colab-df-container\">\n",
              "    <button class=\"colab-df-convert\" onclick=\"convertToInteractive('df-e0c6e167-8f61-4490-a591-d73555c7931c')\"\n",
              "            title=\"Convert this dataframe to an interactive table.\"\n",
              "            style=\"display:none;\">\n",
              "\n",
              "  <svg xmlns=\"http://www.w3.org/2000/svg\" height=\"24px\" viewBox=\"0 -960 960 960\">\n",
              "    <path d=\"M120-120v-720h720v720H120Zm60-500h600v-160H180v160Zm220 220h160v-160H400v160Zm0 220h160v-160H400v160ZM180-400h160v-160H180v160Zm440 0h160v-160H620v160ZM180-180h160v-160H180v160Zm440 0h160v-160H620v160Z\"/>\n",
              "  </svg>\n",
              "    </button>\n",
              "\n",
              "  <style>\n",
              "    .colab-df-container {\n",
              "      display:flex;\n",
              "      gap: 12px;\n",
              "    }\n",
              "\n",
              "    .colab-df-convert {\n",
              "      background-color: #E8F0FE;\n",
              "      border: none;\n",
              "      border-radius: 50%;\n",
              "      cursor: pointer;\n",
              "      display: none;\n",
              "      fill: #1967D2;\n",
              "      height: 32px;\n",
              "      padding: 0 0 0 0;\n",
              "      width: 32px;\n",
              "    }\n",
              "\n",
              "    .colab-df-convert:hover {\n",
              "      background-color: #E2EBFA;\n",
              "      box-shadow: 0px 1px 2px rgba(60, 64, 67, 0.3), 0px 1px 3px 1px rgba(60, 64, 67, 0.15);\n",
              "      fill: #174EA6;\n",
              "    }\n",
              "\n",
              "    .colab-df-buttons div {\n",
              "      margin-bottom: 4px;\n",
              "    }\n",
              "\n",
              "    [theme=dark] .colab-df-convert {\n",
              "      background-color: #3B4455;\n",
              "      fill: #D2E3FC;\n",
              "    }\n",
              "\n",
              "    [theme=dark] .colab-df-convert:hover {\n",
              "      background-color: #434B5C;\n",
              "      box-shadow: 0px 1px 3px 1px rgba(0, 0, 0, 0.15);\n",
              "      filter: drop-shadow(0px 1px 2px rgba(0, 0, 0, 0.3));\n",
              "      fill: #FFFFFF;\n",
              "    }\n",
              "  </style>\n",
              "\n",
              "    <script>\n",
              "      const buttonEl =\n",
              "        document.querySelector('#df-e0c6e167-8f61-4490-a591-d73555c7931c button.colab-df-convert');\n",
              "      buttonEl.style.display =\n",
              "        google.colab.kernel.accessAllowed ? 'block' : 'none';\n",
              "\n",
              "      async function convertToInteractive(key) {\n",
              "        const element = document.querySelector('#df-e0c6e167-8f61-4490-a591-d73555c7931c');\n",
              "        const dataTable =\n",
              "          await google.colab.kernel.invokeFunction('convertToInteractive',\n",
              "                                                    [key], {});\n",
              "        if (!dataTable) return;\n",
              "\n",
              "        const docLinkHtml = 'Like what you see? Visit the ' +\n",
              "          '<a target=\"_blank\" href=https://colab.research.google.com/notebooks/data_table.ipynb>data table notebook</a>'\n",
              "          + ' to learn more about interactive tables.';\n",
              "        element.innerHTML = '';\n",
              "        dataTable['output_type'] = 'display_data';\n",
              "        await google.colab.output.renderOutput(dataTable, element);\n",
              "        const docLink = document.createElement('div');\n",
              "        docLink.innerHTML = docLinkHtml;\n",
              "        element.appendChild(docLink);\n",
              "      }\n",
              "    </script>\n",
              "  </div>\n",
              "\n",
              "\n",
              "<div id=\"df-060e94be-09a3-4198-91e5-8537c86006e2\">\n",
              "  <button class=\"colab-df-quickchart\" onclick=\"quickchart('df-060e94be-09a3-4198-91e5-8537c86006e2')\"\n",
              "            title=\"Suggest charts\"\n",
              "            style=\"display:none;\">\n",
              "\n",
              "<svg xmlns=\"http://www.w3.org/2000/svg\" height=\"24px\"viewBox=\"0 0 24 24\"\n",
              "     width=\"24px\">\n",
              "    <g>\n",
              "        <path d=\"M19 3H5c-1.1 0-2 .9-2 2v14c0 1.1.9 2 2 2h14c1.1 0 2-.9 2-2V5c0-1.1-.9-2-2-2zM9 17H7v-7h2v7zm4 0h-2V7h2v10zm4 0h-2v-4h2v4z\"/>\n",
              "    </g>\n",
              "</svg>\n",
              "  </button>\n",
              "\n",
              "<style>\n",
              "  .colab-df-quickchart {\n",
              "      --bg-color: #E8F0FE;\n",
              "      --fill-color: #1967D2;\n",
              "      --hover-bg-color: #E2EBFA;\n",
              "      --hover-fill-color: #174EA6;\n",
              "      --disabled-fill-color: #AAA;\n",
              "      --disabled-bg-color: #DDD;\n",
              "  }\n",
              "\n",
              "  [theme=dark] .colab-df-quickchart {\n",
              "      --bg-color: #3B4455;\n",
              "      --fill-color: #D2E3FC;\n",
              "      --hover-bg-color: #434B5C;\n",
              "      --hover-fill-color: #FFFFFF;\n",
              "      --disabled-bg-color: #3B4455;\n",
              "      --disabled-fill-color: #666;\n",
              "  }\n",
              "\n",
              "  .colab-df-quickchart {\n",
              "    background-color: var(--bg-color);\n",
              "    border: none;\n",
              "    border-radius: 50%;\n",
              "    cursor: pointer;\n",
              "    display: none;\n",
              "    fill: var(--fill-color);\n",
              "    height: 32px;\n",
              "    padding: 0;\n",
              "    width: 32px;\n",
              "  }\n",
              "\n",
              "  .colab-df-quickchart:hover {\n",
              "    background-color: var(--hover-bg-color);\n",
              "    box-shadow: 0 1px 2px rgba(60, 64, 67, 0.3), 0 1px 3px 1px rgba(60, 64, 67, 0.15);\n",
              "    fill: var(--button-hover-fill-color);\n",
              "  }\n",
              "\n",
              "  .colab-df-quickchart-complete:disabled,\n",
              "  .colab-df-quickchart-complete:disabled:hover {\n",
              "    background-color: var(--disabled-bg-color);\n",
              "    fill: var(--disabled-fill-color);\n",
              "    box-shadow: none;\n",
              "  }\n",
              "\n",
              "  .colab-df-spinner {\n",
              "    border: 2px solid var(--fill-color);\n",
              "    border-color: transparent;\n",
              "    border-bottom-color: var(--fill-color);\n",
              "    animation:\n",
              "      spin 1s steps(1) infinite;\n",
              "  }\n",
              "\n",
              "  @keyframes spin {\n",
              "    0% {\n",
              "      border-color: transparent;\n",
              "      border-bottom-color: var(--fill-color);\n",
              "      border-left-color: var(--fill-color);\n",
              "    }\n",
              "    20% {\n",
              "      border-color: transparent;\n",
              "      border-left-color: var(--fill-color);\n",
              "      border-top-color: var(--fill-color);\n",
              "    }\n",
              "    30% {\n",
              "      border-color: transparent;\n",
              "      border-left-color: var(--fill-color);\n",
              "      border-top-color: var(--fill-color);\n",
              "      border-right-color: var(--fill-color);\n",
              "    }\n",
              "    40% {\n",
              "      border-color: transparent;\n",
              "      border-right-color: var(--fill-color);\n",
              "      border-top-color: var(--fill-color);\n",
              "    }\n",
              "    60% {\n",
              "      border-color: transparent;\n",
              "      border-right-color: var(--fill-color);\n",
              "    }\n",
              "    80% {\n",
              "      border-color: transparent;\n",
              "      border-right-color: var(--fill-color);\n",
              "      border-bottom-color: var(--fill-color);\n",
              "    }\n",
              "    90% {\n",
              "      border-color: transparent;\n",
              "      border-bottom-color: var(--fill-color);\n",
              "    }\n",
              "  }\n",
              "</style>\n",
              "\n",
              "  <script>\n",
              "    async function quickchart(key) {\n",
              "      const quickchartButtonEl =\n",
              "        document.querySelector('#' + key + ' button');\n",
              "      quickchartButtonEl.disabled = true;  // To prevent multiple clicks.\n",
              "      quickchartButtonEl.classList.add('colab-df-spinner');\n",
              "      try {\n",
              "        const charts = await google.colab.kernel.invokeFunction(\n",
              "            'suggestCharts', [key], {});\n",
              "      } catch (error) {\n",
              "        console.error('Error during call to suggestCharts:', error);\n",
              "      }\n",
              "      quickchartButtonEl.classList.remove('colab-df-spinner');\n",
              "      quickchartButtonEl.classList.add('colab-df-quickchart-complete');\n",
              "    }\n",
              "    (() => {\n",
              "      let quickchartButtonEl =\n",
              "        document.querySelector('#df-060e94be-09a3-4198-91e5-8537c86006e2 button');\n",
              "      quickchartButtonEl.style.display =\n",
              "        google.colab.kernel.accessAllowed ? 'block' : 'none';\n",
              "    })();\n",
              "  </script>\n",
              "</div>\n",
              "\n",
              "  <div id=\"id_e6fef11e-d6a7-4f1b-94d0-1d32556aed1e\">\n",
              "    <style>\n",
              "      .colab-df-generate {\n",
              "        background-color: #E8F0FE;\n",
              "        border: none;\n",
              "        border-radius: 50%;\n",
              "        cursor: pointer;\n",
              "        display: none;\n",
              "        fill: #1967D2;\n",
              "        height: 32px;\n",
              "        padding: 0 0 0 0;\n",
              "        width: 32px;\n",
              "      }\n",
              "\n",
              "      .colab-df-generate:hover {\n",
              "        background-color: #E2EBFA;\n",
              "        box-shadow: 0px 1px 2px rgba(60, 64, 67, 0.3), 0px 1px 3px 1px rgba(60, 64, 67, 0.15);\n",
              "        fill: #174EA6;\n",
              "      }\n",
              "\n",
              "      [theme=dark] .colab-df-generate {\n",
              "        background-color: #3B4455;\n",
              "        fill: #D2E3FC;\n",
              "      }\n",
              "\n",
              "      [theme=dark] .colab-df-generate:hover {\n",
              "        background-color: #434B5C;\n",
              "        box-shadow: 0px 1px 3px 1px rgba(0, 0, 0, 0.15);\n",
              "        filter: drop-shadow(0px 1px 2px rgba(0, 0, 0, 0.3));\n",
              "        fill: #FFFFFF;\n",
              "      }\n",
              "    </style>\n",
              "    <button class=\"colab-df-generate\" onclick=\"generateWithVariable('data_info')\"\n",
              "            title=\"Generate code using this dataframe.\"\n",
              "            style=\"display:none;\">\n",
              "\n",
              "  <svg xmlns=\"http://www.w3.org/2000/svg\" height=\"24px\"viewBox=\"0 0 24 24\"\n",
              "       width=\"24px\">\n",
              "    <path d=\"M7,19H8.4L18.45,9,17,7.55,7,17.6ZM5,21V16.75L18.45,3.32a2,2,0,0,1,2.83,0l1.4,1.43a1.91,1.91,0,0,1,.58,1.4,1.91,1.91,0,0,1-.58,1.4L9.25,21ZM18.45,9,17,7.55Zm-12,3A5.31,5.31,0,0,0,4.9,8.1,5.31,5.31,0,0,0,1,6.5,5.31,5.31,0,0,0,4.9,4.9,5.31,5.31,0,0,0,6.5,1,5.31,5.31,0,0,0,8.1,4.9,5.31,5.31,0,0,0,12,6.5,5.46,5.46,0,0,0,6.5,12Z\"/>\n",
              "  </svg>\n",
              "    </button>\n",
              "    <script>\n",
              "      (() => {\n",
              "      const buttonEl =\n",
              "        document.querySelector('#id_e6fef11e-d6a7-4f1b-94d0-1d32556aed1e button.colab-df-generate');\n",
              "      buttonEl.style.display =\n",
              "        google.colab.kernel.accessAllowed ? 'block' : 'none';\n",
              "\n",
              "      buttonEl.onclick = () => {\n",
              "        google.colab.notebook.generateWithVariable('data_info');\n",
              "      }\n",
              "      })();\n",
              "    </script>\n",
              "  </div>\n",
              "\n",
              "    </div>\n",
              "  </div>\n"
            ],
            "application/vnd.google.colaboratory.intrinsic+json": {
              "type": "dataframe",
              "variable_name": "data_info",
              "summary": "{\n  \"name\": \"data_info\",\n  \"rows\": 168,\n  \"fields\": [\n    {\n      \"column\": \"Variable\",\n      \"properties\": {\n        \"dtype\": \"string\",\n        \"num_unique_values\": 168,\n        \"samples\": [\n          \"ARTHUPEX\",\n          \"HISPOR\",\n          \"NITE\"\n        ],\n        \"semantic_type\": \"\",\n        \"description\": \"\"\n      }\n    },\n    {\n      \"column\": \"#_Total_Entry\",\n      \"properties\": {\n        \"dtype\": \"number\",\n        \"std\": 0,\n        \"min\": 126611,\n        \"max\": 126611,\n        \"num_unique_values\": 1,\n        \"samples\": [\n          126611\n        ],\n        \"semantic_type\": \"\",\n        \"description\": \"\"\n      }\n    },\n    {\n      \"column\": \"#_Missing_Value\",\n      \"properties\": {\n        \"dtype\": \"number\",\n        \"std\": 31623,\n        \"min\": 0,\n        \"max\": 126588,\n        \"num_unique_values\": 14,\n        \"samples\": [\n          125595\n        ],\n        \"semantic_type\": \"\",\n        \"description\": \"\"\n      }\n    },\n    {\n      \"column\": \"%_Missing_Value\",\n      \"properties\": {\n        \"dtype\": \"number\",\n        \"std\": 0.24976793204194678,\n        \"min\": 0.0,\n        \"max\": 0.9998183412183775,\n        \"num_unique_values\": 14,\n        \"samples\": [\n          0.9919754207770257\n        ],\n        \"semantic_type\": \"\",\n        \"description\": \"\"\n      }\n    },\n    {\n      \"column\": \"Data_Type\",\n      \"properties\": {\n        \"dtype\": \"category\",\n        \"num_unique_values\": 3,\n        \"samples\": [\n          \"object\"\n        ],\n        \"semantic_type\": \"\",\n        \"description\": \"\"\n      }\n    },\n    {\n      \"column\": \"Unique_Values\",\n      \"properties\": {\n        \"dtype\": \"object\",\n        \"semantic_type\": \"\",\n        \"description\": \"\"\n      }\n    },\n    {\n      \"column\": \"#_Unique_Values\",\n      \"properties\": {\n        \"dtype\": \"number\",\n        \"std\": 2662,\n        \"min\": 2,\n        \"max\": 34187,\n        \"num_unique_values\": 35,\n        \"samples\": [\n          18\n        ],\n        \"semantic_type\": \"\",\n        \"description\": \"\"\n      }\n    }\n  ]\n}"
            }
          },
          "metadata": {},
          "execution_count": 36
        }
      ]
    },
    {
      "cell_type": "markdown",
      "source": [
        "## NCvsMCI - Prepocessing"
      ],
      "metadata": {
        "id": "Iwl01nV8ZWFQ"
      }
    },
    {
      "cell_type": "markdown",
      "source": [
        "### Addressing Missing/Null Values"
      ],
      "metadata": {
        "id": "S4lheBecZWFR"
      }
    },
    {
      "cell_type": "markdown",
      "source": [
        "#### Replacing categorical null values\n",
        "In this particular dataset, the missing/null value in the object columns conveys important information. Hence, we address their missing values by replacing them with a \"empty\" category."
      ],
      "metadata": {
        "id": "-U2TyW4aZWFR"
      }
    },
    {
      "cell_type": "code",
      "source": [
        "# @title\n",
        "# check for null values\n",
        "nan_counts = NCvsMCI.isna().sum()\n",
        "nan_columns = nan_counts[nan_counts > 0]\n",
        "print(nan_columns)"
      ],
      "metadata": {
        "colab": {
          "base_uri": "https://localhost:8080/"
        },
        "outputId": "faee3a15-ade9-4e8d-cfe5-79dedadc0cc1",
        "id": "DB0sNA0RZWFS"
      },
      "execution_count": null,
      "outputs": [
        {
          "output_type": "stream",
          "name": "stdout",
          "text": [
            "BPSYS          319\n",
            "BPDIAS         319\n",
            "HRATE          319\n",
            "CVOTHRX     116931\n",
            "NCOTHRX     123138\n",
            "ARTHTYPX    126433\n",
            "OTHSLEEX    126199\n",
            "ABUSX       125728\n",
            "PSYCDISX    122028\n",
            "NPIQINFX     95064\n",
            "HISPORX     126232\n",
            "RACEX       125595\n",
            "RACESECX    126358\n",
            "RACETERX    126588\n",
            "PRIMLANX    124981\n",
            "dtype: int64\n"
          ]
        }
      ]
    },
    {
      "cell_type": "code",
      "source": [
        "# @title\n",
        "# replace Null values with \"empty\" category\n",
        "NCvsMCI = impute_missing_categorical(NCvsMCI)\n",
        "\n",
        "# check for null values\n",
        "nan_counts = NCvsMCI.isna().sum()\n",
        "nan_columns = nan_counts[nan_counts > 0]\n",
        "print(nan_columns)"
      ],
      "metadata": {
        "colab": {
          "base_uri": "https://localhost:8080/"
        },
        "outputId": "bc1bdd59-e819-47fd-be5d-e38bd40a85f8",
        "id": "9KN37vwBZWFT"
      },
      "execution_count": null,
      "outputs": [
        {
          "output_type": "stream",
          "name": "stdout",
          "text": [
            "BPSYS     319\n",
            "BPDIAS    319\n",
            "HRATE     319\n",
            "dtype: int64\n"
          ]
        }
      ]
    },
    {
      "cell_type": "markdown",
      "source": [
        "#### Replacing Numerical Missing/Null Values\n",
        "There are certain numerical values that represent missing/unkown values (i.e., 888.8, 88.8, 8.8, 9, 99, 999, 88, 888, -4 and 8888).\n",
        "Hence we replace these values with NaN values to preserve data integrity\n",
        "\n"
      ],
      "metadata": {
        "id": "lReulq7UZWFU"
      }
    },
    {
      "cell_type": "code",
      "source": [
        "# @title\n",
        "NCvsMCI = replace_with_nan(NCvsMCI)\n",
        "\n",
        "# check for null values\n",
        "nan_counts = NCvsMCI.isna().sum()\n",
        "nan_columns = nan_counts[nan_counts > 0]\n",
        "print(nan_columns)"
      ],
      "metadata": {
        "colab": {
          "base_uri": "https://localhost:8080/"
        },
        "outputId": "2eff88ed-b7a3-4ca4-e6e5-4846a71c5013",
        "id": "7DEB4aF7ZWFV"
      },
      "execution_count": null,
      "outputs": [
        {
          "output_type": "stream",
          "name": "stdout",
          "text": [
            "NACCVNUM     3726\n",
            "NACCBMI     20432\n",
            "BPSYS       21532\n",
            "BPDIAS      23483\n",
            "HRATE       22690\n",
            "            ...  \n",
            "INDEPEND      230\n",
            "RESIDENC     1675\n",
            "HANDED        682\n",
            "NACCAGE      2168\n",
            "NACCNIHR     1130\n",
            "Length: 153, dtype: int64\n"
          ]
        }
      ]
    },
    {
      "cell_type": "code",
      "source": [
        "# @title\n",
        "# replace missing/null values\n",
        "NCvsMCI = impute_missing_numerical(NCvsMCI)\n",
        "\n",
        "# check for null values\n",
        "nan_counts = NCvsMCI.isna().sum()\n",
        "nan_columns = nan_counts[nan_counts > 0]\n",
        "print(nan_columns)"
      ],
      "metadata": {
        "colab": {
          "base_uri": "https://localhost:8080/"
        },
        "outputId": "815fa6d3-da6c-48a4-d2c9-7eeeb0f61076",
        "id": "UTzEzCnAZWFW"
      },
      "execution_count": null,
      "outputs": [
        {
          "output_type": "stream",
          "name": "stdout",
          "text": [
            "Series([], dtype: int64)\n"
          ]
        }
      ]
    },
    {
      "cell_type": "markdown",
      "source": [
        "### Removing Unmeaning Featues\n",
        "This process removes features that lack variability, i.e., 90% or more of the values in the column are the same, which might not contribute significantly to the predictive power of a model\n"
      ],
      "metadata": {
        "id": "kvfeNplMZWFW"
      }
    },
    {
      "cell_type": "code",
      "source": [
        "# @title\n",
        "NCvsMCI = remove_unmeaning(NCvsMCI)\n",
        "\n",
        "# check\n",
        "NCvsMCI.info()"
      ],
      "metadata": {
        "colab": {
          "base_uri": "https://localhost:8080/"
        },
        "outputId": "8d55ab19-43c4-4ddd-a6e7-8b4e2512afc4",
        "id": "OUruf9lNZWFX"
      },
      "execution_count": null,
      "outputs": [
        {
          "output_type": "stream",
          "name": "stdout",
          "text": [
            "<class 'pandas.core.frame.DataFrame'>\n",
            "Index: 126611 entries, 0 to 192085\n",
            "Data columns (total 53 columns):\n",
            " #   Column    Non-Null Count   Dtype  \n",
            "---  ------    --------------   -----  \n",
            " 0   NACCID    126611 non-null  object \n",
            " 1   NACCVNUM  126611 non-null  float64\n",
            " 2   NACCBMI   126611 non-null  float64\n",
            " 3   BPSYS     126611 non-null  float64\n",
            " 4   BPDIAS    126611 non-null  float64\n",
            " 5   HRATE     126611 non-null  float64\n",
            " 6   VISION    126611 non-null  float64\n",
            " 7   VISCORR   126611 non-null  float64\n",
            " 8   VISWCORR  126611 non-null  float64\n",
            " 9   HEARING   126611 non-null  float64\n",
            " 10  HEARAID   126611 non-null  float64\n",
            " 11  HEARWAID  126611 non-null  float64\n",
            " 12  MEMORY    126611 non-null  float64\n",
            " 13  JUDGMENT  126611 non-null  float64\n",
            " 14  TOBAC100  126611 non-null  float64\n",
            " 15  SMOKYRS   126611 non-null  float64\n",
            " 16  PACKSPER  126611 non-null  float64\n",
            " 17  QUITSMOK  126611 non-null  float64\n",
            " 18  HYPERTEN  126611 non-null  float64\n",
            " 19  HYPERCHO  126611 non-null  float64\n",
            " 20  THYROID   126611 non-null  float64\n",
            " 21  INCONTU   126611 non-null  float64\n",
            " 22  DEP2YRS   126611 non-null  float64\n",
            " 23  DEPOTHR   126611 non-null  float64\n",
            " 24  DROPACT   126611 non-null  float64\n",
            " 25  STAYHOME  126611 non-null  float64\n",
            " 26  MEMPROB   126611 non-null  float64\n",
            " 27  ENERGY    126611 non-null  float64\n",
            " 28  NACCGDS   126611 non-null  float64\n",
            " 29  NPIQINF   126611 non-null  float64\n",
            " 30  NPIQINFX  126611 non-null  object \n",
            " 31  DEPD      126611 non-null  float64\n",
            " 32  DEPDSEV   126611 non-null  float64\n",
            " 33  ANX       126611 non-null  float64\n",
            " 34  ANXSEV    126611 non-null  float64\n",
            " 35  IRR       126611 non-null  float64\n",
            " 36  IRRSEV    126611 non-null  float64\n",
            " 37  NITE      126611 non-null  float64\n",
            " 38  NITESEV   126611 non-null  float64\n",
            " 39  BILLS     126611 non-null  float64\n",
            " 40  TAXES     126611 non-null  float64\n",
            " 41  GAMES     126611 non-null  float64\n",
            " 42  MEALPREP  126611 non-null  float64\n",
            " 43  TRAVEL    126611 non-null  float64\n",
            " 44  SEX       126611 non-null  float64\n",
            " 45  RACE      126611 non-null  float64\n",
            " 46  EDUC      126611 non-null  float64\n",
            " 47  MARISTAT  126611 non-null  float64\n",
            " 48  NACCLIVS  126611 non-null  float64\n",
            " 49  HANDED    126611 non-null  float64\n",
            " 50  NACCAGE   126611 non-null  float64\n",
            " 51  NACCNIHR  126611 non-null  float64\n",
            " 52  NACCUDSD  126611 non-null  float64\n",
            "dtypes: float64(51), object(2)\n",
            "memory usage: 52.2+ MB\n"
          ]
        }
      ]
    },
    {
      "cell_type": "markdown",
      "source": [
        "### Removing Outliers"
      ],
      "metadata": {
        "id": "A5t9mICZZWFZ"
      }
    },
    {
      "cell_type": "code",
      "source": [
        "# @title\n",
        "# Apply remove_outliers function\n",
        "for col in NCvsMCI.columns:\n",
        "  if NCvsMCI[col].dtype in ['int64', 'float64']:\n",
        "    NCvsMCI = remove_outliers(NCvsMCI, col)"
      ],
      "metadata": {
        "id": "oZ0YiEOlZWFa"
      },
      "execution_count": null,
      "outputs": []
    },
    {
      "cell_type": "markdown",
      "source": [
        "### Addressing Object Variables"
      ],
      "metadata": {
        "id": "-oY6-NNAZWFb"
      }
    },
    {
      "cell_type": "code",
      "source": [
        "# @title\n",
        "for col in NCvsMCI.columns:\n",
        "  if NCvsMCI[col].dtype in ['object']:\n",
        "    print (col)"
      ],
      "metadata": {
        "colab": {
          "base_uri": "https://localhost:8080/"
        },
        "outputId": "a101b873-594c-4cc0-d64a-34aafaf96516",
        "id": "23CiWe8sZWFb"
      },
      "execution_count": null,
      "outputs": [
        {
          "output_type": "stream",
          "name": "stdout",
          "text": [
            "NACCID\n",
            "NPIQINFX\n"
          ]
        }
      ]
    },
    {
      "cell_type": "markdown",
      "source": [
        "The 'NPIQINFX' column metadata reads that it is information on the subject's co-participant. This does not necessarily affect diagnosis from a health perspective. Hence we drop it.\n",
        "\n",
        "We also drop the 'NACCID' object column as it is not relevant to diagnosis"
      ],
      "metadata": {
        "id": "YFxja7MwZWFc"
      }
    },
    {
      "cell_type": "code",
      "source": [
        "# @title\n",
        "NCvsMCI = NCvsMCI.drop(['NACCID', 'NPIQINFX'], axis=1)\n",
        "\n",
        "NCvsMCI.info()"
      ],
      "metadata": {
        "colab": {
          "base_uri": "https://localhost:8080/"
        },
        "outputId": "b4fde9f1-dd85-4929-a24e-76dc74d0b196",
        "id": "g8YGg0GZZWFc"
      },
      "execution_count": null,
      "outputs": [
        {
          "output_type": "stream",
          "name": "stdout",
          "text": [
            "<class 'pandas.core.frame.DataFrame'>\n",
            "Index: 126611 entries, 0 to 192085\n",
            "Data columns (total 51 columns):\n",
            " #   Column    Non-Null Count   Dtype  \n",
            "---  ------    --------------   -----  \n",
            " 0   NACCVNUM  126611 non-null  float64\n",
            " 1   NACCBMI   126611 non-null  float64\n",
            " 2   BPSYS     126611 non-null  float64\n",
            " 3   BPDIAS    126611 non-null  float64\n",
            " 4   HRATE     126611 non-null  float64\n",
            " 5   VISION    126611 non-null  float64\n",
            " 6   VISCORR   126611 non-null  float64\n",
            " 7   VISWCORR  126611 non-null  float64\n",
            " 8   HEARING   126611 non-null  float64\n",
            " 9   HEARAID   126611 non-null  float64\n",
            " 10  HEARWAID  126611 non-null  float64\n",
            " 11  MEMORY    126611 non-null  float64\n",
            " 12  JUDGMENT  126611 non-null  float64\n",
            " 13  TOBAC100  126611 non-null  float64\n",
            " 14  SMOKYRS   126611 non-null  float64\n",
            " 15  PACKSPER  126611 non-null  float64\n",
            " 16  QUITSMOK  126611 non-null  float64\n",
            " 17  HYPERTEN  126611 non-null  float64\n",
            " 18  HYPERCHO  126611 non-null  float64\n",
            " 19  THYROID   126611 non-null  float64\n",
            " 20  INCONTU   126611 non-null  float64\n",
            " 21  DEP2YRS   126611 non-null  float64\n",
            " 22  DEPOTHR   126611 non-null  float64\n",
            " 23  DROPACT   126611 non-null  float64\n",
            " 24  STAYHOME  126611 non-null  float64\n",
            " 25  MEMPROB   126611 non-null  float64\n",
            " 26  ENERGY    126611 non-null  float64\n",
            " 27  NACCGDS   126611 non-null  float64\n",
            " 28  NPIQINF   126611 non-null  float64\n",
            " 29  DEPD      126611 non-null  float64\n",
            " 30  DEPDSEV   126611 non-null  float64\n",
            " 31  ANX       126611 non-null  float64\n",
            " 32  ANXSEV    126611 non-null  float64\n",
            " 33  IRR       126611 non-null  float64\n",
            " 34  IRRSEV    126611 non-null  float64\n",
            " 35  NITE      126611 non-null  float64\n",
            " 36  NITESEV   126611 non-null  float64\n",
            " 37  BILLS     126611 non-null  float64\n",
            " 38  TAXES     126611 non-null  float64\n",
            " 39  GAMES     126611 non-null  float64\n",
            " 40  MEALPREP  126611 non-null  float64\n",
            " 41  TRAVEL    126611 non-null  float64\n",
            " 42  SEX       126611 non-null  float64\n",
            " 43  RACE      126611 non-null  float64\n",
            " 44  EDUC      126611 non-null  float64\n",
            " 45  MARISTAT  126611 non-null  float64\n",
            " 46  NACCLIVS  126611 non-null  float64\n",
            " 47  HANDED    126611 non-null  float64\n",
            " 48  NACCAGE   126611 non-null  float64\n",
            " 49  NACCNIHR  126611 non-null  float64\n",
            " 50  NACCUDSD  126611 non-null  float64\n",
            "dtypes: float64(51)\n",
            "memory usage: 50.2 MB\n"
          ]
        }
      ]
    },
    {
      "cell_type": "markdown",
      "source": [
        "### Discretising Continuous Features"
      ],
      "metadata": {
        "id": "Ymvj96ugZWFd"
      }
    },
    {
      "cell_type": "code",
      "source": [
        "# @title\n",
        "discrete_cols, continuous_cols = id_continuous(NCvsMCI)\n",
        "print(continuous_cols)"
      ],
      "metadata": {
        "colab": {
          "base_uri": "https://localhost:8080/"
        },
        "outputId": "785cc5e7-a76f-483b-9ab6-a7816bf4df5e",
        "id": "IF7FmavaZWFd"
      },
      "execution_count": null,
      "outputs": [
        {
          "output_type": "stream",
          "name": "stdout",
          "text": [
            "['NACCBMI', 'BPSYS', 'BPDIAS', 'HRATE', 'SMOKYRS', 'EDUC', 'NACCAGE']\n"
          ]
        }
      ]
    },
    {
      "cell_type": "code",
      "source": [
        "# @title\n",
        "NCvsMCI = discretise(NCvsMCI)\n",
        "\n",
        "# check\n",
        "NCvsMCI[continuous_cols].head()"
      ],
      "metadata": {
        "colab": {
          "base_uri": "https://localhost:8080/",
          "height": 206
        },
        "outputId": "22d19f40-8b77-4d60-a925-4abbf1f5c12d",
        "id": "GV2y2cE4ZWFe"
      },
      "execution_count": null,
      "outputs": [
        {
          "output_type": "execute_result",
          "data": {
            "text/plain": [
              "  NACCBMI BPSYS BPDIAS HRATE SMOKYRS EDUC NACCAGE\n",
              "0       3     2      1     0       0    1       1\n",
              "1       3     1      1     0       0    1       1\n",
              "2       1     2      1     1       0    1       1\n",
              "4       1     2      1     1       0    0       2\n",
              "5       1     1      1     0       0    1       2"
            ],
            "text/html": [
              "\n",
              "  <div id=\"df-511d032d-5497-45af-b064-62a04232f2f4\" class=\"colab-df-container\">\n",
              "    <div>\n",
              "<style scoped>\n",
              "    .dataframe tbody tr th:only-of-type {\n",
              "        vertical-align: middle;\n",
              "    }\n",
              "\n",
              "    .dataframe tbody tr th {\n",
              "        vertical-align: top;\n",
              "    }\n",
              "\n",
              "    .dataframe thead th {\n",
              "        text-align: right;\n",
              "    }\n",
              "</style>\n",
              "<table border=\"1\" class=\"dataframe\">\n",
              "  <thead>\n",
              "    <tr style=\"text-align: right;\">\n",
              "      <th></th>\n",
              "      <th>NACCBMI</th>\n",
              "      <th>BPSYS</th>\n",
              "      <th>BPDIAS</th>\n",
              "      <th>HRATE</th>\n",
              "      <th>SMOKYRS</th>\n",
              "      <th>EDUC</th>\n",
              "      <th>NACCAGE</th>\n",
              "    </tr>\n",
              "  </thead>\n",
              "  <tbody>\n",
              "    <tr>\n",
              "      <th>0</th>\n",
              "      <td>3</td>\n",
              "      <td>2</td>\n",
              "      <td>1</td>\n",
              "      <td>0</td>\n",
              "      <td>0</td>\n",
              "      <td>1</td>\n",
              "      <td>1</td>\n",
              "    </tr>\n",
              "    <tr>\n",
              "      <th>1</th>\n",
              "      <td>3</td>\n",
              "      <td>1</td>\n",
              "      <td>1</td>\n",
              "      <td>0</td>\n",
              "      <td>0</td>\n",
              "      <td>1</td>\n",
              "      <td>1</td>\n",
              "    </tr>\n",
              "    <tr>\n",
              "      <th>2</th>\n",
              "      <td>1</td>\n",
              "      <td>2</td>\n",
              "      <td>1</td>\n",
              "      <td>1</td>\n",
              "      <td>0</td>\n",
              "      <td>1</td>\n",
              "      <td>1</td>\n",
              "    </tr>\n",
              "    <tr>\n",
              "      <th>4</th>\n",
              "      <td>1</td>\n",
              "      <td>2</td>\n",
              "      <td>1</td>\n",
              "      <td>1</td>\n",
              "      <td>0</td>\n",
              "      <td>0</td>\n",
              "      <td>2</td>\n",
              "    </tr>\n",
              "    <tr>\n",
              "      <th>5</th>\n",
              "      <td>1</td>\n",
              "      <td>1</td>\n",
              "      <td>1</td>\n",
              "      <td>0</td>\n",
              "      <td>0</td>\n",
              "      <td>1</td>\n",
              "      <td>2</td>\n",
              "    </tr>\n",
              "  </tbody>\n",
              "</table>\n",
              "</div>\n",
              "    <div class=\"colab-df-buttons\">\n",
              "\n",
              "  <div class=\"colab-df-container\">\n",
              "    <button class=\"colab-df-convert\" onclick=\"convertToInteractive('df-511d032d-5497-45af-b064-62a04232f2f4')\"\n",
              "            title=\"Convert this dataframe to an interactive table.\"\n",
              "            style=\"display:none;\">\n",
              "\n",
              "  <svg xmlns=\"http://www.w3.org/2000/svg\" height=\"24px\" viewBox=\"0 -960 960 960\">\n",
              "    <path d=\"M120-120v-720h720v720H120Zm60-500h600v-160H180v160Zm220 220h160v-160H400v160Zm0 220h160v-160H400v160ZM180-400h160v-160H180v160Zm440 0h160v-160H620v160ZM180-180h160v-160H180v160Zm440 0h160v-160H620v160Z\"/>\n",
              "  </svg>\n",
              "    </button>\n",
              "\n",
              "  <style>\n",
              "    .colab-df-container {\n",
              "      display:flex;\n",
              "      gap: 12px;\n",
              "    }\n",
              "\n",
              "    .colab-df-convert {\n",
              "      background-color: #E8F0FE;\n",
              "      border: none;\n",
              "      border-radius: 50%;\n",
              "      cursor: pointer;\n",
              "      display: none;\n",
              "      fill: #1967D2;\n",
              "      height: 32px;\n",
              "      padding: 0 0 0 0;\n",
              "      width: 32px;\n",
              "    }\n",
              "\n",
              "    .colab-df-convert:hover {\n",
              "      background-color: #E2EBFA;\n",
              "      box-shadow: 0px 1px 2px rgba(60, 64, 67, 0.3), 0px 1px 3px 1px rgba(60, 64, 67, 0.15);\n",
              "      fill: #174EA6;\n",
              "    }\n",
              "\n",
              "    .colab-df-buttons div {\n",
              "      margin-bottom: 4px;\n",
              "    }\n",
              "\n",
              "    [theme=dark] .colab-df-convert {\n",
              "      background-color: #3B4455;\n",
              "      fill: #D2E3FC;\n",
              "    }\n",
              "\n",
              "    [theme=dark] .colab-df-convert:hover {\n",
              "      background-color: #434B5C;\n",
              "      box-shadow: 0px 1px 3px 1px rgba(0, 0, 0, 0.15);\n",
              "      filter: drop-shadow(0px 1px 2px rgba(0, 0, 0, 0.3));\n",
              "      fill: #FFFFFF;\n",
              "    }\n",
              "  </style>\n",
              "\n",
              "    <script>\n",
              "      const buttonEl =\n",
              "        document.querySelector('#df-511d032d-5497-45af-b064-62a04232f2f4 button.colab-df-convert');\n",
              "      buttonEl.style.display =\n",
              "        google.colab.kernel.accessAllowed ? 'block' : 'none';\n",
              "\n",
              "      async function convertToInteractive(key) {\n",
              "        const element = document.querySelector('#df-511d032d-5497-45af-b064-62a04232f2f4');\n",
              "        const dataTable =\n",
              "          await google.colab.kernel.invokeFunction('convertToInteractive',\n",
              "                                                    [key], {});\n",
              "        if (!dataTable) return;\n",
              "\n",
              "        const docLinkHtml = 'Like what you see? Visit the ' +\n",
              "          '<a target=\"_blank\" href=https://colab.research.google.com/notebooks/data_table.ipynb>data table notebook</a>'\n",
              "          + ' to learn more about interactive tables.';\n",
              "        element.innerHTML = '';\n",
              "        dataTable['output_type'] = 'display_data';\n",
              "        await google.colab.output.renderOutput(dataTable, element);\n",
              "        const docLink = document.createElement('div');\n",
              "        docLink.innerHTML = docLinkHtml;\n",
              "        element.appendChild(docLink);\n",
              "      }\n",
              "    </script>\n",
              "  </div>\n",
              "\n",
              "\n",
              "<div id=\"df-6a6c4a9c-4a05-4a55-b73f-5f55123b9512\">\n",
              "  <button class=\"colab-df-quickchart\" onclick=\"quickchart('df-6a6c4a9c-4a05-4a55-b73f-5f55123b9512')\"\n",
              "            title=\"Suggest charts\"\n",
              "            style=\"display:none;\">\n",
              "\n",
              "<svg xmlns=\"http://www.w3.org/2000/svg\" height=\"24px\"viewBox=\"0 0 24 24\"\n",
              "     width=\"24px\">\n",
              "    <g>\n",
              "        <path d=\"M19 3H5c-1.1 0-2 .9-2 2v14c0 1.1.9 2 2 2h14c1.1 0 2-.9 2-2V5c0-1.1-.9-2-2-2zM9 17H7v-7h2v7zm4 0h-2V7h2v10zm4 0h-2v-4h2v4z\"/>\n",
              "    </g>\n",
              "</svg>\n",
              "  </button>\n",
              "\n",
              "<style>\n",
              "  .colab-df-quickchart {\n",
              "      --bg-color: #E8F0FE;\n",
              "      --fill-color: #1967D2;\n",
              "      --hover-bg-color: #E2EBFA;\n",
              "      --hover-fill-color: #174EA6;\n",
              "      --disabled-fill-color: #AAA;\n",
              "      --disabled-bg-color: #DDD;\n",
              "  }\n",
              "\n",
              "  [theme=dark] .colab-df-quickchart {\n",
              "      --bg-color: #3B4455;\n",
              "      --fill-color: #D2E3FC;\n",
              "      --hover-bg-color: #434B5C;\n",
              "      --hover-fill-color: #FFFFFF;\n",
              "      --disabled-bg-color: #3B4455;\n",
              "      --disabled-fill-color: #666;\n",
              "  }\n",
              "\n",
              "  .colab-df-quickchart {\n",
              "    background-color: var(--bg-color);\n",
              "    border: none;\n",
              "    border-radius: 50%;\n",
              "    cursor: pointer;\n",
              "    display: none;\n",
              "    fill: var(--fill-color);\n",
              "    height: 32px;\n",
              "    padding: 0;\n",
              "    width: 32px;\n",
              "  }\n",
              "\n",
              "  .colab-df-quickchart:hover {\n",
              "    background-color: var(--hover-bg-color);\n",
              "    box-shadow: 0 1px 2px rgba(60, 64, 67, 0.3), 0 1px 3px 1px rgba(60, 64, 67, 0.15);\n",
              "    fill: var(--button-hover-fill-color);\n",
              "  }\n",
              "\n",
              "  .colab-df-quickchart-complete:disabled,\n",
              "  .colab-df-quickchart-complete:disabled:hover {\n",
              "    background-color: var(--disabled-bg-color);\n",
              "    fill: var(--disabled-fill-color);\n",
              "    box-shadow: none;\n",
              "  }\n",
              "\n",
              "  .colab-df-spinner {\n",
              "    border: 2px solid var(--fill-color);\n",
              "    border-color: transparent;\n",
              "    border-bottom-color: var(--fill-color);\n",
              "    animation:\n",
              "      spin 1s steps(1) infinite;\n",
              "  }\n",
              "\n",
              "  @keyframes spin {\n",
              "    0% {\n",
              "      border-color: transparent;\n",
              "      border-bottom-color: var(--fill-color);\n",
              "      border-left-color: var(--fill-color);\n",
              "    }\n",
              "    20% {\n",
              "      border-color: transparent;\n",
              "      border-left-color: var(--fill-color);\n",
              "      border-top-color: var(--fill-color);\n",
              "    }\n",
              "    30% {\n",
              "      border-color: transparent;\n",
              "      border-left-color: var(--fill-color);\n",
              "      border-top-color: var(--fill-color);\n",
              "      border-right-color: var(--fill-color);\n",
              "    }\n",
              "    40% {\n",
              "      border-color: transparent;\n",
              "      border-right-color: var(--fill-color);\n",
              "      border-top-color: var(--fill-color);\n",
              "    }\n",
              "    60% {\n",
              "      border-color: transparent;\n",
              "      border-right-color: var(--fill-color);\n",
              "    }\n",
              "    80% {\n",
              "      border-color: transparent;\n",
              "      border-right-color: var(--fill-color);\n",
              "      border-bottom-color: var(--fill-color);\n",
              "    }\n",
              "    90% {\n",
              "      border-color: transparent;\n",
              "      border-bottom-color: var(--fill-color);\n",
              "    }\n",
              "  }\n",
              "</style>\n",
              "\n",
              "  <script>\n",
              "    async function quickchart(key) {\n",
              "      const quickchartButtonEl =\n",
              "        document.querySelector('#' + key + ' button');\n",
              "      quickchartButtonEl.disabled = true;  // To prevent multiple clicks.\n",
              "      quickchartButtonEl.classList.add('colab-df-spinner');\n",
              "      try {\n",
              "        const charts = await google.colab.kernel.invokeFunction(\n",
              "            'suggestCharts', [key], {});\n",
              "      } catch (error) {\n",
              "        console.error('Error during call to suggestCharts:', error);\n",
              "      }\n",
              "      quickchartButtonEl.classList.remove('colab-df-spinner');\n",
              "      quickchartButtonEl.classList.add('colab-df-quickchart-complete');\n",
              "    }\n",
              "    (() => {\n",
              "      let quickchartButtonEl =\n",
              "        document.querySelector('#df-6a6c4a9c-4a05-4a55-b73f-5f55123b9512 button');\n",
              "      quickchartButtonEl.style.display =\n",
              "        google.colab.kernel.accessAllowed ? 'block' : 'none';\n",
              "    })();\n",
              "  </script>\n",
              "</div>\n",
              "\n",
              "    </div>\n",
              "  </div>\n"
            ],
            "application/vnd.google.colaboratory.intrinsic+json": {
              "type": "dataframe",
              "summary": "{\n  \"name\": \"NCvsMCI[continuous_cols]\",\n  \"rows\": 5,\n  \"fields\": [\n    {\n      \"column\": \"NACCBMI\",\n      \"properties\": {\n        \"dtype\": \"category\",\n        \"num_unique_values\": 2,\n        \"samples\": [\n          1,\n          3\n        ],\n        \"semantic_type\": \"\",\n        \"description\": \"\"\n      }\n    },\n    {\n      \"column\": \"BPSYS\",\n      \"properties\": {\n        \"dtype\": \"category\",\n        \"num_unique_values\": 2,\n        \"samples\": [\n          1,\n          2\n        ],\n        \"semantic_type\": \"\",\n        \"description\": \"\"\n      }\n    },\n    {\n      \"column\": \"BPDIAS\",\n      \"properties\": {\n        \"dtype\": \"category\",\n        \"num_unique_values\": 1,\n        \"samples\": [\n          1\n        ],\n        \"semantic_type\": \"\",\n        \"description\": \"\"\n      }\n    },\n    {\n      \"column\": \"HRATE\",\n      \"properties\": {\n        \"dtype\": \"category\",\n        \"num_unique_values\": 2,\n        \"samples\": [\n          1\n        ],\n        \"semantic_type\": \"\",\n        \"description\": \"\"\n      }\n    },\n    {\n      \"column\": \"SMOKYRS\",\n      \"properties\": {\n        \"dtype\": \"category\",\n        \"num_unique_values\": 1,\n        \"samples\": [\n          0\n        ],\n        \"semantic_type\": \"\",\n        \"description\": \"\"\n      }\n    },\n    {\n      \"column\": \"EDUC\",\n      \"properties\": {\n        \"dtype\": \"category\",\n        \"num_unique_values\": 2,\n        \"samples\": [\n          0\n        ],\n        \"semantic_type\": \"\",\n        \"description\": \"\"\n      }\n    },\n    {\n      \"column\": \"NACCAGE\",\n      \"properties\": {\n        \"dtype\": \"category\",\n        \"num_unique_values\": 2,\n        \"samples\": [\n          2\n        ],\n        \"semantic_type\": \"\",\n        \"description\": \"\"\n      }\n    }\n  ]\n}"
            }
          },
          "metadata": {},
          "execution_count": 46
        }
      ]
    },
    {
      "cell_type": "markdown",
      "source": [
        "## Feature Selection"
      ],
      "metadata": {
        "id": "zW8MnpWiZWFf"
      }
    },
    {
      "cell_type": "code",
      "source": [
        "# @title\n",
        "features_to_keep = select_features_by_mutual_info(NCvsMCI, 'NACCUDSD', threshold=0.1)\n",
        "print(features_to_keep)"
      ],
      "metadata": {
        "colab": {
          "base_uri": "https://localhost:8080/"
        },
        "outputId": "a58eeba2-7143-468e-82c9-e2fc3d486ce5",
        "id": "Jg9Tr3woZWFg"
      },
      "execution_count": null,
      "outputs": [
        {
          "output_type": "stream",
          "name": "stderr",
          "text": [
            "/usr/local/lib/python3.10/dist-packages/sklearn/metrics/cluster/_supervised.py:66: UserWarning: Clustering metrics expects discrete values but received continuous values for label, and binary values for target\n",
            "  warnings.warn(msg, UserWarning)\n",
            "/usr/local/lib/python3.10/dist-packages/sklearn/metrics/cluster/_supervised.py:66: UserWarning: Clustering metrics expects discrete values but received continuous values for label, and binary values for target\n",
            "  warnings.warn(msg, UserWarning)\n"
          ]
        },
        {
          "output_type": "stream",
          "name": "stdout",
          "text": [
            "['MEMORY']\n"
          ]
        }
      ]
    },
    {
      "cell_type": "markdown",
      "source": [
        "Feature Selection by mutual information (MI) returned only 1 feature to keep. Hence, we use Recursive Feature Elimination (RFE) to select the top 14 features"
      ],
      "metadata": {
        "id": "3DmzqD70f1M5"
      }
    },
    {
      "cell_type": "code",
      "source": [
        "# @title\n",
        "from sklearn.feature_selection import RFE\n",
        "\n",
        "#train-test split data\n",
        "X = NCvsMCI.drop(columns=['NACCUDSD'])  # Features excluding the target\n",
        "y = NCvsMCI['NACCUDSD']\n",
        "X_train, X_test, y_train, y_test = train_test_split(X, y, test_size=0.3, random_state=42, stratify=y)\n",
        "\n",
        "# model RFE\n",
        "estimator = RandomForestClassifier(random_state=42)\n",
        "rfe = RFE(estimator=estimator, n_features_to_select=14)  # Select top 10 features\n",
        "rfe.fit(X_train, y_train)\n",
        "\n",
        "# Get the selected features\n",
        "selected_features = X.columns[rfe.support_]\n",
        "print(\"Selected features:\", selected_features)"
      ],
      "metadata": {
        "colab": {
          "base_uri": "https://localhost:8080/"
        },
        "id": "iHCAvZLig5vM",
        "outputId": "e99b7558-4acf-4426-b1f1-7bbbba6d0a12"
      },
      "execution_count": null,
      "outputs": [
        {
          "output_type": "stream",
          "name": "stdout",
          "text": [
            "Selected features: Index(['NACCVNUM', 'NACCBMI', 'BPSYS', 'HRATE', 'MEMORY', 'PACKSPER',\n",
            "       'HYPERTEN', 'HYPERCHO', 'NACCGDS', 'NPIQINF', 'EDUC', 'MARISTAT',\n",
            "       'NACCLIVS', 'NACCAGE'],\n",
            "      dtype='object')\n"
          ]
        }
      ]
    },
    {
      "cell_type": "code",
      "source": [
        "# @title\n",
        "# Evaluate Model Performance\n",
        "X_train_rfe = rfe.transform(X_train)\n",
        "X_test_rfe = rfe.transform(X_test)\n",
        "\n",
        "# Train the model on the selected features\n",
        "estimator.fit(X_train_rfe, y_train)\n",
        "\n",
        "# Predict on the test set\n",
        "y_pred = estimator.predict(X_test_rfe)\n",
        "\n",
        "# Evaluate the accuracy\n",
        "accuracy = accuracy_score(y_test, y_pred)\n",
        "print(f\"Model accuracy with selected features: {accuracy:.4f}\")"
      ],
      "metadata": {
        "colab": {
          "base_uri": "https://localhost:8080/"
        },
        "id": "JbVipiNshu2B",
        "outputId": "233d49a9-4ce6-47a1-f7af-7d67f79eba4c"
      },
      "execution_count": null,
      "outputs": [
        {
          "output_type": "stream",
          "name": "stdout",
          "text": [
            "Model accuracy with selected features: 0.8925\n"
          ]
        }
      ]
    },
    {
      "cell_type": "markdown",
      "source": [
        "## Split into Training & Testing Sets"
      ],
      "metadata": {
        "id": "TgU1cYy2ZWFh"
      }
    },
    {
      "cell_type": "code",
      "source": [
        "# @title\n",
        "X = NCvsMCI[selected_features]\n",
        "y = NCvsMCI['NACCUDSD']\n",
        "# First split: Training (70%) and Temporary set (30%)\n",
        "X_train, X_temp, y_train, y_temp = train_test_split(X, y, test_size=0.30, stratify=y, random_state=42)\n",
        "\n",
        "# Second split: Temporary set into Testing (15%) and Validation (15%)\n",
        "X_test, X_valid, y_test, y_valid = train_test_split(X_temp, y_temp, test_size=0.50, stratify=y_temp, random_state=42)\n",
        "del (X_temp, y_temp)\n",
        "\n",
        "print(f\"Training set shape: {X_train.shape}, {y_train.shape}\")\n",
        "print(f\"Validation set shape: {X_valid.shape}, {y_valid.shape}\")\n",
        "print(f\"Test set shape: {X_test.shape}, {y_test.shape}\")"
      ],
      "metadata": {
        "colab": {
          "base_uri": "https://localhost:8080/"
        },
        "outputId": "929329f6-24df-4b80-fc2c-565e60a7b165",
        "id": "mU_eJlk1ZWFh"
      },
      "execution_count": null,
      "outputs": [
        {
          "output_type": "stream",
          "name": "stdout",
          "text": [
            "Training set shape: (88627, 14), (88627,)\n",
            "Validation set shape: (18992, 14), (18992,)\n",
            "Test set shape: (18992, 14), (18992,)\n"
          ]
        }
      ]
    },
    {
      "cell_type": "markdown",
      "source": [
        "## Modeling & Testing"
      ],
      "metadata": {
        "id": "A05xIoksZWFi"
      }
    },
    {
      "cell_type": "code",
      "source": [
        "# @title\n",
        "trained_models = train_models(X_train, y_train)"
      ],
      "metadata": {
        "colab": {
          "base_uri": "https://localhost:8080/"
        },
        "outputId": "f870ffb7-da8b-4aa6-f616-378de283cad9",
        "id": "MPkagGrYZWFk"
      },
      "execution_count": null,
      "outputs": [
        {
          "output_type": "stream",
          "name": "stdout",
          "text": [
            "Random Forest model trained.\n",
            "KNN model trained.\n",
            "Naive Bayes model trained.\n",
            "SVM model trained.\n"
          ]
        }
      ]
    },
    {
      "cell_type": "code",
      "source": [
        "# @title\n",
        "validation_results = validate_models(trained_models, X_valid, y_valid)"
      ],
      "metadata": {
        "colab": {
          "base_uri": "https://localhost:8080/"
        },
        "outputId": "540cbad2-ee81-48f1-dc28-2e82505c788d",
        "id": "7jDKr_yWZWFk"
      },
      "execution_count": null,
      "outputs": [
        {
          "output_type": "stream",
          "name": "stdout",
          "text": [
            "Random Forest validation accuracy: 0.8919\n",
            "KNN validation accuracy: 0.8221\n",
            "Naive Bayes validation accuracy: 0.9053\n",
            "SVM validation accuracy: 0.9054\n"
          ]
        }
      ]
    },
    {
      "cell_type": "code",
      "source": [
        "# @title\n",
        "test_results = test_models(trained_models, X_test, y_test)"
      ],
      "metadata": {
        "colab": {
          "base_uri": "https://localhost:8080/"
        },
        "outputId": "0d41006c-6dbb-4674-9c2c-03f7e6270f7e",
        "id": "yW2kxc4iZWFl"
      },
      "execution_count": null,
      "outputs": [
        {
          "output_type": "stream",
          "name": "stdout",
          "text": [
            "Random Forest test accuracy: 0.8930\n",
            "Random Forest classification report:\n",
            "\n",
            "              precision    recall  f1-score   support\n",
            "\n",
            "         1.0       0.93      0.92      0.93     13960\n",
            "         3.0       0.79      0.82      0.80      5032\n",
            "\n",
            "    accuracy                           0.89     18992\n",
            "   macro avg       0.86      0.87      0.86     18992\n",
            "weighted avg       0.89      0.89      0.89     18992\n",
            "\n",
            "KNN test accuracy: 0.8238\n",
            "KNN classification report:\n",
            "\n",
            "              precision    recall  f1-score   support\n",
            "\n",
            "         1.0       0.84      0.93      0.89     13960\n",
            "         3.0       0.74      0.52      0.61      5032\n",
            "\n",
            "    accuracy                           0.82     18992\n",
            "   macro avg       0.79      0.73      0.75     18992\n",
            "weighted avg       0.82      0.82      0.81     18992\n",
            "\n",
            "Naive Bayes test accuracy: 0.9075\n",
            "Naive Bayes classification report:\n",
            "\n",
            "              precision    recall  f1-score   support\n",
            "\n",
            "         1.0       0.95      0.92      0.94     13960\n",
            "         3.0       0.80      0.88      0.83      5032\n",
            "\n",
            "    accuracy                           0.91     18992\n",
            "   macro avg       0.87      0.90      0.88     18992\n",
            "weighted avg       0.91      0.91      0.91     18992\n",
            "\n",
            "SVM test accuracy: 0.9077\n",
            "SVM classification report:\n",
            "\n",
            "              precision    recall  f1-score   support\n",
            "\n",
            "         1.0       0.95      0.92      0.94     13960\n",
            "         3.0       0.80      0.88      0.83      5032\n",
            "\n",
            "    accuracy                           0.91     18992\n",
            "   macro avg       0.87      0.90      0.89     18992\n",
            "weighted avg       0.91      0.91      0.91     18992\n",
            "\n"
          ]
        }
      ]
    },
    {
      "cell_type": "markdown",
      "source": [
        "# REPEAT PROCEDURE ON NON-DISCRETISED CONTINUOUS DATA"
      ],
      "metadata": {
        "id": "9FVorHVwlsj7"
      }
    },
    {
      "cell_type": "code",
      "source": [
        "# @title\n",
        "NCvsAD = df.loc[df['NACCUDSD'].isin([1,4])] # Select only rows with target class enteries NC and AD\n",
        "NCvsMCI = df.loc[df['NACCUDSD'].isin([1,3])] # Select only rows with target class enteries NC and MCI\n",
        "MCIvsAD = df.loc[df['NACCUDSD'].isin([3,4])] # Select only rows with target class enteries MCI and AD\n",
        "NCvsMCIvsAD = df.loc[df['NACCUDSD'].isin([1,3,4])] # Select only rows with target class enteries NC, MCI and AD\n",
        "\n",
        "print(NCvsAD.shape)\n",
        "print(NCvsMCI.shape)\n",
        "print(MCIvsAD.shape)\n",
        "print(NCvsMCIvsAD.shape)"
      ],
      "metadata": {
        "colab": {
          "base_uri": "https://localhost:8080/"
        },
        "id": "HLDavkASq0bo",
        "outputId": "7d03bddf-3321-4859-cc0c-c8d26021dc8c"
      },
      "execution_count": null,
      "outputs": [
        {
          "output_type": "stream",
          "name": "stdout",
          "text": [
            "(150092, 168)\n",
            "(126611, 168)\n",
            "(90577, 168)\n",
            "(183640, 168)\n"
          ]
        }
      ]
    },
    {
      "cell_type": "markdown",
      "source": [
        "# NC vs AD Continuous"
      ],
      "metadata": {
        "id": "mG2Tuv4dl13Y"
      }
    },
    {
      "cell_type": "markdown",
      "source": [
        "## NCvsAD - Prepocessing"
      ],
      "metadata": {
        "id": "8Z12pahol13Z"
      }
    },
    {
      "cell_type": "markdown",
      "source": [
        "### Addressing Missing/Null Values"
      ],
      "metadata": {
        "id": "HwBtVDo5l13Z"
      }
    },
    {
      "cell_type": "markdown",
      "source": [
        "#### Replacing categorical null values\n",
        "In this particular dataset, the missing/null value in the object columns conveys important information. Hence, we address their missing values by replacing them with a \"empty\" category."
      ],
      "metadata": {
        "id": "EcE_bpZnl13Z"
      }
    },
    {
      "cell_type": "code",
      "source": [
        "# @title\n",
        "# check for null values\n",
        "nan_counts = NCvsAD.isna().sum()\n",
        "nan_columns = nan_counts[nan_counts > 0]\n",
        "print(nan_columns)"
      ],
      "metadata": {
        "colab": {
          "base_uri": "https://localhost:8080/"
        },
        "outputId": "46c18513-786f-4b11-9d39-8952951d0a9b",
        "id": "xFcNm3bvl13a"
      },
      "execution_count": null,
      "outputs": [
        {
          "output_type": "stream",
          "name": "stdout",
          "text": [
            "BPSYS          372\n",
            "BPDIAS         372\n",
            "HRATE          372\n",
            "CVOTHRX     138524\n",
            "NCOTHRX     145848\n",
            "ARTHTYPX    149872\n",
            "OTHSLEEX    149619\n",
            "ABUSX       149180\n",
            "PSYCDISX    144058\n",
            "NPIQINFX    119576\n",
            "HISPORX     149685\n",
            "RACEX       148364\n",
            "RACESECX    149860\n",
            "RACETERX    150073\n",
            "PRIMLANX    148144\n",
            "dtype: int64\n"
          ]
        }
      ]
    },
    {
      "cell_type": "code",
      "source": [
        "# @title\n",
        "# replace Null values with \"empty\" category\n",
        "NCvsAD = impute_missing_categorical(NCvsAD)\n",
        "\n",
        "# check for null values\n",
        "nan_counts = NCvsAD.isna().sum()\n",
        "nan_columns = nan_counts[nan_counts > 0]\n",
        "print(nan_columns)"
      ],
      "metadata": {
        "colab": {
          "base_uri": "https://localhost:8080/"
        },
        "outputId": "522b5c86-48c4-4b3e-b01f-d5d66ad4b56a",
        "id": "372I_gVAl13a"
      },
      "execution_count": null,
      "outputs": [
        {
          "output_type": "stream",
          "name": "stdout",
          "text": [
            "BPSYS     372\n",
            "BPDIAS    372\n",
            "HRATE     372\n",
            "dtype: int64\n"
          ]
        }
      ]
    },
    {
      "cell_type": "markdown",
      "source": [
        "#### Replacing Numerical Missing/Null Values\n",
        "There are certain numerical values that represent missing/unkown values (i.e., 888.8, 88.8, 8.8, 9, 99, 999, 88, 888, -4 and 8888).\n",
        "Hence we replace these values with NaN values to preserve data integrity\n",
        "\n"
      ],
      "metadata": {
        "id": "qLTVSqNpl13a"
      }
    },
    {
      "cell_type": "code",
      "source": [
        "# @title\n",
        "NCvsAD = replace_with_nan(NCvsAD)\n",
        "\n",
        "# check for null values\n",
        "nan_counts = NCvsAD.isna().sum()\n",
        "nan_columns = nan_counts[nan_counts > 0]\n",
        "print(nan_columns)"
      ],
      "metadata": {
        "colab": {
          "base_uri": "https://localhost:8080/"
        },
        "outputId": "abcd3eff-210a-4c29-8dae-ecb9b8a3e708",
        "id": "O11qlO0Jl13b"
      },
      "execution_count": null,
      "outputs": [
        {
          "output_type": "stream",
          "name": "stdout",
          "text": [
            "NACCVNUM     4083\n",
            "NACCBMI     32594\n",
            "BPSYS       32110\n",
            "BPDIAS      34225\n",
            "HRATE       33635\n",
            "            ...  \n",
            "INDEPEND      439\n",
            "RESIDENC     1806\n",
            "HANDED        830\n",
            "NACCAGE      2787\n",
            "NACCNIHR     1866\n",
            "Length: 153, dtype: int64\n"
          ]
        }
      ]
    },
    {
      "cell_type": "code",
      "source": [
        "# @title\n",
        "# replace missing/null values\n",
        "NCvsAD = impute_missing_numerical(NCvsAD)\n",
        "\n",
        "# check for null values\n",
        "nan_counts = NCvsAD.isna().sum()\n",
        "nan_columns = nan_counts[nan_counts > 0]\n",
        "print(nan_columns)"
      ],
      "metadata": {
        "colab": {
          "base_uri": "https://localhost:8080/"
        },
        "outputId": "3cb1bcb1-b999-4c0d-f567-fc8f839dce1f",
        "id": "1qycydkOl13b"
      },
      "execution_count": null,
      "outputs": [
        {
          "output_type": "stream",
          "name": "stdout",
          "text": [
            "Series([], dtype: int64)\n"
          ]
        }
      ]
    },
    {
      "cell_type": "markdown",
      "source": [
        "### Removing Unmeaning Featues\n",
        "This process removes features that lack variability, i.e., 90% or more of the values in the column are the same, which might not contribute significantly to the predictive power of a model\n"
      ],
      "metadata": {
        "id": "F3sShiccl13c"
      }
    },
    {
      "cell_type": "code",
      "source": [
        "# @title\n",
        "NCvsAD = remove_unmeaning(NCvsAD)\n",
        "\n",
        "# check\n",
        "NCvsAD.info()"
      ],
      "metadata": {
        "colab": {
          "base_uri": "https://localhost:8080/"
        },
        "outputId": "9c82c5bd-85b0-4759-8f0a-b9c8a24fa8f1",
        "id": "ilu-sQiVl13c"
      },
      "execution_count": null,
      "outputs": [
        {
          "output_type": "stream",
          "name": "stdout",
          "text": [
            "<class 'pandas.core.frame.DataFrame'>\n",
            "Index: 150092 entries, 2 to 192087\n",
            "Data columns (total 74 columns):\n",
            " #   Column    Non-Null Count   Dtype  \n",
            "---  ------    --------------   -----  \n",
            " 0   NACCID    150092 non-null  object \n",
            " 1   NACCVNUM  150092 non-null  float64\n",
            " 2   NACCBMI   150092 non-null  float64\n",
            " 3   BPSYS     150092 non-null  float64\n",
            " 4   BPDIAS    150092 non-null  float64\n",
            " 5   HRATE     150092 non-null  float64\n",
            " 6   VISION    150092 non-null  float64\n",
            " 7   VISCORR   150092 non-null  float64\n",
            " 8   VISWCORR  150092 non-null  float64\n",
            " 9   HEARING   150092 non-null  float64\n",
            " 10  HEARAID   150092 non-null  float64\n",
            " 11  HEARWAID  150092 non-null  float64\n",
            " 12  MEMORY    150092 non-null  float64\n",
            " 13  ORIENT    150092 non-null  float64\n",
            " 14  JUDGMENT  150092 non-null  float64\n",
            " 15  COMMUN    150092 non-null  float64\n",
            " 16  HOMEHOBB  150092 non-null  float64\n",
            " 17  PERSCARE  150092 non-null  float64\n",
            " 18  COMPORT   150092 non-null  float64\n",
            " 19  CDRLANG   150092 non-null  float64\n",
            " 20  TOBAC100  150092 non-null  float64\n",
            " 21  SMOKYRS   150092 non-null  float64\n",
            " 22  PACKSPER  150092 non-null  float64\n",
            " 23  QUITSMOK  150092 non-null  float64\n",
            " 24  HYPERTEN  150092 non-null  float64\n",
            " 25  HYPERCHO  150092 non-null  float64\n",
            " 26  THYROID   150092 non-null  float64\n",
            " 27  INCONTU   150092 non-null  float64\n",
            " 28  DEP2YRS   150092 non-null  float64\n",
            " 29  DEPOTHR   150092 non-null  float64\n",
            " 30  DROPACT   150092 non-null  float64\n",
            " 31  STAYHOME  150092 non-null  float64\n",
            " 32  MEMPROB   150092 non-null  float64\n",
            " 33  ENERGY    150092 non-null  float64\n",
            " 34  NACCGDS   150092 non-null  float64\n",
            " 35  NPIQINF   150092 non-null  float64\n",
            " 36  NPIQINFX  150092 non-null  object \n",
            " 37  AGIT      150092 non-null  float64\n",
            " 38  AGITSEV   150092 non-null  float64\n",
            " 39  DEPD      150092 non-null  float64\n",
            " 40  DEPDSEV   150092 non-null  float64\n",
            " 41  ANX       150092 non-null  float64\n",
            " 42  ANXSEV    150092 non-null  float64\n",
            " 43  APA       150092 non-null  float64\n",
            " 44  APASEV    150092 non-null  float64\n",
            " 45  DISN      150092 non-null  float64\n",
            " 46  DISNSEV   150092 non-null  float64\n",
            " 47  IRR       150092 non-null  float64\n",
            " 48  IRRSEV    150092 non-null  float64\n",
            " 49  MOT       150092 non-null  float64\n",
            " 50  MOTSEV    150092 non-null  float64\n",
            " 51  NITE      150092 non-null  float64\n",
            " 52  NITESEV   150092 non-null  float64\n",
            " 53  APP       150092 non-null  float64\n",
            " 54  APPSEV    150092 non-null  float64\n",
            " 55  BILLS     150092 non-null  float64\n",
            " 56  TAXES     150092 non-null  float64\n",
            " 57  SHOPPING  150092 non-null  float64\n",
            " 58  GAMES     150092 non-null  float64\n",
            " 59  STOVE     150092 non-null  float64\n",
            " 60  MEALPREP  150092 non-null  float64\n",
            " 61  EVENTS    150092 non-null  float64\n",
            " 62  PAYATTN   150092 non-null  float64\n",
            " 63  TRAVEL    150092 non-null  float64\n",
            " 64  SEX       150092 non-null  float64\n",
            " 65  RACE      150092 non-null  float64\n",
            " 66  EDUC      150092 non-null  float64\n",
            " 67  MARISTAT  150092 non-null  float64\n",
            " 68  NACCLIVS  150092 non-null  float64\n",
            " 69  INDEPEND  150092 non-null  float64\n",
            " 70  RESIDENC  150092 non-null  float64\n",
            " 71  NACCAGE   150092 non-null  float64\n",
            " 72  NACCNIHR  150092 non-null  float64\n",
            " 73  NACCUDSD  150092 non-null  float64\n",
            "dtypes: float64(72), object(2)\n",
            "memory usage: 85.9+ MB\n"
          ]
        }
      ]
    },
    {
      "cell_type": "markdown",
      "source": [
        "### Removing Outliers"
      ],
      "metadata": {
        "id": "hwH_KqPAl13d"
      }
    },
    {
      "cell_type": "code",
      "source": [
        "# @title\n",
        "# Apply remove_outliers function\n",
        "for col in NCvsAD.columns:\n",
        "  if NCvsAD[col].dtype in ['int64', 'float64']:\n",
        "    NCvsAD = remove_outliers(NCvsAD, col)"
      ],
      "metadata": {
        "id": "PmSrDKGol13d"
      },
      "execution_count": null,
      "outputs": []
    },
    {
      "cell_type": "markdown",
      "source": [
        "### Addressing Object Variables"
      ],
      "metadata": {
        "id": "QABYzjJ8l13d"
      }
    },
    {
      "cell_type": "code",
      "source": [
        "# @title\n",
        "for col in NCvsAD.columns:\n",
        "  if NCvsAD[col].dtype in ['object']:\n",
        "    print (col)"
      ],
      "metadata": {
        "colab": {
          "base_uri": "https://localhost:8080/"
        },
        "outputId": "63334552-c765-4dc2-c7e9-a743b7b6a598",
        "id": "MuiSuy3ql13e"
      },
      "execution_count": null,
      "outputs": [
        {
          "output_type": "stream",
          "name": "stdout",
          "text": [
            "NACCID\n",
            "NPIQINFX\n"
          ]
        }
      ]
    },
    {
      "cell_type": "markdown",
      "source": [
        "The 'NPIQINFX' column metadata reads that it is information on the subject's co-participant. This does not necessarily affect diagnosis from a health perspective. Hence we drop it.\n",
        "\n",
        "We also drop the 'NACCID' object column as it is not relevant to diagnosis"
      ],
      "metadata": {
        "id": "r6euCZz0l13e"
      }
    },
    {
      "cell_type": "code",
      "source": [
        "# @title\n",
        "NCvsAD = NCvsAD.drop(['NACCID', 'NPIQINFX'], axis=1)\n",
        "\n",
        "NCvsAD.info()"
      ],
      "metadata": {
        "colab": {
          "base_uri": "https://localhost:8080/"
        },
        "outputId": "5a67f9e7-29dd-46d2-8342-9315a4cfbc6d",
        "id": "rPMB4fLRl13e"
      },
      "execution_count": null,
      "outputs": [
        {
          "output_type": "stream",
          "name": "stdout",
          "text": [
            "<class 'pandas.core.frame.DataFrame'>\n",
            "Index: 150092 entries, 2 to 192087\n",
            "Data columns (total 72 columns):\n",
            " #   Column    Non-Null Count   Dtype  \n",
            "---  ------    --------------   -----  \n",
            " 0   NACCVNUM  150092 non-null  float64\n",
            " 1   NACCBMI   150092 non-null  float64\n",
            " 2   BPSYS     150092 non-null  float64\n",
            " 3   BPDIAS    150092 non-null  float64\n",
            " 4   HRATE     150092 non-null  float64\n",
            " 5   VISION    150092 non-null  float64\n",
            " 6   VISCORR   150092 non-null  float64\n",
            " 7   VISWCORR  150092 non-null  float64\n",
            " 8   HEARING   150092 non-null  float64\n",
            " 9   HEARAID   150092 non-null  float64\n",
            " 10  HEARWAID  150092 non-null  float64\n",
            " 11  MEMORY    150092 non-null  float64\n",
            " 12  ORIENT    150092 non-null  float64\n",
            " 13  JUDGMENT  150092 non-null  float64\n",
            " 14  COMMUN    150092 non-null  float64\n",
            " 15  HOMEHOBB  150092 non-null  float64\n",
            " 16  PERSCARE  150092 non-null  float64\n",
            " 17  COMPORT   150092 non-null  float64\n",
            " 18  CDRLANG   150092 non-null  float64\n",
            " 19  TOBAC100  150092 non-null  float64\n",
            " 20  SMOKYRS   150092 non-null  float64\n",
            " 21  PACKSPER  150092 non-null  float64\n",
            " 22  QUITSMOK  150092 non-null  float64\n",
            " 23  HYPERTEN  150092 non-null  float64\n",
            " 24  HYPERCHO  150092 non-null  float64\n",
            " 25  THYROID   150092 non-null  float64\n",
            " 26  INCONTU   150092 non-null  float64\n",
            " 27  DEP2YRS   150092 non-null  float64\n",
            " 28  DEPOTHR   150092 non-null  float64\n",
            " 29  DROPACT   150092 non-null  float64\n",
            " 30  STAYHOME  150092 non-null  float64\n",
            " 31  MEMPROB   150092 non-null  float64\n",
            " 32  ENERGY    150092 non-null  float64\n",
            " 33  NACCGDS   150092 non-null  float64\n",
            " 34  NPIQINF   150092 non-null  float64\n",
            " 35  AGIT      150092 non-null  float64\n",
            " 36  AGITSEV   150092 non-null  float64\n",
            " 37  DEPD      150092 non-null  float64\n",
            " 38  DEPDSEV   150092 non-null  float64\n",
            " 39  ANX       150092 non-null  float64\n",
            " 40  ANXSEV    150092 non-null  float64\n",
            " 41  APA       150092 non-null  float64\n",
            " 42  APASEV    150092 non-null  float64\n",
            " 43  DISN      150092 non-null  float64\n",
            " 44  DISNSEV   150092 non-null  float64\n",
            " 45  IRR       150092 non-null  float64\n",
            " 46  IRRSEV    150092 non-null  float64\n",
            " 47  MOT       150092 non-null  float64\n",
            " 48  MOTSEV    150092 non-null  float64\n",
            " 49  NITE      150092 non-null  float64\n",
            " 50  NITESEV   150092 non-null  float64\n",
            " 51  APP       150092 non-null  float64\n",
            " 52  APPSEV    150092 non-null  float64\n",
            " 53  BILLS     150092 non-null  float64\n",
            " 54  TAXES     150092 non-null  float64\n",
            " 55  SHOPPING  150092 non-null  float64\n",
            " 56  GAMES     150092 non-null  float64\n",
            " 57  STOVE     150092 non-null  float64\n",
            " 58  MEALPREP  150092 non-null  float64\n",
            " 59  EVENTS    150092 non-null  float64\n",
            " 60  PAYATTN   150092 non-null  float64\n",
            " 61  TRAVEL    150092 non-null  float64\n",
            " 62  SEX       150092 non-null  float64\n",
            " 63  RACE      150092 non-null  float64\n",
            " 64  EDUC      150092 non-null  float64\n",
            " 65  MARISTAT  150092 non-null  float64\n",
            " 66  NACCLIVS  150092 non-null  float64\n",
            " 67  INDEPEND  150092 non-null  float64\n",
            " 68  RESIDENC  150092 non-null  float64\n",
            " 69  NACCAGE   150092 non-null  float64\n",
            " 70  NACCNIHR  150092 non-null  float64\n",
            " 71  NACCUDSD  150092 non-null  float64\n",
            "dtypes: float64(72)\n",
            "memory usage: 83.6 MB\n"
          ]
        }
      ]
    },
    {
      "cell_type": "markdown",
      "source": [
        "## Feature Selection"
      ],
      "metadata": {
        "id": "rZ4d-_odl13f"
      }
    },
    {
      "cell_type": "markdown",
      "source": [
        "We conduct Spearman's Rank Correlation since it's applicable to both discrete and continuous data"
      ],
      "metadata": {
        "id": "hKEZ_EsjnPQf"
      }
    },
    {
      "cell_type": "code",
      "source": [
        "# @title\n",
        "from scipy.stats import spearmanr\n",
        "\n",
        "del features_to_keep\n",
        "features_to_keep = []\n",
        "\n",
        "for col in NCvsAD.columns:\n",
        "  if NCvsAD[col].dtype in ['int64', 'float64']:\n",
        "    corr, _ = spearmanr(NCvsAD[col], NCvsAD['NACCUDSD'])\n",
        "    if abs(corr) > 0.1:\n",
        "      features_to_keep.append(col)\n",
        "\n",
        "print(features_to_keep)\n"
      ],
      "metadata": {
        "colab": {
          "base_uri": "https://localhost:8080/"
        },
        "id": "47GNVokbl13f",
        "outputId": "99494245-8666-4d71-e714-d72e930fbc69"
      },
      "execution_count": null,
      "outputs": [
        {
          "output_type": "stream",
          "name": "stderr",
          "text": [
            "<ipython-input-87-a847c3603e2d>:8: ConstantInputWarning: An input array is constant; the correlation coefficient is not defined.\n",
            "  corr, _ = spearmanr(NCvsAD[col], NCvsAD['NACCUDSD'])\n"
          ]
        },
        {
          "output_type": "stream",
          "name": "stdout",
          "text": [
            "['NACCVNUM', 'MEMORY', 'ORIENT', 'JUDGMENT', 'COMMUN', 'HOMEHOBB', 'NPIQINF', 'BILLS', 'TAXES', 'SHOPPING', 'GAMES', 'STOVE', 'MEALPREP', 'EVENTS', 'PAYATTN', 'TRAVEL', 'SEX', 'EDUC', 'INDEPEND', 'NACCUDSD']\n"
          ]
        }
      ]
    },
    {
      "cell_type": "markdown",
      "source": [
        "## Split into Training & Testing Sets"
      ],
      "metadata": {
        "id": "JezlrNUGl13f"
      }
    },
    {
      "cell_type": "code",
      "source": [
        "# @title\n",
        "X = NCvsAD[features_to_keep]\n",
        "y = NCvsAD['NACCUDSD']\n",
        "# First split: Training (70%) and Temporary set (30%)\n",
        "X_train, X_temp, y_train, y_temp = train_test_split(X, y, test_size=0.30, stratify=y, random_state=42)\n",
        "\n",
        "# Second split: Temporary set into Testing (15%) and Validation (15%)\n",
        "X_test, X_valid, y_test, y_valid = train_test_split(X_temp, y_temp, test_size=0.50, stratify=y_temp, random_state=42)\n",
        "del (X_temp, y_temp)\n",
        "\n",
        "print(f\"Training set shape: {X_train.shape}, {y_train.shape}\")\n",
        "print(f\"Validation set shape: {X_valid.shape}, {y_valid.shape}\")\n",
        "print(f\"Test set shape: {X_test.shape}, {y_test.shape}\")"
      ],
      "metadata": {
        "colab": {
          "base_uri": "https://localhost:8080/"
        },
        "outputId": "2ba8da82-4d53-4552-e416-7715c0fbb015",
        "id": "ZSfEFJRyl13f"
      },
      "execution_count": null,
      "outputs": [
        {
          "output_type": "stream",
          "name": "stdout",
          "text": [
            "Training set shape: (105064, 20), (105064,)\n",
            "Validation set shape: (22514, 20), (22514,)\n",
            "Test set shape: (22514, 20), (22514,)\n"
          ]
        }
      ]
    },
    {
      "cell_type": "markdown",
      "source": [
        "## Modeling & Testing"
      ],
      "metadata": {
        "id": "RfhgMCkLl13g"
      }
    },
    {
      "cell_type": "code",
      "source": [
        "# @title\n",
        "trained_models = train_models(X_train, y_train)"
      ],
      "metadata": {
        "colab": {
          "base_uri": "https://localhost:8080/"
        },
        "outputId": "7cc7e50e-0010-406d-bee1-e91626ffe196",
        "id": "JMSZoVLPl13g"
      },
      "execution_count": null,
      "outputs": [
        {
          "output_type": "stream",
          "name": "stdout",
          "text": [
            "Random Forest model trained.\n",
            "KNN model trained.\n",
            "Naive Bayes model trained.\n",
            "SVM model trained.\n"
          ]
        }
      ]
    },
    {
      "cell_type": "code",
      "source": [
        "# @title\n",
        "validation_results = validate_models(trained_models, X_valid, y_valid)"
      ],
      "metadata": {
        "colab": {
          "base_uri": "https://localhost:8080/"
        },
        "outputId": "d428d625-f163-43b5-fd9d-02a5891bc984",
        "id": "08mKDiaFl13g"
      },
      "execution_count": null,
      "outputs": [
        {
          "output_type": "stream",
          "name": "stdout",
          "text": [
            "Random Forest validation accuracy: 1.0000\n",
            "KNN validation accuracy: 1.0000\n",
            "Naive Bayes validation accuracy: 1.0000\n",
            "SVM validation accuracy: 1.0000\n"
          ]
        }
      ]
    },
    {
      "cell_type": "code",
      "source": [
        "# @title\n",
        "test_results = test_models(trained_models, X_test, y_test)"
      ],
      "metadata": {
        "colab": {
          "base_uri": "https://localhost:8080/"
        },
        "outputId": "037ac857-71e4-4fbf-a01d-5bff2c3bd170",
        "id": "TKeTfcahl13h"
      },
      "execution_count": null,
      "outputs": [
        {
          "output_type": "stream",
          "name": "stdout",
          "text": [
            "Random Forest test accuracy: 1.0000\n",
            "Random Forest classification report:\n",
            "\n",
            "              precision    recall  f1-score   support\n",
            "\n",
            "         1.0       1.00      1.00      1.00     13960\n",
            "         4.0       1.00      1.00      1.00      8554\n",
            "\n",
            "    accuracy                           1.00     22514\n",
            "   macro avg       1.00      1.00      1.00     22514\n",
            "weighted avg       1.00      1.00      1.00     22514\n",
            "\n",
            "KNN test accuracy: 0.9999\n",
            "KNN classification report:\n",
            "\n",
            "              precision    recall  f1-score   support\n",
            "\n",
            "         1.0       1.00      1.00      1.00     13960\n",
            "         4.0       1.00      1.00      1.00      8554\n",
            "\n",
            "    accuracy                           1.00     22514\n",
            "   macro avg       1.00      1.00      1.00     22514\n",
            "weighted avg       1.00      1.00      1.00     22514\n",
            "\n",
            "Naive Bayes test accuracy: 1.0000\n",
            "Naive Bayes classification report:\n",
            "\n",
            "              precision    recall  f1-score   support\n",
            "\n",
            "         1.0       1.00      1.00      1.00     13960\n",
            "         4.0       1.00      1.00      1.00      8554\n",
            "\n",
            "    accuracy                           1.00     22514\n",
            "   macro avg       1.00      1.00      1.00     22514\n",
            "weighted avg       1.00      1.00      1.00     22514\n",
            "\n",
            "SVM test accuracy: 1.0000\n",
            "SVM classification report:\n",
            "\n",
            "              precision    recall  f1-score   support\n",
            "\n",
            "         1.0       1.00      1.00      1.00     13960\n",
            "         4.0       1.00      1.00      1.00      8554\n",
            "\n",
            "    accuracy                           1.00     22514\n",
            "   macro avg       1.00      1.00      1.00     22514\n",
            "weighted avg       1.00      1.00      1.00     22514\n",
            "\n"
          ]
        }
      ]
    },
    {
      "cell_type": "markdown",
      "source": [
        "# NC vs MCI Continuous"
      ],
      "metadata": {
        "id": "cpcqJamll13h"
      }
    },
    {
      "cell_type": "markdown",
      "source": [
        "## NCvsMCI - Prepocessing"
      ],
      "metadata": {
        "id": "padvO9LAl13h"
      }
    },
    {
      "cell_type": "markdown",
      "source": [
        "### Addressing Missing/Null Values"
      ],
      "metadata": {
        "id": "qPDZk2dKl13h"
      }
    },
    {
      "cell_type": "markdown",
      "source": [
        "#### Replacing categorical null values\n",
        "In this particular dataset, the missing/null value in the object columns conveys important information. Hence, we address their missing values by replacing them with a \"empty\" category."
      ],
      "metadata": {
        "id": "d_QKZTJCl13i"
      }
    },
    {
      "cell_type": "code",
      "source": [
        "# @title\n",
        "# check for null values\n",
        "nan_counts = NCvsMCI.isna().sum()\n",
        "nan_columns = nan_counts[nan_counts > 0]\n",
        "print(nan_columns)"
      ],
      "metadata": {
        "colab": {
          "base_uri": "https://localhost:8080/"
        },
        "outputId": "1ca5aa30-f593-461f-8ed6-a28f5f1891c6",
        "id": "t7TT7YFdl13i"
      },
      "execution_count": null,
      "outputs": [
        {
          "output_type": "stream",
          "name": "stdout",
          "text": [
            "BPSYS          319\n",
            "BPDIAS         319\n",
            "HRATE          319\n",
            "CVOTHRX     116931\n",
            "NCOTHRX     123138\n",
            "ARTHTYPX    126433\n",
            "OTHSLEEX    126199\n",
            "ABUSX       125728\n",
            "PSYCDISX    122028\n",
            "NPIQINFX     95064\n",
            "HISPORX     126232\n",
            "RACEX       125595\n",
            "RACESECX    126358\n",
            "RACETERX    126588\n",
            "PRIMLANX    124981\n",
            "dtype: int64\n"
          ]
        }
      ]
    },
    {
      "cell_type": "code",
      "source": [
        "# @title\n",
        "# replace Null values with \"empty\" category\n",
        "NCvsMCI = impute_missing_categorical(NCvsMCI)\n",
        "\n",
        "# check for null values\n",
        "nan_counts = NCvsMCI.isna().sum()\n",
        "nan_columns = nan_counts[nan_counts > 0]\n",
        "print(nan_columns)"
      ],
      "metadata": {
        "colab": {
          "base_uri": "https://localhost:8080/"
        },
        "outputId": "56712c2c-c883-4b44-de7d-7da55c82c648",
        "id": "EFJps52El13i"
      },
      "execution_count": null,
      "outputs": [
        {
          "output_type": "stream",
          "name": "stdout",
          "text": [
            "BPSYS     319\n",
            "BPDIAS    319\n",
            "HRATE     319\n",
            "dtype: int64\n"
          ]
        }
      ]
    },
    {
      "cell_type": "markdown",
      "source": [
        "#### Replacing Numerical Missing/Null Values\n",
        "There are certain numerical values that represent missing/unkown values (i.e., 888.8, 88.8, 8.8, 9, 99, 999, 88, 888, -4 and 8888).\n",
        "Hence we replace these values with NaN values to preserve data integrity\n",
        "\n"
      ],
      "metadata": {
        "id": "pZgrhPV6l13i"
      }
    },
    {
      "cell_type": "code",
      "source": [
        "# @title\n",
        "NCvsMCI = replace_with_nan(NCvsMCI)\n",
        "\n",
        "# check for null values\n",
        "nan_counts = NCvsMCI.isna().sum()\n",
        "nan_columns = nan_counts[nan_counts > 0]\n",
        "print(nan_columns)"
      ],
      "metadata": {
        "colab": {
          "base_uri": "https://localhost:8080/"
        },
        "outputId": "0c98e773-ab25-4564-eaa0-f014ad99c840",
        "id": "_ovv7TRal13i"
      },
      "execution_count": null,
      "outputs": [
        {
          "output_type": "stream",
          "name": "stdout",
          "text": [
            "NACCVNUM     3726\n",
            "NACCBMI     20432\n",
            "BPSYS       21532\n",
            "BPDIAS      23483\n",
            "HRATE       22690\n",
            "            ...  \n",
            "INDEPEND      230\n",
            "RESIDENC     1675\n",
            "HANDED        682\n",
            "NACCAGE      2168\n",
            "NACCNIHR     1130\n",
            "Length: 153, dtype: int64\n"
          ]
        }
      ]
    },
    {
      "cell_type": "code",
      "source": [
        "# @title\n",
        "# replace missing/null values\n",
        "NCvsMCI = impute_missing_numerical(NCvsMCI)\n",
        "\n",
        "# check for null values\n",
        "nan_counts = NCvsMCI.isna().sum()\n",
        "nan_columns = nan_counts[nan_counts > 0]\n",
        "print(nan_columns)"
      ],
      "metadata": {
        "colab": {
          "base_uri": "https://localhost:8080/"
        },
        "outputId": "375dc762-4496-4614-c6cc-d132102fd0a6",
        "id": "HeqBRcVfl13i"
      },
      "execution_count": null,
      "outputs": [
        {
          "output_type": "stream",
          "name": "stdout",
          "text": [
            "Series([], dtype: int64)\n"
          ]
        }
      ]
    },
    {
      "cell_type": "markdown",
      "source": [
        "### Removing Unmeaning Featues\n",
        "This process removes features that lack variability, i.e., 90% or more of the values in the column are the same, which might not contribute significantly to the predictive power of a model\n"
      ],
      "metadata": {
        "id": "OSx-dI9sl13j"
      }
    },
    {
      "cell_type": "code",
      "source": [
        "# @title\n",
        "NCvsMCI = remove_unmeaning(NCvsMCI)\n",
        "\n",
        "# check\n",
        "NCvsMCI.info()"
      ],
      "metadata": {
        "colab": {
          "base_uri": "https://localhost:8080/"
        },
        "outputId": "29519636-fe3d-49f0-eac1-83ae5b897631",
        "id": "oqqbgKYul13j"
      },
      "execution_count": null,
      "outputs": [
        {
          "output_type": "stream",
          "name": "stdout",
          "text": [
            "<class 'pandas.core.frame.DataFrame'>\n",
            "Index: 126611 entries, 0 to 192085\n",
            "Data columns (total 53 columns):\n",
            " #   Column    Non-Null Count   Dtype  \n",
            "---  ------    --------------   -----  \n",
            " 0   NACCID    126611 non-null  object \n",
            " 1   NACCVNUM  126611 non-null  float64\n",
            " 2   NACCBMI   126611 non-null  float64\n",
            " 3   BPSYS     126611 non-null  float64\n",
            " 4   BPDIAS    126611 non-null  float64\n",
            " 5   HRATE     126611 non-null  float64\n",
            " 6   VISION    126611 non-null  float64\n",
            " 7   VISCORR   126611 non-null  float64\n",
            " 8   VISWCORR  126611 non-null  float64\n",
            " 9   HEARING   126611 non-null  float64\n",
            " 10  HEARAID   126611 non-null  float64\n",
            " 11  HEARWAID  126611 non-null  float64\n",
            " 12  MEMORY    126611 non-null  float64\n",
            " 13  JUDGMENT  126611 non-null  float64\n",
            " 14  TOBAC100  126611 non-null  float64\n",
            " 15  SMOKYRS   126611 non-null  float64\n",
            " 16  PACKSPER  126611 non-null  float64\n",
            " 17  QUITSMOK  126611 non-null  float64\n",
            " 18  HYPERTEN  126611 non-null  float64\n",
            " 19  HYPERCHO  126611 non-null  float64\n",
            " 20  THYROID   126611 non-null  float64\n",
            " 21  INCONTU   126611 non-null  float64\n",
            " 22  DEP2YRS   126611 non-null  float64\n",
            " 23  DEPOTHR   126611 non-null  float64\n",
            " 24  DROPACT   126611 non-null  float64\n",
            " 25  STAYHOME  126611 non-null  float64\n",
            " 26  MEMPROB   126611 non-null  float64\n",
            " 27  ENERGY    126611 non-null  float64\n",
            " 28  NACCGDS   126611 non-null  float64\n",
            " 29  NPIQINF   126611 non-null  float64\n",
            " 30  NPIQINFX  126611 non-null  object \n",
            " 31  DEPD      126611 non-null  float64\n",
            " 32  DEPDSEV   126611 non-null  float64\n",
            " 33  ANX       126611 non-null  float64\n",
            " 34  ANXSEV    126611 non-null  float64\n",
            " 35  IRR       126611 non-null  float64\n",
            " 36  IRRSEV    126611 non-null  float64\n",
            " 37  NITE      126611 non-null  float64\n",
            " 38  NITESEV   126611 non-null  float64\n",
            " 39  BILLS     126611 non-null  float64\n",
            " 40  TAXES     126611 non-null  float64\n",
            " 41  GAMES     126611 non-null  float64\n",
            " 42  MEALPREP  126611 non-null  float64\n",
            " 43  TRAVEL    126611 non-null  float64\n",
            " 44  SEX       126611 non-null  float64\n",
            " 45  RACE      126611 non-null  float64\n",
            " 46  EDUC      126611 non-null  float64\n",
            " 47  MARISTAT  126611 non-null  float64\n",
            " 48  NACCLIVS  126611 non-null  float64\n",
            " 49  HANDED    126611 non-null  float64\n",
            " 50  NACCAGE   126611 non-null  float64\n",
            " 51  NACCNIHR  126611 non-null  float64\n",
            " 52  NACCUDSD  126611 non-null  float64\n",
            "dtypes: float64(51), object(2)\n",
            "memory usage: 52.2+ MB\n"
          ]
        }
      ]
    },
    {
      "cell_type": "markdown",
      "source": [
        "### Removing Outliers"
      ],
      "metadata": {
        "id": "TlkQIDuEl13j"
      }
    },
    {
      "cell_type": "code",
      "source": [
        "# @title\n",
        "# Apply remove_outliers function\n",
        "for col in NCvsMCI.columns:\n",
        "  if NCvsMCI[col].dtype in ['int64', 'float64']:\n",
        "    NCvsMCI = remove_outliers(NCvsMCI, col)"
      ],
      "metadata": {
        "id": "TXLSgHPSl13j"
      },
      "execution_count": null,
      "outputs": []
    },
    {
      "cell_type": "markdown",
      "source": [
        "### Addressing Object Variables"
      ],
      "metadata": {
        "id": "_P0RMzijl13j"
      }
    },
    {
      "cell_type": "code",
      "source": [
        "# @title\n",
        "for col in NCvsMCI.columns:\n",
        "  if NCvsMCI[col].dtype in ['object']:\n",
        "    print (col)"
      ],
      "metadata": {
        "colab": {
          "base_uri": "https://localhost:8080/"
        },
        "outputId": "dd535520-deff-4895-a375-4a86ca0550e6",
        "id": "ayh-EKM-l13j"
      },
      "execution_count": null,
      "outputs": [
        {
          "output_type": "stream",
          "name": "stdout",
          "text": [
            "NACCID\n",
            "NPIQINFX\n"
          ]
        }
      ]
    },
    {
      "cell_type": "markdown",
      "source": [
        "The 'NPIQINFX' column metadata reads that it is information on the subject's co-participant. This does not necessarily affect diagnosis from a health perspective. Hence we drop it.\n",
        "\n",
        "We also drop the 'NACCID' object column as it is not relevant to diagnosis"
      ],
      "metadata": {
        "id": "ngykJkA_l13k"
      }
    },
    {
      "cell_type": "code",
      "source": [
        "# @title\n",
        "NCvsMCI = NCvsMCI.drop(['NACCID', 'NPIQINFX'], axis=1)\n",
        "\n",
        "NCvsMCI.info()"
      ],
      "metadata": {
        "colab": {
          "base_uri": "https://localhost:8080/"
        },
        "outputId": "1c4f3e16-7326-4ed2-b09d-c272d53700a6",
        "id": "pxTm-1o0l13k"
      },
      "execution_count": null,
      "outputs": [
        {
          "output_type": "stream",
          "name": "stdout",
          "text": [
            "<class 'pandas.core.frame.DataFrame'>\n",
            "Index: 126611 entries, 0 to 192085\n",
            "Data columns (total 51 columns):\n",
            " #   Column    Non-Null Count   Dtype  \n",
            "---  ------    --------------   -----  \n",
            " 0   NACCVNUM  126611 non-null  float64\n",
            " 1   NACCBMI   126611 non-null  float64\n",
            " 2   BPSYS     126611 non-null  float64\n",
            " 3   BPDIAS    126611 non-null  float64\n",
            " 4   HRATE     126611 non-null  float64\n",
            " 5   VISION    126611 non-null  float64\n",
            " 6   VISCORR   126611 non-null  float64\n",
            " 7   VISWCORR  126611 non-null  float64\n",
            " 8   HEARING   126611 non-null  float64\n",
            " 9   HEARAID   126611 non-null  float64\n",
            " 10  HEARWAID  126611 non-null  float64\n",
            " 11  MEMORY    126611 non-null  float64\n",
            " 12  JUDGMENT  126611 non-null  float64\n",
            " 13  TOBAC100  126611 non-null  float64\n",
            " 14  SMOKYRS   126611 non-null  float64\n",
            " 15  PACKSPER  126611 non-null  float64\n",
            " 16  QUITSMOK  126611 non-null  float64\n",
            " 17  HYPERTEN  126611 non-null  float64\n",
            " 18  HYPERCHO  126611 non-null  float64\n",
            " 19  THYROID   126611 non-null  float64\n",
            " 20  INCONTU   126611 non-null  float64\n",
            " 21  DEP2YRS   126611 non-null  float64\n",
            " 22  DEPOTHR   126611 non-null  float64\n",
            " 23  DROPACT   126611 non-null  float64\n",
            " 24  STAYHOME  126611 non-null  float64\n",
            " 25  MEMPROB   126611 non-null  float64\n",
            " 26  ENERGY    126611 non-null  float64\n",
            " 27  NACCGDS   126611 non-null  float64\n",
            " 28  NPIQINF   126611 non-null  float64\n",
            " 29  DEPD      126611 non-null  float64\n",
            " 30  DEPDSEV   126611 non-null  float64\n",
            " 31  ANX       126611 non-null  float64\n",
            " 32  ANXSEV    126611 non-null  float64\n",
            " 33  IRR       126611 non-null  float64\n",
            " 34  IRRSEV    126611 non-null  float64\n",
            " 35  NITE      126611 non-null  float64\n",
            " 36  NITESEV   126611 non-null  float64\n",
            " 37  BILLS     126611 non-null  float64\n",
            " 38  TAXES     126611 non-null  float64\n",
            " 39  GAMES     126611 non-null  float64\n",
            " 40  MEALPREP  126611 non-null  float64\n",
            " 41  TRAVEL    126611 non-null  float64\n",
            " 42  SEX       126611 non-null  float64\n",
            " 43  RACE      126611 non-null  float64\n",
            " 44  EDUC      126611 non-null  float64\n",
            " 45  MARISTAT  126611 non-null  float64\n",
            " 46  NACCLIVS  126611 non-null  float64\n",
            " 47  HANDED    126611 non-null  float64\n",
            " 48  NACCAGE   126611 non-null  float64\n",
            " 49  NACCNIHR  126611 non-null  float64\n",
            " 50  NACCUDSD  126611 non-null  float64\n",
            "dtypes: float64(51)\n",
            "memory usage: 50.2 MB\n"
          ]
        }
      ]
    },
    {
      "cell_type": "markdown",
      "source": [
        "## Feature Selection"
      ],
      "metadata": {
        "id": "ycSnKp2Al13k"
      }
    },
    {
      "cell_type": "markdown",
      "source": [
        "We conduct Spearman's Rank Correlation since it's applicable to both discrete and continuous data"
      ],
      "metadata": {
        "id": "YtJwrBfHsYkb"
      }
    },
    {
      "cell_type": "code",
      "source": [
        "# @title\n",
        "del features_to_keep\n",
        "features_to_keep = []\n",
        "\n",
        "for col in NCvsMCI.columns:\n",
        "  if NCvsMCI[col].dtype in ['int64', 'float64']:\n",
        "    corr, _ = spearmanr(NCvsMCI[col], NCvsMCI['NACCUDSD'])\n",
        "    if abs(corr) > 0.1:\n",
        "      features_to_keep.append(col)\n",
        "\n",
        "print(features_to_keep)\n"
      ],
      "metadata": {
        "colab": {
          "base_uri": "https://localhost:8080/"
        },
        "outputId": "0f70422b-4035-4e7e-9825-89880bf5e1d0",
        "id": "-h3S89vusYkc"
      },
      "execution_count": null,
      "outputs": [
        {
          "output_type": "stream",
          "name": "stderr",
          "text": [
            "<ipython-input-106-3b56db45d5b9>:6: ConstantInputWarning: An input array is constant; the correlation coefficient is not defined.\n",
            "  corr, _ = spearmanr(NCvsMCI[col], NCvsMCI['NACCUDSD'])\n"
          ]
        },
        {
          "output_type": "stream",
          "name": "stdout",
          "text": [
            "['NACCVNUM', 'MEMORY', 'NACCGDS', 'SEX', 'NACCUDSD']\n"
          ]
        }
      ]
    },
    {
      "cell_type": "markdown",
      "source": [
        "## Split into Training & Testing Sets"
      ],
      "metadata": {
        "id": "7km811OCl13l"
      }
    },
    {
      "cell_type": "code",
      "source": [
        "# @title\n",
        "X = NCvsMCI[features_to_keep]\n",
        "y = NCvsMCI['NACCUDSD']\n",
        "# First split: Training (70%) and Temporary set (30%)\n",
        "X_train, X_temp, y_train, y_temp = train_test_split(X, y, test_size=0.30, stratify=y, random_state=42)\n",
        "\n",
        "# Second split: Temporary set into Testing (15%) and Validation (15%)\n",
        "X_test, X_valid, y_test, y_valid = train_test_split(X_temp, y_temp, test_size=0.50, stratify=y_temp, random_state=42)\n",
        "del (X_temp, y_temp)\n",
        "\n",
        "print(f\"Training set shape: {X_train.shape}, {y_train.shape}\")\n",
        "print(f\"Validation set shape: {X_valid.shape}, {y_valid.shape}\")\n",
        "print(f\"Test set shape: {X_test.shape}, {y_test.shape}\")"
      ],
      "metadata": {
        "colab": {
          "base_uri": "https://localhost:8080/"
        },
        "outputId": "efe04d64-b158-49b1-ea22-76317796bb6a",
        "id": "ESP3Pkmfl13m"
      },
      "execution_count": null,
      "outputs": [
        {
          "output_type": "stream",
          "name": "stdout",
          "text": [
            "Training set shape: (88627, 5), (88627,)\n",
            "Validation set shape: (18992, 5), (18992,)\n",
            "Test set shape: (18992, 5), (18992,)\n"
          ]
        }
      ]
    },
    {
      "cell_type": "markdown",
      "source": [
        "## Modeling & Testing"
      ],
      "metadata": {
        "id": "7XC0Jb7Xl13m"
      }
    },
    {
      "cell_type": "code",
      "source": [
        "# @title\n",
        "trained_models = train_models(X_train, y_train)"
      ],
      "metadata": {
        "colab": {
          "base_uri": "https://localhost:8080/"
        },
        "outputId": "231bf950-2a26-490f-c6b8-648b4f172790",
        "id": "kMK6Cj_ol13m"
      },
      "execution_count": null,
      "outputs": [
        {
          "output_type": "stream",
          "name": "stdout",
          "text": [
            "Random Forest model trained.\n",
            "KNN model trained.\n",
            "Naive Bayes model trained.\n",
            "SVM model trained.\n"
          ]
        }
      ]
    },
    {
      "cell_type": "code",
      "source": [
        "# @title\n",
        "validation_results = validate_models(trained_models, X_valid, y_valid)"
      ],
      "metadata": {
        "colab": {
          "base_uri": "https://localhost:8080/"
        },
        "outputId": "50676915-b407-4b1e-dc7d-d37b4dee3a01",
        "id": "SJxwT7PDl13m"
      },
      "execution_count": null,
      "outputs": [
        {
          "output_type": "stream",
          "name": "stdout",
          "text": [
            "Random Forest validation accuracy: 1.0000\n",
            "KNN validation accuracy: 1.0000\n",
            "Naive Bayes validation accuracy: 1.0000\n",
            "SVM validation accuracy: 1.0000\n"
          ]
        }
      ]
    },
    {
      "cell_type": "code",
      "source": [
        "# @title\n",
        "test_results = test_models(trained_models, X_test, y_test)"
      ],
      "metadata": {
        "colab": {
          "base_uri": "https://localhost:8080/"
        },
        "outputId": "8c0eb5fe-88ea-4fb6-bc01-a5e83694dc6e",
        "id": "JDWI_oXTl13m"
      },
      "execution_count": null,
      "outputs": [
        {
          "output_type": "stream",
          "name": "stdout",
          "text": [
            "Random Forest test accuracy: 1.0000\n",
            "Random Forest classification report:\n",
            "\n",
            "              precision    recall  f1-score   support\n",
            "\n",
            "         1.0       1.00      1.00      1.00     13960\n",
            "         3.0       1.00      1.00      1.00      5032\n",
            "\n",
            "    accuracy                           1.00     18992\n",
            "   macro avg       1.00      1.00      1.00     18992\n",
            "weighted avg       1.00      1.00      1.00     18992\n",
            "\n",
            "KNN test accuracy: 1.0000\n",
            "KNN classification report:\n",
            "\n",
            "              precision    recall  f1-score   support\n",
            "\n",
            "         1.0       1.00      1.00      1.00     13960\n",
            "         3.0       1.00      1.00      1.00      5032\n",
            "\n",
            "    accuracy                           1.00     18992\n",
            "   macro avg       1.00      1.00      1.00     18992\n",
            "weighted avg       1.00      1.00      1.00     18992\n",
            "\n",
            "Naive Bayes test accuracy: 1.0000\n",
            "Naive Bayes classification report:\n",
            "\n",
            "              precision    recall  f1-score   support\n",
            "\n",
            "         1.0       1.00      1.00      1.00     13960\n",
            "         3.0       1.00      1.00      1.00      5032\n",
            "\n",
            "    accuracy                           1.00     18992\n",
            "   macro avg       1.00      1.00      1.00     18992\n",
            "weighted avg       1.00      1.00      1.00     18992\n",
            "\n",
            "SVM test accuracy: 1.0000\n",
            "SVM classification report:\n",
            "\n",
            "              precision    recall  f1-score   support\n",
            "\n",
            "         1.0       1.00      1.00      1.00     13960\n",
            "         3.0       1.00      1.00      1.00      5032\n",
            "\n",
            "    accuracy                           1.00     18992\n",
            "   macro avg       1.00      1.00      1.00     18992\n",
            "weighted avg       1.00      1.00      1.00     18992\n",
            "\n"
          ]
        }
      ]
    }
  ]
}